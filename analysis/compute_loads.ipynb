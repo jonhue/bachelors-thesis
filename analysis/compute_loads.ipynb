{
 "cells": [
  {
   "cell_type": "code",
   "execution_count": 1,
   "source": [
    "import pandas as pd\n",
    "import numpy as np\n",
    "import seaborn as sb\n",
    "from math import floor"
   ],
   "outputs": [],
   "metadata": {}
  },
  {
   "cell_type": "code",
   "execution_count": 2,
   "source": [
    "from traces.constants import SUBMISSION_TIME, START_TIME, END_TIME, JOB_TYPE, SOURCE"
   ],
   "outputs": [],
   "metadata": {}
  },
  {
   "cell_type": "markdown",
   "source": [
    "# Inputs"
   ],
   "metadata": {}
  },
  {
   "cell_type": "code",
   "execution_count": 3,
   "source": [
    "TRACE = 'traces/facebook/out/2009_0.csv'\n",
    "\n",
    "# time slot length\n",
    "DELTA = 60 * 60"
   ],
   "outputs": [],
   "metadata": {}
  },
  {
   "cell_type": "markdown",
   "source": [
    "# Constructing loads"
   ],
   "metadata": {}
  },
  {
   "cell_type": "code",
   "execution_count": 4,
   "source": [
    "t = pd.read_csv(TRACE)"
   ],
   "outputs": [],
   "metadata": {}
  },
  {
   "cell_type": "markdown",
   "source": [
    "## Determine load types"
   ],
   "metadata": {}
  },
  {
   "cell_type": "code",
   "execution_count": 5,
   "source": [
    "load_types = list(t[[JOB_TYPE, SOURCE]].drop_duplicates().itertuples(index=False, name=None))\n",
    "load_types"
   ],
   "outputs": [
    {
     "output_type": "execute_result",
     "data": {
      "text/plain": [
       "[(0, 0)]"
      ]
     },
     "metadata": {},
     "execution_count": 5
    }
   ],
   "metadata": {}
  },
  {
   "cell_type": "markdown",
   "source": [
    "## Compute loads per load type"
   ],
   "metadata": {}
  },
  {
   "cell_type": "code",
   "execution_count": 6,
   "source": [
    "all_loads = []\n",
    "l = t[SUBMISSION_TIME].min()\n",
    "u = t[SUBMISSION_TIME].max()\n",
    "bins = floor((u - l) / DELTA)\n",
    "for job_type, source in load_types:\n",
    "  sub_t = t[t[JOB_TYPE] == job_type][t[SOURCE] == source]\n",
    "  loads, _ = np.histogram(sub_t[SUBMISSION_TIME], bins=bins, range=(l,u))\n",
    "  all_loads.append(loads)\n",
    "all_loads = np.array(all_loads)"
   ],
   "outputs": [],
   "metadata": {}
  },
  {
   "cell_type": "markdown",
   "source": [
    "## Store computed loads"
   ],
   "metadata": {}
  },
  {
   "cell_type": "code",
   "execution_count": 7,
   "source": [
    "final_loads = np.transpose(all_loads)"
   ],
   "outputs": [],
   "metadata": {}
  },
  {
   "cell_type": "code",
   "execution_count": 8,
   "source": [
    "pd.DataFrame(final_loads, columns=load_types).to_csv('out/loads.csv', index=False)"
   ],
   "outputs": [],
   "metadata": {}
  }
 ],
 "metadata": {
  "orig_nbformat": 4,
  "language_info": {
   "name": "python",
   "version": "3.8.10",
   "mimetype": "text/x-python",
   "codemirror_mode": {
    "name": "ipython",
    "version": 3
   },
   "pygments_lexer": "ipython3",
   "nbconvert_exporter": "python",
   "file_extension": ".py"
  },
  "kernelspec": {
   "name": "python3",
   "display_name": "Python 3.8.10 64-bit ('venv': venv)"
  },
  "interpreter": {
   "hash": "bfb6e60757c36aad7e076b66c35f1b7ceb420a8f6d971dc47958a23072a9b46f"
  }
 },
 "nbformat": 4,
 "nbformat_minor": 2
}