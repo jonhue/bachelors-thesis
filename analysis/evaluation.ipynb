{
 "cells": [
  {
   "cell_type": "code",
   "execution_count": 1,
   "source": [
    "import numpy as np\n",
    "import matplotlib.pyplot as plt"
   ],
   "outputs": [],
   "metadata": {}
  },
  {
   "cell_type": "code",
   "execution_count": 2,
   "source": [
    "from lib.loads import parse_loads, convert_offline_to_online_input, select_load_from_last_day\n",
    "from lib.model import build_model, FACEBOOK_2009_0, FACEBOOK_2009_1, FACEBOOK_2010, LANL_MUSTANG, ALIBABA, ENERGY_MODEL_WIERMAN, ENERGY_MODEL_ALTERNATIVE\n",
    "from lib.utils import summarize_distribution, plot_cdf, plot"
   ],
   "outputs": [],
   "metadata": {}
  },
  {
   "cell_type": "code",
   "execution_count": 3,
   "source": [
    "# import logging\n",
    "\n",
    "# FORMAT = '%(levelname)s %(name)s %(asctime)-15s %(filename)s:%(lineno)d %(message)s'\n",
    "# logging.basicConfig(format=FORMAT)\n",
    "# logging.getLogger().setLevel(logging.DEBUG)"
   ],
   "outputs": [],
   "metadata": {}
  },
  {
   "cell_type": "code",
   "execution_count": 4,
   "source": [
    "TIME_SLOT_LENGTH = 60 * 60\n",
    "NORMALIZED_SWITCHING_COST = 4\n",
    "REVENUE_LOSS = 0.1"
   ],
   "outputs": [],
   "metadata": {}
  },
  {
   "cell_type": "code",
   "execution_count": 5,
   "source": [
    "TRACE = ALIBABA"
   ],
   "outputs": [],
   "metadata": {}
  },
  {
   "cell_type": "markdown",
   "source": [
    "# Model"
   ],
   "metadata": {}
  },
  {
   "cell_type": "code",
   "execution_count": 6,
   "source": [
    "model = build_model(\n",
    "  TRACE,\n",
    "  ENERGY_MODEL_WIERMAN,\n",
    "  TIME_SLOT_LENGTH,\n",
    "  NORMALIZED_SWITCHING_COST,\n",
    "  REVENUE_LOSS,\n",
    ")"
   ],
   "outputs": [],
   "metadata": {}
  },
  {
   "cell_type": "markdown",
   "source": [
    "# Inputs"
   ],
   "metadata": {}
  },
  {
   "cell_type": "code",
   "execution_count": 7,
   "source": [
    "offline_input = select_load_from_last_day(parse_loads(TRACE), TIME_SLOT_LENGTH)\n",
    "perfect_knowledge_online_input = convert_offline_to_online_input(offline_input)\n"
   ],
   "outputs": [],
   "metadata": {}
  },
  {
   "cell_type": "code",
   "execution_count": 8,
   "source": [
    "offline_input"
   ],
   "outputs": [
    {
     "output_type": "execute_result",
     "data": {
      "text/plain": [
       "[[77680, 12362, 105, 2319],\n",
       " [102062, 13705, 628, 6870],\n",
       " [71522, 10655, 164, 550],\n",
       " [24183, 3024, 33, 3440],\n",
       " [2, 0, 0, 0],\n",
       " [4, 0, 0, 0],\n",
       " [0, 0, 0, 0],\n",
       " [2, 0, 0, 0],\n",
       " [1, 0, 0, 0],\n",
       " [0, 0, 0, 0],\n",
       " [1, 0, 0, 0],\n",
       " [3, 0, 0, 0],\n",
       " [1, 0, 0, 0],\n",
       " [0, 0, 0, 0],\n",
       " [0, 0, 0, 0],\n",
       " [0, 0, 0, 0],\n",
       " [0, 0, 0, 0],\n",
       " [0, 0, 0, 0],\n",
       " [0, 0, 0, 0],\n",
       " [0, 0, 0, 0],\n",
       " [0, 0, 0, 0],\n",
       " [1, 0, 0, 0],\n",
       " [0, 0, 0, 0],\n",
       " [1, 0, 0, 0]]"
      ]
     },
     "metadata": {},
     "execution_count": 8
    }
   ],
   "metadata": {}
  },
  {
   "cell_type": "markdown",
   "source": [
    "# Execute"
   ],
   "metadata": {}
  },
  {
   "cell_type": "markdown",
   "source": [
    "## Offline"
   ],
   "metadata": {}
  },
  {
   "cell_type": "code",
   "execution_count": 9,
   "source": [
    "from lib.offline import evaluate_1d\n",
    "\n",
    "opt, iopt, runtime_opt, runtime_iopt = evaluate_1d(model, offline_input)"
   ],
   "outputs": [
    {
     "output_type": "stream",
     "name": "stderr",
     "text": [
      "INFO soco.bindings.data_center.offline 2021-08-02 19:40:47,528 offline.rs:60 1d Graph Search\n",
      "INFO soco.streaming.offline 2021-08-02 19:40:47,533 offline.rs:45 Generated a problem instance: SimplifiedSmoothedConvexOptimization { d: 1, t_end: 24, bounds: [4000], switching_cost: [4.0] }\n",
      "INFO soco.streaming.offline 2021-08-02 19:40:47,534 offline.rs:47 Simulating until time slot 24.\n",
      "DEBUG soco.model.data_center.loads 2021-08-02 19:40:47,535 loads.rs:520 4;4\n"
     ]
    }
   ],
   "metadata": {}
  },
  {
   "cell_type": "code",
   "execution_count": 10,
   "source": [
    "opt, iopt"
   ],
   "outputs": [
    {
     "output_type": "execute_result",
     "data": {
      "text/plain": [
       "(47035366.871634364, 47064852.08591507)"
      ]
     },
     "metadata": {},
     "execution_count": 10
    }
   ],
   "metadata": {}
  },
  {
   "cell_type": "code",
   "execution_count": 11,
   "source": [
    "from lib.offline import evaluate_static\n",
    "\n",
    "opts, iopts, runtime_opts, runtime_iopts = evaluate_static(model, offline_input)"
   ],
   "outputs": [],
   "metadata": {}
  },
  {
   "cell_type": "code",
   "execution_count": 12,
   "source": [
    "opts, iopts"
   ],
   "outputs": [
    {
     "output_type": "execute_result",
     "data": {
      "text/plain": [
       "(296747933.68855405, 296747951.219958)"
      ]
     },
     "metadata": {},
     "execution_count": 12
    }
   ],
   "metadata": {}
  },
  {
   "cell_type": "markdown",
   "source": [
    "### Fractional vs Integral"
   ],
   "metadata": {}
  },
  {
   "cell_type": "code",
   "execution_count": 13,
   "source": [
    "opt_vs_iopt = iopt / opt\n",
    "opts_vs_iopts = iopts / opts\n",
    "opt_vs_iopt, opts_vs_iopts"
   ],
   "outputs": [
    {
     "output_type": "execute_result",
     "data": {
      "text/plain": [
       "(1.0006268732709405, 1.0000000590784366)"
      ]
     },
     "metadata": {},
     "execution_count": 13
    }
   ],
   "metadata": {}
  },
  {
   "cell_type": "markdown",
   "source": [
    "### Opt vs OptS"
   ],
   "metadata": {}
  },
  {
   "cell_type": "code",
   "execution_count": 14,
   "source": [
    "opt_vs_opts = opts / opt\n",
    "iopt_vs_iopts = iopts / iopt\n",
    "opt_vs_opts, iopt_vs_iopts"
   ],
   "outputs": [
    {
     "output_type": "execute_result",
     "data": {
      "text/plain": [
       "(6.309038356146297, 6.305086238840316)"
      ]
     },
     "metadata": {},
     "execution_count": 14
    }
   ],
   "metadata": {}
  },
  {
   "cell_type": "markdown",
   "source": [
    "### Runtimes"
   ],
   "metadata": {}
  },
  {
   "cell_type": "code",
   "execution_count": 15,
   "source": [
    "runtime_opt, runtime_iopt, runtime_opts, runtime_iopts"
   ],
   "outputs": [
    {
     "output_type": "execute_result",
     "data": {
      "text/plain": [
       "(79572, 1109, 4026, 154864)"
      ]
     },
     "metadata": {},
     "execution_count": 15
    }
   ],
   "metadata": {}
  },
  {
   "cell_type": "markdown",
   "source": [
    "### Approximation algorithm"
   ],
   "metadata": {}
  },
  {
   "cell_type": "code",
   "execution_count": 16,
   "source": [
    "gammas = np.logspace(\n",
    "  0.2, 3, 8, base=2\n",
    ")\n",
    "gammas"
   ],
   "outputs": [
    {
     "output_type": "execute_result",
     "data": {
      "text/plain": [
       "array([1.14869835, 1.51571657, 2.        , 2.63901582, 3.48220225,\n",
       "       4.59479342, 6.06286627, 8.        ])"
      ]
     },
     "metadata": {},
     "execution_count": 16
    }
   ],
   "metadata": {}
  },
  {
   "cell_type": "code",
   "execution_count": 17,
   "source": [
    "from lib.offline import evaluate_approx_graph_search\n",
    "\n",
    "x, y, approx_opt_runtimes = evaluate_approx_graph_search(model, offline_input, gammas)"
   ],
   "outputs": [],
   "metadata": {}
  },
  {
   "cell_type": "code",
   "execution_count": 18,
   "source": [
    "# plt.axhline(y=iopt, color='r', linestyle='-')\n",
    "plot(x, np.array(y) / iopt, 'gamma', 'normalized cost', 'approx_graph_search')\n",
    "plt.show()"
   ],
   "outputs": [
    {
     "output_type": "display_data",
     "data": {
      "text/plain": [
       "<Figure size 640x480 with 1 Axes>"
      ],
      "image/png": "[encoded data removed]"
     },
     "metadata": {}
    }
   ],
   "metadata": {}
  },
  {
   "cell_type": "code",
   "execution_count": 19,
   "source": [
    "plot(x, approx_opt_runtimes, 'gamma', 'runtime (milliseconds)', 'approx_graph_search_runtime')\n",
    "plt.show()"
   ],
   "outputs": [
    {
     "output_type": "display_data",
     "data": {
      "text/plain": [
       "<Figure size 640x480 with 1 Axes>"
      ],
      "image/png": "[encoded data removed]"
     },
     "metadata": {}
    }
   ],
   "metadata": {}
  },
  {
   "cell_type": "markdown",
   "source": [
    "## Online"
   ],
   "metadata": {}
  },
  {
   "cell_type": "code",
   "execution_count": 15,
   "source": [
    "from lib.online import evaluate_probabilistic\n",
    "\n",
    "initial_alg, alg, initial_ialg, ialg, energy_cost, revenue_loss, switching_cost, initial_runtime, runtimes = evaluate_probabilistic(model, [], perfect_knowledge_online_input)"
   ],
   "outputs": [
    {
     "output_type": "stream",
     "name": "stderr",
     "text": [
      "  0%|          | 0/24 [00:00<?, ?it/s]Integration failed with message: integrate: maximum iterations exceeded\n",
      "Integration failed with message: integrate: maximum iterations exceeded\n",
      "  4%|▍         | 1/24 [00:01<00:23,  1.02s/it]Integration failed with message: integrate: maximum iterations exceeded\n",
      "Integration failed with message: integrate: maximum iterations exceeded\n",
      "Integration failed with message: integrate: maximum iterations exceeded\n",
      "Integration failed with message: integrate: maximum iterations exceeded\n",
      "Integration failed with message: integrate: maximum iterations exceeded\n",
      "Integration failed with message: integrate: maximum iterations exceeded\n",
      "Integration failed with message: integrate: maximum iterations exceeded\n",
      "Integration failed with message: integrate: maximum iterations exceeded\n",
      "Integration failed with message: integrate: maximum iterations exceeded\n",
      "Integration failed with message: integrate: maximum iterations exceeded\n",
      "Integration failed with message: integrate: maximum iterations exceeded\n",
      "Integration failed with message: integrate: maximum iterations exceeded\n",
      "Integration failed with message: integrate: maximum iterations exceeded\n",
      "Integration failed with message: integrate: maximum iterations exceeded\n",
      "Integration failed with message: integrate: maximum iterations exceeded\n",
      "Integration failed with message: integrate: maximum iterations exceeded\n",
      "Integration failed with message: integrate: maximum iterations exceeded\n",
      "Integration failed with message: integrate: maximum iterations exceeded\n",
      "Integration failed with message: integrate: maximum iterations exceeded\n",
      "Integration failed with message: integrate: maximum iterations exceeded\n",
      "Integration failed with message: integrate: maximum iterations exceeded\n",
      "Integration failed with message: integrate: maximum iterations exceeded\n",
      "Integration failed with message: integrate: maximum iterations exceeded\n",
      "Integration failed with message: integrate: maximum iterations exceeded\n",
      "Integration failed with message: integrate: maximum iterations exceeded\n",
      "Integration failed with message: integrate: maximum iterations exceeded\n",
      "Integration failed with message: integrate: maximum iterations exceeded\n",
      "Integration failed with message: integrate: maximum iterations exceeded\n",
      "Integration failed with message: integrate: maximum iterations exceeded\n",
      "Integration failed with message: integrate: maximum iterations exceeded\n",
      "Integration failed with message: integrate: maximum iterations exceeded\n",
      "Integration failed with message: integrate: maximum iterations exceeded\n",
      "Integration failed with message: integrate: maximum iterations exceeded\n",
      "Integration failed with message: integrate: maximum iterations exceeded\n",
      "Integration failed with message: integrate: maximum iterations exceeded\n",
      "Integration failed with message: integrate: maximum iterations exceeded\n",
      "Integration failed with message: integrate: maximum iterations exceeded\n",
      "Integration failed with message: integrate: maximum iterations exceeded\n",
      "Integration failed with message: integrate: maximum iterations exceeded\n",
      "Integration failed with message: integrate: maximum iterations exceeded\n",
      "Integration failed with message: integrate: maximum iterations exceeded\n",
      "Integration failed with message: integrate: maximum iterations exceeded\n",
      "  8%|▊         | 2/24 [00:19<04:05, 11.15s/it]Integration failed with message: integrate: maximum iterations exceeded\n",
      "Integration failed with message: integrate: maximum iterations exceeded\n"
     ]
    }
   ],
   "metadata": {}
  },
  {
   "cell_type": "code",
   "execution_count": 14,
   "source": [
    "alg, ialg, energy_cost, revenue_loss, switching_cost"
   ],
   "outputs": [
    {
     "output_type": "execute_result",
     "data": {
      "text/plain": [
       "(47064853.720321834,\n",
       " 47064853.720321834,\n",
       " 38775600.0,\n",
       " 8273357.720321834,\n",
       " 15896.0)"
      ]
     },
     "metadata": {},
     "execution_count": 14
    }
   ],
   "metadata": {}
  },
  {
   "cell_type": "markdown",
   "source": [
    "## Evaluation"
   ],
   "metadata": {}
  },
  {
   "cell_type": "markdown",
   "source": [
    "### Competitive Ratio"
   ],
   "metadata": {}
  },
  {
   "cell_type": "code",
   "execution_count": null,
   "source": [
    "cr = alg / opt\n",
    "icr = ialg / iopt\n",
    "cr, icr"
   ],
   "outputs": [
    {
     "output_type": "execute_result",
     "data": {
      "text/plain": [
       "(1.0006406356390443, 1.0)"
      ]
     },
     "metadata": {},
     "execution_count": 22
    }
   ],
   "metadata": {}
  },
  {
   "cell_type": "markdown",
   "source": [
    "### Competitive Difference"
   ],
   "metadata": {}
  },
  {
   "cell_type": "code",
   "execution_count": null,
   "source": [
    "cd = alg - opt\n",
    "icd = ialg - iopt\n",
    "cd, icd"
   ],
   "outputs": [
    {
     "output_type": "execute_result",
     "data": {
      "text/plain": [
       "(6133.159622054547, 0.0)"
      ]
     },
     "metadata": {},
     "execution_count": 23
    }
   ],
   "metadata": {}
  },
  {
   "cell_type": "markdown",
   "source": [
    "### Regret"
   ],
   "metadata": {}
  },
  {
   "cell_type": "code",
   "execution_count": null,
   "source": [
    "regret = alg - opts\n",
    "iregret = ialg - iopts\n",
    "regret, iregret"
   ],
   "outputs": [
    {
     "output_type": "execute_result",
     "data": {
      "text/plain": [
       "(-36423379.462355115, -36423474.47983452)"
      ]
     },
     "metadata": {},
     "execution_count": 24
    }
   ],
   "metadata": {}
  },
  {
   "cell_type": "markdown",
   "source": [
    "### Cost Change"
   ],
   "metadata": {}
  },
  {
   "cell_type": "markdown",
   "source": [
    "Regret relative to overall cost."
   ],
   "metadata": {}
  },
  {
   "cell_type": "code",
   "execution_count": null,
   "source": [
    "rel_regret = regret / opts\n",
    "rel_iregret = iregret / iopts\n",
    "rel_regret, rel_iregret"
   ],
   "outputs": [
    {
     "output_type": "execute_result",
     "data": {
      "text/plain": [
       "(-0.791759820845855, -0.7917602509566648)"
      ]
     },
     "metadata": {},
     "execution_count": 25
    }
   ],
   "metadata": {}
  },
  {
   "cell_type": "markdown",
   "source": [
    "Competitive difference relative to overall cost."
   ],
   "metadata": {}
  },
  {
   "cell_type": "code",
   "execution_count": null,
   "source": [
    "rel_cd = cd / opt\n",
    "rel_icd = icd / iopt\n",
    "rel_cd, rel_icd"
   ],
   "outputs": [
    {
     "output_type": "execute_result",
     "data": {
      "text/plain": [
       "(0.0006406356390442987, 0.0)"
      ]
     },
     "metadata": {},
     "execution_count": 26
    }
   ],
   "metadata": {}
  },
  {
   "cell_type": "markdown",
   "source": [
    "### Fractional vs Integral"
   ],
   "metadata": {}
  },
  {
   "cell_type": "code",
   "execution_count": null,
   "source": [
    "alg_vs_ialg = ialg / alg\n",
    "alg_vs_ialg"
   ],
   "outputs": [
    {
     "output_type": "execute_result",
     "data": {
      "text/plain": [
       "1.0"
      ]
     },
     "metadata": {},
     "execution_count": 27
    }
   ],
   "metadata": {}
  },
  {
   "cell_type": "markdown",
   "source": [
    "### Runtime"
   ],
   "metadata": {}
  },
  {
   "cell_type": "code",
   "execution_count": null,
   "source": [
    "runtimes_np = np.array(runtimes)\n",
    "plot_cdf(runtimes_np, 'runtime (milliseconds)', 'online_runtime')\n",
    "plt.show()\n",
    "summarize_distribution(runtimes_np)"
   ],
   "outputs": [
    {
     "output_type": "display_data",
     "data": {
      "text/plain": [
       "<Figure size 640x480 with 1 Axes>"
      ],
      "image/png": "[encoded data removed]"
     },
     "metadata": {}
    },
    {
     "output_type": "execute_result",
     "data": {
      "text/plain": [
       "DistributionSummary(mean=27.125, median=23.0, modes=array([23]), std=17.476919303279207, mad=2.0, min_=13, p25=21.0, p75=25.0, max_=90)"
      ]
     },
     "metadata": {},
     "execution_count": 28
    }
   ],
   "metadata": {}
  },
  {
   "cell_type": "markdown",
   "source": [
    "### Model"
   ],
   "metadata": {}
  },
  {
   "cell_type": "markdown",
   "source": [
    "Proportion of energy cost to delay cost"
   ],
   "metadata": {}
  },
  {
   "cell_type": "code",
   "execution_count": null,
   "source": [
    "ec_vs_rl = energy_cost / revenue_loss if revenue_loss > 0 else np.Inf\n",
    "hc_vs_sc = (energy_cost + revenue_loss) / switching_cost\n",
    "ec_vs_rl, hc_vs_sc"
   ],
   "outputs": [
    {
     "output_type": "execute_result",
     "data": {
      "text/plain": [
       "(4.928890525519765, 1841.2474518509073)"
      ]
     },
     "metadata": {},
     "execution_count": 29
    }
   ],
   "metadata": {}
  }
 ],
 "metadata": {
  "orig_nbformat": 4,
  "language_info": {
   "name": "python",
   "version": "3.8.10",
   "mimetype": "text/x-python",
   "codemirror_mode": {
    "name": "ipython",
    "version": 3
   },
   "pygments_lexer": "ipython3",
   "nbconvert_exporter": "python",
   "file_extension": ".py"
  },
  "kernelspec": {
   "name": "python3",
   "display_name": "Python 3.8.10 64-bit ('venv': venv)"
  },
  "interpreter": {
   "hash": "bfb6e60757c36aad7e076b66c35f1b7ceb420a8f6d971dc47958a23072a9b46f"
  }
 },
 "nbformat": 4,
 "nbformat_minor": 2
}