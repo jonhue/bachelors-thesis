{
 "cells": [
  {
   "cell_type": "code",
   "execution_count": 1,
   "source": [
    "import numpy as np\n",
    "import matplotlib.pyplot as plt"
   ],
   "outputs": [],
   "metadata": {}
  },
  {
   "cell_type": "code",
   "execution_count": 2,
   "source": [
    "from lib.model import build_model, FACEBOOK_2009_0, ENERGY_MODEL_WIERMAN\n",
    "from lib.utils import summarize_distribution, plot_cdf"
   ],
   "outputs": [],
   "metadata": {}
  },
  {
   "cell_type": "code",
   "execution_count": 3,
   "source": [
    "import logging\n",
    "\n",
    "FORMAT = '%(levelname)s %(name)s %(asctime)-15s %(filename)s:%(lineno)d %(message)s'\n",
    "logging.basicConfig(format=FORMAT)\n",
    "logging.getLogger().setLevel(logging.INFO)"
   ],
   "outputs": [],
   "metadata": {}
  },
  {
   "cell_type": "code",
   "execution_count": 4,
   "source": [
    "TIME_SLOT_LENGTH = 10 * 60\n",
    "NORMALIZED_SWITCHING_COST = 1\n",
    "REVENUE_LOSS = 0.1"
   ],
   "outputs": [],
   "metadata": {}
  },
  {
   "cell_type": "markdown",
   "source": [
    "# Model"
   ],
   "metadata": {}
  },
  {
   "cell_type": "code",
   "execution_count": 5,
   "source": [
    "model = build_model(\n",
    "  FACEBOOK_2009_0,\n",
    "  ENERGY_MODEL_WIERMAN,\n",
    "  TIME_SLOT_LENGTH,\n",
    "  NORMALIZED_SWITCHING_COST,\n",
    "  REVENUE_LOSS,\n",
    ")"
   ],
   "outputs": [],
   "metadata": {}
  },
  {
   "cell_type": "markdown",
   "source": [
    "# Inputs"
   ],
   "metadata": {}
  },
  {
   "cell_type": "code",
   "execution_count": 6,
   "source": [
    "inp = [[1], [5], [10], [3], [1], [10], [10], [3]]\n",
    "online_inp = [[[[1]]], [[[5]]], [[[10]]], [[[3]]], [[[1]]], [[[10]]], [[[10]]], [[[3]]]]"
   ],
   "outputs": [],
   "metadata": {}
  },
  {
   "cell_type": "markdown",
   "source": [
    "# Execute"
   ],
   "metadata": {}
  },
  {
   "cell_type": "markdown",
   "source": [
    "## Offline"
   ],
   "metadata": {}
  },
  {
   "cell_type": "code",
   "execution_count": 7,
   "source": [
    "from lib.offline import evaluate_1d\n",
    "\n",
    "opt, iopt, _, _ = evaluate_1d(model, inp)"
   ],
   "outputs": [
    {
     "output_type": "stream",
     "name": "stderr",
     "text": [
      "INFO soco.bindings.data_center.offline 2021-07-28 18:16:03,094 offline.rs:83 Graph Search\n",
      "INFO soco.streaming.offline 2021-07-28 18:16:03,095 offline.rs:40 Generated a problem instance: SimplifiedSmoothedConvexOptimization { d: 1, t_end: 8, bounds: [600], switching_cost: [6.0] }\n",
      "INFO soco.streaming.offline 2021-07-28 18:16:03,096 offline.rs:42 Simulating until time slot 8.\n"
     ]
    }
   ],
   "metadata": {}
  },
  {
   "cell_type": "code",
   "execution_count": null,
   "source": [
    "from lib.offline import evaluate_static\n",
    "\n",
    "opts, iopts, _, _ = evaluate_static(model, inp)"
   ],
   "outputs": [
    {
     "output_type": "stream",
     "name": "stderr",
     "text": [
      "INFO soco.bindings.data_center.offline 2021-07-28 16:37:55,220 offline.rs:130 Convex Program\n",
      "INFO soco.streaming.offline 2021-07-28 16:37:55,222 offline.rs:40 Generated a problem instance: SmoothedConvexOptimization { d: 1, t_end: 8, bounds: [(0.0, 600.0)] }\n",
      "INFO soco.streaming.offline 2021-07-28 16:37:55,224 offline.rs:42 Simulating until time slot 8.\n",
      "INFO soco.streaming.offline 2021-07-28 16:37:58,857 offline.rs:49 Completed with Cost { cost: 29552.038022393408, output: Success(DataCenterModelOutputSuccess { energy_cost: 26751.3228, revenue_loss: 2755.443026393409, assignments: [[[]], [[]], [[]], [[]], [[]], [[]], [[]], [[]]] }) } and Schedule([Config([0.7427349999999999]), Config([3.392366]), Config([5.938256]), Config([5.938243]), Config([5.938254]), Config([7.544988]), Config([7.545343]), Config([7.5453529999999995])])\n",
      "INFO soco.bindings.data_center.offline 2021-07-28 16:37:58,859 offline.rs:147 Static Integral\n",
      "INFO soco.streaming.offline 2021-07-28 16:37:58,860 offline.rs:40 Generated a problem instance: SimplifiedSmoothedConvexOptimization { d: 1, t_end: 8, bounds: [600], switching_cost: [6.0] }\n",
      "INFO soco.streaming.offline 2021-07-28 16:37:58,862 offline.rs:42 Simulating until time slot 8.\n",
      "INFO soco.streaming.offline 2021-07-28 16:38:02,604 offline.rs:49 Completed with Cost { cost: 32953.142857142855, output: Success(DataCenterModelOutputSuccess { energy_cost: 28800.0, revenue_loss: 4117.142857142857, assignments: [[[]], [[]], [[]], [[]], [[]], [[]], [[]], [[]]] }) } and Schedule([Config([6]), Config([6]), Config([6]), Config([6]), Config([6]), Config([6]), Config([6]), Config([6])])\n"
     ]
    }
   ],
   "metadata": {}
  },
  {
   "cell_type": "markdown",
   "source": [
    "### Approximation algorithm"
   ],
   "metadata": {}
  },
  {
   "cell_type": "code",
   "execution_count": null,
   "source": [
    "# from lib.utils import plot\n",
    "# import numpy as np\n",
    "# import matplotlib.pyplot as plt\n",
    "# from lib.offline import evaluate_approx_graph_search\n",
    "\n",
    "# # plot(np.array([1,2,3,4,5]), np.array([1,2,3,4,5]), 'x axis', 'y axis', 'test')\n",
    "# # plt.show()\n",
    "\n",
    "# x, y, opt = evaluate_approx_graph_search(model, inp)\n",
    "# plt.axhline(y=opt, color='r', linestyle='-')\n",
    "# plot(x, y, 'gamma', 'cost', 'approx_graph_search')\n",
    "# plt.show()"
   ],
   "outputs": [],
   "metadata": {}
  },
  {
   "cell_type": "markdown",
   "source": [
    "## Online"
   ],
   "metadata": {}
  },
  {
   "cell_type": "code",
   "execution_count": 10,
   "source": [
    "from lib.online import evaluate_randomized_probabilistic\n",
    "\n",
    "initial_alg, alg, initial_ialg, ialg, energy_cost, revenue_loss, switching_cost, initial_runtime, runtimes = evaluate_randomized_probabilistic(model, [], online_inp)"
   ],
   "outputs": [
    {
     "output_type": "stream",
     "name": "stderr",
     "text": [
      "INFO soco.streaming.online 2021-07-28 16:38:03,008 online.rs:114 Generated a problem instance: Online { p: SimplifiedSmoothedConvexOptimization { d: 1, t_end: 0, bounds: [600.0], switching_cost: [6.0] }, w: 0 }\n",
      "INFO soco.streaming.online 2021-07-28 16:38:03,010 online.rs:116 Simulating until time slot 0.\n",
      "INFO soco.streaming.online 2021-07-28 16:38:03,012 online.rs:162 [server] Running on 127.0.0.1:3449.\n",
      "  0%|          | 0/8 [00:00<?, ?it/s]INFO soco.streaming.online 2021-07-28 16:38:03,029 online.rs:169 [server] Connection established!\n",
      "INFO soco.streaming.online 2021-07-28 16:38:03,034 online.rs:263 [client] Connected to 127.0.0.1:3449.\n",
      "INFO soco.streaming.online 2021-07-28 16:38:03,037 online.rs:268 [client] Sent: DataCenterOnlineInput { loads: [PredictedLoadProfile([[1.0]])] }\n",
      "INFO soco.streaming.online 2021-07-28 16:38:03,038 online.rs:194 [server] Received: DataCenterOnlineInput { loads: [PredictedLoadProfile([[1.0]])] }\n",
      "INFO soco.model.data_center.model 2021-07-28 16:38:03,043 model.rs:662 Updating online instance to time slot 1.\n",
      "INFO soco.streaming.online 2021-07-28 16:38:03,049 online.rs:196 [server] Updated problem instance.\n",
      "DEBUG soco.algorithms.online.uni_dimensional.memoryless 2021-07-28 16:38:03,091 memoryless.rs:32 determined next config: 0.658103\n",
      "INFO soco.streaming.online 2021-07-28 16:38:03,095 online.rs:218 [server] Sent: Ok(((Config([0.658103]), Cost { cost: 479.68527805958144, output: Success(DataCenterModelOutputSuccess { energy_cost: 394.8618, revenue_loss: 80.87486005958142, assignments: [[[]]] }) }), (Config([1]), Cost { cost: 622.0, output: Success(DataCenterModelOutputSuccess { energy_cost: 600.0, revenue_loss: 16.0, assignments: [[[]]] }) }), None, 40))\n",
      "INFO soco.streaming.online 2021-07-28 16:38:03,096 online.rs:270 [client] Received: Ok(((Config([0.658103]), Cost { cost: 479.68527805958144, output: Success(DataCenterModelOutputSuccess { energy_cost: 394.8618, revenue_loss: 80.87486005958142, assignments: [[[]]] }) }), (Config([1]), Cost { cost: 622.0, output: Success(DataCenterModelOutputSuccess { energy_cost: 600.0, revenue_loss: 16.0, assignments: [[[]]] }) }), None, 40))\n",
      "INFO soco.streaming.online 2021-07-28 16:38:03,099 online.rs:263 [client] Connected to 127.0.0.1:3449.\n",
      "INFO soco.streaming.online 2021-07-28 16:38:03,099 online.rs:169 [server] Connection established!\n",
      "INFO soco.streaming.online 2021-07-28 16:38:03,101 online.rs:268 [client] Sent: DataCenterOnlineInput { loads: [PredictedLoadProfile([[5.0]])] }\n",
      "INFO soco.streaming.online 2021-07-28 16:38:03,105 online.rs:194 [server] Received: DataCenterOnlineInput { loads: [PredictedLoadProfile([[5.0]])] }\n",
      "INFO soco.model.data_center.model 2021-07-28 16:38:03,110 model.rs:662 Updating online instance to time slot 2.\n",
      "INFO soco.streaming.online 2021-07-28 16:38:03,113 online.rs:196 [server] Updated problem instance.\n",
      "DEBUG soco.algorithms.online.uni_dimensional.memoryless 2021-07-28 16:38:03,154 memoryless.rs:32 determined next config: 3.290583\n",
      "INFO soco.streaming.online 2021-07-28 16:38:03,161 online.rs:218 [server] Sent: Ok(((Config([3.290583]), Cost { cost: 2874.163456250157, output: Success(DataCenterModelOutputSuccess { energy_cost: 2369.2116, revenue_loss: 485.20835825015723, assignments: [[[]], [[]]] }) }), (Config([4]), Cost { cost: 3220.0, output: Success(DataCenterModelOutputSuccess { energy_cost: 3000.0, revenue_loss: 196.0, assignments: [[[]], [[]]] }) }), None, 41))\n",
      "INFO soco.streaming.online 2021-07-28 16:38:03,162 online.rs:270 [client] Received: Ok(((Config([3.290583]), Cost { cost: 2874.163456250157, output: Success(DataCenterModelOutputSuccess { energy_cost: 2369.2116, revenue_loss: 485.20835825015723, assignments: [[[]], [[]]] }) }), (Config([4]), Cost { cost: 3220.0, output: Success(DataCenterModelOutputSuccess { energy_cost: 3000.0, revenue_loss: 196.0, assignments: [[[]], [[]]] }) }), None, 41))\n",
      " 25%|██▌       | 2/8 [00:00<00:00, 14.39it/s]INFO soco.streaming.online 2021-07-28 16:38:03,168 online.rs:263 [client] Connected to 127.0.0.1:3449.\n",
      "INFO soco.streaming.online 2021-07-28 16:38:03,169 online.rs:169 [server] Connection established!\n",
      "INFO soco.streaming.online 2021-07-28 16:38:03,172 online.rs:268 [client] Sent: DataCenterOnlineInput { loads: [PredictedLoadProfile([[10.0]])] }\n",
      "INFO soco.streaming.online 2021-07-28 16:38:03,177 online.rs:194 [server] Received: DataCenterOnlineInput { loads: [PredictedLoadProfile([[10.0]])] }\n",
      "INFO soco.model.data_center.model 2021-07-28 16:38:03,180 model.rs:662 Updating online instance to time slot 3.\n",
      "INFO soco.streaming.online 2021-07-28 16:38:03,183 online.rs:196 [server] Updated problem instance.\n",
      "DEBUG soco.algorithms.online.uni_dimensional.memoryless 2021-07-28 16:38:03,223 memoryless.rs:32 determined next config: 6.5811589999999995\n",
      "INFO soco.streaming.online 2021-07-28 16:38:03,232 online.rs:218 [server] Sent: Ok(((Config([6.5811589999999995]), Cost { cost: 7651.273508505562, output: Success(DataCenterModelOutputSuccess { energy_cost: 6317.906999999999, revenue_loss: 1293.8795545055618, assignments: [[[]], [[]], [[]]] }) }), (Config([7]), Cost { cost: 8048.0, output: Success(DataCenterModelOutputSuccess { energy_cost: 7200.0, revenue_loss: 806.0, assignments: [[[]], [[]], [[]]] }) }), None, 39))\n",
      "INFO soco.streaming.online 2021-07-28 16:38:03,233 online.rs:270 [client] Received: Ok(((Config([6.5811589999999995]), Cost { cost: 7651.273508505562, output: Success(DataCenterModelOutputSuccess { energy_cost: 6317.906999999999, revenue_loss: 1293.8795545055618, assignments: [[[]], [[]], [[]]] }) }), (Config([7]), Cost { cost: 8048.0, output: Success(DataCenterModelOutputSuccess { energy_cost: 7200.0, revenue_loss: 806.0, assignments: [[[]], [[]], [[]]] }) }), None, 39))\n",
      "INFO soco.streaming.online 2021-07-28 16:38:03,238 online.rs:263 [client] Connected to 127.0.0.1:3449.\n",
      "INFO soco.streaming.online 2021-07-28 16:38:03,240 online.rs:169 [server] Connection established!\n",
      "INFO soco.streaming.online 2021-07-28 16:38:03,241 online.rs:268 [client] Sent: DataCenterOnlineInput { loads: [PredictedLoadProfile([[3.0]])] }\n",
      "INFO soco.streaming.online 2021-07-28 16:38:03,243 online.rs:194 [server] Received: DataCenterOnlineInput { loads: [PredictedLoadProfile([[3.0]])] }\n",
      "INFO soco.model.data_center.model 2021-07-28 16:38:03,248 model.rs:662 Updating online instance to time slot 4.\n",
      "INFO soco.streaming.online 2021-07-28 16:38:03,252 online.rs:196 [server] Updated problem instance.\n",
      "DEBUG soco.algorithms.online.uni_dimensional.memoryless 2021-07-28 16:38:03,282 memoryless.rs:32 determined next config: 1.974362\n",
      "INFO soco.streaming.online 2021-07-28 16:38:03,293 online.rs:218 [server] Sent: Ok(((Config([1.974362]), Cost { cost: 9078.483487859725, output: Success(DataCenterModelOutputSuccess { energy_cost: 7502.5242, revenue_loss: 1536.4723338597262, assignments: [[[]], [[]], [[]], [[]]] }) }), (Config([2]), Cost { cost: 9476.0, output: Success(DataCenterModelOutputSuccess { energy_cost: 8400.0, revenue_loss: 1034.0, assignments: [[[]], [[]], [[]], [[]]] }) }), None, 29))\n",
      "INFO soco.streaming.online 2021-07-28 16:38:03,295 online.rs:270 [client] Received: Ok(((Config([1.974362]), Cost { cost: 9078.483487859725, output: Success(DataCenterModelOutputSuccess { energy_cost: 7502.5242, revenue_loss: 1536.4723338597262, assignments: [[[]], [[]], [[]], [[]]] }) }), (Config([2]), Cost { cost: 9476.0, output: Success(DataCenterModelOutputSuccess { energy_cost: 8400.0, revenue_loss: 1034.0, assignments: [[[]], [[]], [[]], [[]]] }) }), None, 29))\n",
      " 50%|█████     | 4/8 [00:00<00:00, 14.70it/s]INFO soco.streaming.online 2021-07-28 16:38:03,302 online.rs:263 [client] Connected to 127.0.0.1:3449.\n",
      "INFO soco.streaming.online 2021-07-28 16:38:03,302 online.rs:169 [server] Connection established!\n",
      "INFO soco.streaming.online 2021-07-28 16:38:03,305 online.rs:268 [client] Sent: DataCenterOnlineInput { loads: [PredictedLoadProfile([[1.0]])] }\n",
      "INFO soco.streaming.online 2021-07-28 16:38:03,307 online.rs:194 [server] Received: DataCenterOnlineInput { loads: [PredictedLoadProfile([[1.0]])] }\n",
      "INFO soco.model.data_center.model 2021-07-28 16:38:03,313 model.rs:662 Updating online instance to time slot 5.\n",
      "INFO soco.streaming.online 2021-07-28 16:38:03,316 online.rs:196 [server] Updated problem instance.\n",
      "DEBUG soco.algorithms.online.uni_dimensional.memoryless 2021-07-28 16:38:03,353 memoryless.rs:32 determined next config: 0.658103\n",
      "INFO soco.streaming.online 2021-07-28 16:38:03,367 online.rs:218 [server] Sent: Ok(((Config([0.658103]), Cost { cost: 9554.220147919306, output: Success(DataCenterModelOutputSuccess { energy_cost: 7897.386, revenue_loss: 1617.3471939193075, assignments: [[[]], [[]], [[]], [[]], [[]]] }) }), (Config([1]), Cost { cost: 10092.0, output: Success(DataCenterModelOutputSuccess { energy_cost: 9000.0, revenue_loss: 1050.0, assignments: [[[]], [[]], [[]], [[]], [[]]] }) }), None, 38))\n",
      "INFO soco.streaming.online 2021-07-28 16:38:03,368 online.rs:270 [client] Received: Ok(((Config([0.658103]), Cost { cost: 9554.220147919306, output: Success(DataCenterModelOutputSuccess { energy_cost: 7897.386, revenue_loss: 1617.3471939193075, assignments: [[[]], [[]], [[]], [[]], [[]]] }) }), (Config([1]), Cost { cost: 10092.0, output: Success(DataCenterModelOutputSuccess { energy_cost: 9000.0, revenue_loss: 1050.0, assignments: [[[]], [[]], [[]], [[]], [[]]] }) }), None, 38))\n",
      "INFO soco.streaming.online 2021-07-28 16:38:03,372 online.rs:263 [client] Connected to 127.0.0.1:3449.\n",
      "INFO soco.streaming.online 2021-07-28 16:38:03,372 online.rs:169 [server] Connection established!\n",
      "INFO soco.streaming.online 2021-07-28 16:38:03,374 online.rs:268 [client] Sent: DataCenterOnlineInput { loads: [PredictedLoadProfile([[10.0]])] }\n",
      "INFO soco.streaming.online 2021-07-28 16:38:03,376 online.rs:194 [server] Received: DataCenterOnlineInput { loads: [PredictedLoadProfile([[10.0]])] }\n",
      "INFO soco.model.data_center.model 2021-07-28 16:38:03,381 model.rs:662 Updating online instance to time slot 6.\n",
      "INFO soco.streaming.online 2021-07-28 16:38:03,384 online.rs:196 [server] Updated problem instance.\n",
      "DEBUG soco.algorithms.online.uni_dimensional.memoryless 2021-07-28 16:38:03,415 memoryless.rs:32 determined next config: 6.5811589999999995\n",
      "INFO soco.streaming.online 2021-07-28 16:38:03,429 online.rs:218 [server] Sent: Ok(((Config([6.5811589999999995]), Cost { cost: 14347.125080174712, output: Success(DataCenterModelOutputSuccess { energy_cost: 11846.0814, revenue_loss: 2426.0183901747123, assignments: [[[]], [[]], [[]], [[]], [[]], [[]]] }) }), (Config([7]), Cost { cost: 14938.0, output: Success(DataCenterModelOutputSuccess { energy_cost: 13200.0, revenue_loss: 1660.0, assignments: [[[]], [[]], [[]], [[]], [[]], [[]]] }) }), None, 31))\n",
      "INFO soco.streaming.online 2021-07-28 16:38:03,430 online.rs:270 [client] Received: Ok(((Config([6.5811589999999995]), Cost { cost: 14347.125080174712, output: Success(DataCenterModelOutputSuccess { energy_cost: 11846.0814, revenue_loss: 2426.0183901747123, assignments: [[[]], [[]], [[]], [[]], [[]], [[]]] }) }), (Config([7]), Cost { cost: 14938.0, output: Success(DataCenterModelOutputSuccess { energy_cost: 13200.0, revenue_loss: 1660.0, assignments: [[[]], [[]], [[]], [[]], [[]], [[]]] }) }), None, 31))\n",
      " 75%|███████▌  | 6/8 [00:00<00:00, 14.75it/s]INFO soco.streaming.online 2021-07-28 16:38:03,437 online.rs:263 [client] Connected to 127.0.0.1:3449.\n",
      "INFO soco.streaming.online 2021-07-28 16:38:03,437 online.rs:169 [server] Connection established!\n",
      "INFO soco.streaming.online 2021-07-28 16:38:03,440 online.rs:268 [client] Sent: DataCenterOnlineInput { loads: [PredictedLoadProfile([[10.0]])] }\n",
      "INFO soco.streaming.online 2021-07-28 16:38:03,442 online.rs:194 [server] Received: DataCenterOnlineInput { loads: [PredictedLoadProfile([[10.0]])] }\n",
      "INFO soco.model.data_center.model 2021-07-28 16:38:03,445 model.rs:662 Updating online instance to time slot 7.\n",
      "INFO soco.streaming.online 2021-07-28 16:38:03,449 online.rs:196 [server] Updated problem instance.\n",
      "DEBUG soco.algorithms.online.uni_dimensional.memoryless 2021-07-28 16:38:03,501 memoryless.rs:32 determined next config: 6.5811589999999995\n",
      "INFO soco.streaming.online 2021-07-28 16:38:03,518 online.rs:218 [server] Sent: Ok(((Config([6.5811589999999995]), Cost { cost: 19104.491676430116, output: Success(DataCenterModelOutputSuccess { energy_cost: 15794.776799999998, revenue_loss: 3234.689586430117, assignments: [[[]], [[]], [[]], [[]], [[]], [[]], [[]]] }) }), (Config([7]), Cost { cost: 19748.0, output: Success(DataCenterModelOutputSuccess { energy_cost: 17400.0, revenue_loss: 2270.0, assignments: [[[]], [[]], [[]], [[]], [[]], [[]], [[]]] }) }), None, 45))\n",
      "INFO soco.streaming.online 2021-07-28 16:38:03,519 online.rs:270 [client] Received: Ok(((Config([6.5811589999999995]), Cost { cost: 19104.491676430116, output: Success(DataCenterModelOutputSuccess { energy_cost: 15794.776799999998, revenue_loss: 3234.689586430117, assignments: [[[]], [[]], [[]], [[]], [[]], [[]], [[]]] }) }), (Config([7]), Cost { cost: 19748.0, output: Success(DataCenterModelOutputSuccess { energy_cost: 17400.0, revenue_loss: 2270.0, assignments: [[[]], [[]], [[]], [[]], [[]], [[]], [[]]] }) }), None, 45))\n",
      "INFO soco.streaming.online 2021-07-28 16:38:03,525 online.rs:263 [client] Connected to 127.0.0.1:3449.\n",
      "INFO soco.streaming.online 2021-07-28 16:38:03,526 online.rs:169 [server] Connection established!\n",
      "INFO soco.streaming.online 2021-07-28 16:38:03,528 online.rs:268 [client] Sent: DataCenterOnlineInput { loads: [PredictedLoadProfile([[3.0]])] }\n",
      "INFO soco.streaming.online 2021-07-28 16:38:03,532 online.rs:194 [server] Received: DataCenterOnlineInput { loads: [PredictedLoadProfile([[3.0]])] }\n",
      "INFO soco.model.data_center.model 2021-07-28 16:38:03,535 model.rs:662 Updating online instance to time slot 8.\n",
      "INFO soco.streaming.online 2021-07-28 16:38:03,545 online.rs:196 [server] Updated problem instance.\n",
      "DEBUG soco.algorithms.online.uni_dimensional.memoryless 2021-07-28 16:38:03,582 memoryless.rs:32 determined next config: 1.974362\n",
      "INFO soco.streaming.online 2021-07-28 16:38:03,599 online.rs:218 [server] Sent: Ok(((Config([1.974362]), Cost { cost: 20531.70165578428, output: Success(DataCenterModelOutputSuccess { energy_cost: 16979.394, revenue_loss: 3477.282365784281, assignments: [[[]], [[]], [[]], [[]], [[]], [[]], [[]], [[]]] }) }), (Config([2]), Cost { cost: 21176.0, output: Success(DataCenterModelOutputSuccess { energy_cost: 18600.0, revenue_loss: 2498.0, assignments: [[[]], [[]], [[]], [[]], [[]], [[]], [[]], [[]]] }) }), None, 36))\n",
      "INFO soco.streaming.online 2021-07-28 16:38:03,599 online.rs:270 [client] Received: Ok(((Config([1.974362]), Cost { cost: 20531.70165578428, output: Success(DataCenterModelOutputSuccess { energy_cost: 16979.394, revenue_loss: 3477.282365784281, assignments: [[[]], [[]], [[]], [[]], [[]], [[]], [[]], [[]]] }) }), (Config([2]), Cost { cost: 21176.0, output: Success(DataCenterModelOutputSuccess { energy_cost: 18600.0, revenue_loss: 2498.0, assignments: [[[]], [[]], [[]], [[]], [[]], [[]], [[]], [[]]] }) }), None, 36))\n",
      "100%|██████████| 8/8 [00:00<00:00, 13.80it/s]\n",
      "INFO soco.streaming.online 2021-07-28 16:38:03,609 online.rs:277 [client] Connected to 127.0.0.1:3449.\n",
      "INFO soco.streaming.online 2021-07-28 16:38:03,609 online.rs:169 [server] Connection established!\n",
      "INFO soco.streaming.online 2021-07-28 16:38:03,611 online.rs:280 [client] Stopping server.\n",
      "INFO soco.streaming.online 2021-07-28 16:38:03,617 online.rs:240 [server] Server stopped.\n"
     ]
    }
   ],
   "metadata": {}
  },
  {
   "cell_type": "code",
   "execution_count": 11,
   "source": [
    "opt, iopt, opts, iopts, alg, ialg, energy_cost, revenue_loss, switching_cost"
   ],
   "outputs": [
    {
     "output_type": "execute_result",
     "data": {
      "text/plain": [
       "(1877203.252998,\n",
       " 21076.0,\n",
       " 29552.038022393408,\n",
       " 32953.142857142855,\n",
       " 83621.14429098344,\n",
       " 87320.0,\n",
       " 77400.0,\n",
       " 9530.0,\n",
       " -3308.855709016556)"
      ]
     },
     "metadata": {},
     "execution_count": 11
    }
   ],
   "metadata": {}
  },
  {
   "cell_type": "markdown",
   "source": [
    "## Evaluation"
   ],
   "metadata": {}
  },
  {
   "cell_type": "markdown",
   "source": [
    "### Competitive Ratio"
   ],
   "metadata": {}
  },
  {
   "cell_type": "code",
   "execution_count": 12,
   "source": [
    "cr = alg / opt\n",
    "icr = ialg / iopt\n",
    "cr, icr"
   ],
   "outputs": [
    {
     "output_type": "execute_result",
     "data": {
      "text/plain": [
       "(0.04454559950151148, 4.143101157714937)"
      ]
     },
     "metadata": {},
     "execution_count": 12
    }
   ],
   "metadata": {}
  },
  {
   "cell_type": "markdown",
   "source": [
    "### Competitive Difference"
   ],
   "metadata": {}
  },
  {
   "cell_type": "code",
   "execution_count": 13,
   "source": [
    "cd = alg - opt\n",
    "icd = ialg - iopt\n",
    "cd, icd"
   ],
   "outputs": [
    {
     "output_type": "execute_result",
     "data": {
      "text/plain": [
       "(-1793582.1087070166, 66244.0)"
      ]
     },
     "metadata": {},
     "execution_count": 13
    }
   ],
   "metadata": {}
  },
  {
   "cell_type": "markdown",
   "source": [
    "### Regret"
   ],
   "metadata": {}
  },
  {
   "cell_type": "code",
   "execution_count": 14,
   "source": [
    "regret = alg - opts\n",
    "iregret = ialg - iopts\n",
    "regret, iregret"
   ],
   "outputs": [
    {
     "output_type": "execute_result",
     "data": {
      "text/plain": [
       "(54069.10626859004, 54366.857142857145)"
      ]
     },
     "metadata": {},
     "execution_count": 14
    }
   ],
   "metadata": {}
  },
  {
   "cell_type": "markdown",
   "source": [
    "### Cost Change"
   ],
   "metadata": {}
  },
  {
   "cell_type": "markdown",
   "source": [
    "Regret relative to overall cost."
   ],
   "metadata": {}
  },
  {
   "cell_type": "code",
   "execution_count": 15,
   "source": [
    "rel_regret = regret / opts\n",
    "rel_iregret = iregret / iopts\n",
    "rel_regret, rel_iregret"
   ],
   "outputs": [
    {
     "output_type": "execute_result",
     "data": {
      "text/plain": [
       "(1.8296236025284798, 1.6498231254768678)"
      ]
     },
     "metadata": {},
     "execution_count": 15
    }
   ],
   "metadata": {}
  },
  {
   "cell_type": "markdown",
   "source": [
    "Competitive difference relative to overall cost."
   ],
   "metadata": {}
  },
  {
   "cell_type": "code",
   "execution_count": 16,
   "source": [
    "rel_cd = cd / opt\n",
    "rel_icd = icd / iopt\n",
    "rel_cd, rel_icd"
   ],
   "outputs": [
    {
     "output_type": "execute_result",
     "data": {
      "text/plain": [
       "(-0.9554544004984885, 3.1431011577149364)"
      ]
     },
     "metadata": {},
     "execution_count": 16
    }
   ],
   "metadata": {}
  },
  {
   "cell_type": "markdown",
   "source": [
    "### Fractional vs Integral"
   ],
   "metadata": {}
  },
  {
   "cell_type": "code",
   "execution_count": 17,
   "source": [
    "opt_vs_iopt = iopt / opt\n",
    "opts_vs_iopts = iopts / opts\n",
    "alg_vs_ialg = ialg / alg\n",
    "opt_vs_iopt, opts_vs_iopts, alg_vs_ialg"
   ],
   "outputs": [
    {
     "output_type": "execute_result",
     "data": {
      "text/plain": [
       "(0.011227340441873, 1.1150886728073448, 1.0442334978835657)"
      ]
     },
     "metadata": {},
     "execution_count": 17
    }
   ],
   "metadata": {}
  },
  {
   "cell_type": "markdown",
   "source": [
    "### Runtime"
   ],
   "metadata": {}
  },
  {
   "cell_type": "code",
   "execution_count": 18,
   "source": [
    "runtimes_np = np.array(runtimes)\n",
    "plot_cdf(runtimes_np, 'runtime (milliseconds)', 'online_runtime')\n",
    "plt.show()\n",
    "summary = summarize_distribution(runtimes_np)"
   ],
   "outputs": [
    {
     "output_type": "stream",
     "name": "stderr",
     "text": [
      "DEBUG matplotlib.font_manager 2021-07-28 16:38:07,484 font_manager.py:1329 findfont: Matching sans\\-serif:style=normal:variant=normal:weight=normal:stretch=normal:size=10.0.\n",
      "DEBUG matplotlib.font_manager 2021-07-28 16:38:07,485 font_manager.py:1341 findfont: score(<Font 'DejaVu Sans Display' (DejaVuSansDisplay.ttf) normal normal 400 normal>) = 10.05\n",
      "DEBUG matplotlib.font_manager 2021-07-28 16:38:07,486 font_manager.py:1341 findfont: score(<Font 'cmtt10' (cmtt10.ttf) normal normal 400 normal>) = 10.05\n",
      "DEBUG matplotlib.font_manager 2021-07-28 16:38:07,487 font_manager.py:1341 findfont: score(<Font 'DejaVu Serif' (DejaVuSerif-BoldItalic.ttf) italic normal 700 normal>) = 11.335\n",
      "DEBUG matplotlib.font_manager 2021-07-28 16:38:07,488 font_manager.py:1341 findfont: score(<Font 'STIXNonUnicode' (STIXNonUniIta.ttf) italic normal 400 normal>) = 11.05\n",
      "DEBUG matplotlib.font_manager 2021-07-28 16:38:07,489 font_manager.py:1341 findfont: score(<Font 'DejaVu Sans Mono' (DejaVuSansMono-Bold.ttf) normal normal 700 normal>) = 10.335\n",
      "DEBUG matplotlib.font_manager 2021-07-28 16:38:07,490 font_manager.py:1341 findfont: score(<Font 'STIXGeneral' (STIXGeneralItalic.ttf) italic normal 400 normal>) = 11.05\n",
      "DEBUG matplotlib.font_manager 2021-07-28 16:38:07,491 font_manager.py:1341 findfont: score(<Font 'STIXSizeThreeSym' (STIXSizThreeSymBol.ttf) normal normal 700 normal>) = 10.335\n",
      "DEBUG matplotlib.font_manager 2021-07-28 16:38:07,492 font_manager.py:1341 findfont: score(<Font 'DejaVu Sans Mono' (DejaVuSansMono.ttf) normal normal 400 normal>) = 10.05\n",
      "DEBUG matplotlib.font_manager 2021-07-28 16:38:07,493 font_manager.py:1341 findfont: score(<Font 'STIXGeneral' (STIXGeneralBol.ttf) normal normal 700 normal>) = 10.335\n",
      "DEBUG matplotlib.font_manager 2021-07-28 16:38:07,494 font_manager.py:1341 findfont: score(<Font 'DejaVu Sans' (DejaVuSans-Oblique.ttf) oblique normal 400 normal>) = 1.05\n",
      "DEBUG matplotlib.font_manager 2021-07-28 16:38:07,495 font_manager.py:1341 findfont: score(<Font 'DejaVu Sans Mono' (DejaVuSansMono-BoldOblique.ttf) oblique normal 700 normal>) = 11.335\n",
      "DEBUG matplotlib.font_manager 2021-07-28 16:38:07,497 font_manager.py:1341 findfont: score(<Font 'STIXSizeThreeSym' (STIXSizThreeSymReg.ttf) normal normal 400 normal>) = 10.05\n",
      "DEBUG matplotlib.font_manager 2021-07-28 16:38:07,498 font_manager.py:1341 findfont: score(<Font 'DejaVu Serif' (DejaVuSerif.ttf) normal normal 400 normal>) = 10.05\n",
      "DEBUG matplotlib.font_manager 2021-07-28 16:38:07,501 font_manager.py:1341 findfont: score(<Font 'cmmi10' (cmmi10.ttf) normal normal 400 normal>) = 10.05\n",
      "DEBUG matplotlib.font_manager 2021-07-28 16:38:07,503 font_manager.py:1341 findfont: score(<Font 'STIXSizeOneSym' (STIXSizOneSymReg.ttf) normal normal 400 normal>) = 10.05\n",
      "DEBUG matplotlib.font_manager 2021-07-28 16:38:07,506 font_manager.py:1341 findfont: score(<Font 'STIXSizeFourSym' (STIXSizFourSymBol.ttf) normal normal 700 normal>) = 10.335\n",
      "DEBUG matplotlib.font_manager 2021-07-28 16:38:07,510 font_manager.py:1341 findfont: score(<Font 'DejaVu Sans Mono' (DejaVuSansMono-Oblique.ttf) oblique normal 400 normal>) = 11.05\n",
      "DEBUG matplotlib.font_manager 2021-07-28 16:38:07,512 font_manager.py:1341 findfont: score(<Font 'cmr10' (cmr10.ttf) normal normal 400 normal>) = 10.05\n",
      "DEBUG matplotlib.font_manager 2021-07-28 16:38:07,514 font_manager.py:1341 findfont: score(<Font 'STIXSizeTwoSym' (STIXSizTwoSymBol.ttf) normal normal 700 normal>) = 10.335\n",
      "DEBUG matplotlib.font_manager 2021-07-28 16:38:07,516 font_manager.py:1341 findfont: score(<Font 'DejaVu Serif' (DejaVuSerif-Bold.ttf) normal normal 700 normal>) = 10.335\n",
      "DEBUG matplotlib.font_manager 2021-07-28 16:38:07,518 font_manager.py:1341 findfont: score(<Font 'STIXSizeFourSym' (STIXSizFourSymReg.ttf) normal normal 400 normal>) = 10.05\n",
      "DEBUG matplotlib.font_manager 2021-07-28 16:38:07,519 font_manager.py:1341 findfont: score(<Font 'STIXSizeTwoSym' (STIXSizTwoSymReg.ttf) normal normal 400 normal>) = 10.05\n",
      "DEBUG matplotlib.font_manager 2021-07-28 16:38:07,521 font_manager.py:1341 findfont: score(<Font 'DejaVu Serif' (DejaVuSerif-Italic.ttf) italic normal 400 normal>) = 11.05\n",
      "DEBUG matplotlib.font_manager 2021-07-28 16:38:07,522 font_manager.py:1341 findfont: score(<Font 'STIXGeneral' (STIXGeneralBolIta.ttf) italic normal 700 normal>) = 11.335\n",
      "DEBUG matplotlib.font_manager 2021-07-28 16:38:07,523 font_manager.py:1341 findfont: score(<Font 'STIXGeneral' (STIXGeneral.ttf) normal normal 400 normal>) = 10.05\n",
      "DEBUG matplotlib.font_manager 2021-07-28 16:38:07,524 font_manager.py:1341 findfont: score(<Font 'STIXNonUnicode' (STIXNonUni.ttf) normal normal 400 normal>) = 10.05\n",
      "DEBUG matplotlib.font_manager 2021-07-28 16:38:07,527 font_manager.py:1341 findfont: score(<Font 'DejaVu Sans' (DejaVuSans-BoldOblique.ttf) oblique normal 700 normal>) = 1.335\n",
      "DEBUG matplotlib.font_manager 2021-07-28 16:38:07,528 font_manager.py:1341 findfont: score(<Font 'cmss10' (cmss10.ttf) normal normal 400 normal>) = 10.05\n",
      "DEBUG matplotlib.font_manager 2021-07-28 16:38:07,531 font_manager.py:1341 findfont: score(<Font 'DejaVu Serif Display' (DejaVuSerifDisplay.ttf) normal normal 400 normal>) = 10.05\n",
      "DEBUG matplotlib.font_manager 2021-07-28 16:38:07,533 font_manager.py:1341 findfont: score(<Font 'DejaVu Sans' (DejaVuSans-Bold.ttf) normal normal 700 normal>) = 0.33499999999999996\n",
      "DEBUG matplotlib.font_manager 2021-07-28 16:38:07,536 font_manager.py:1341 findfont: score(<Font 'cmex10' (cmex10.ttf) normal normal 400 normal>) = 10.05\n",
      "DEBUG matplotlib.font_manager 2021-07-28 16:38:07,537 font_manager.py:1341 findfont: score(<Font 'cmsy10' (cmsy10.ttf) normal normal 400 normal>) = 10.05\n",
      "DEBUG matplotlib.font_manager 2021-07-28 16:38:07,539 font_manager.py:1341 findfont: score(<Font 'STIXSizeOneSym' (STIXSizOneSymBol.ttf) normal normal 700 normal>) = 10.335\n",
      "DEBUG matplotlib.font_manager 2021-07-28 16:38:07,541 font_manager.py:1341 findfont: score(<Font 'cmb10' (cmb10.ttf) normal normal 400 normal>) = 10.05\n",
      "DEBUG matplotlib.font_manager 2021-07-28 16:38:07,545 font_manager.py:1341 findfont: score(<Font 'STIXSizeFiveSym' (STIXSizFiveSymReg.ttf) normal normal 400 normal>) = 10.05\n",
      "DEBUG matplotlib.font_manager 2021-07-28 16:38:07,546 font_manager.py:1341 findfont: score(<Font 'STIXNonUnicode' (STIXNonUniBolIta.ttf) italic normal 700 normal>) = 11.335\n",
      "DEBUG matplotlib.font_manager 2021-07-28 16:38:07,548 font_manager.py:1341 findfont: score(<Font 'DejaVu Sans' (DejaVuSans.ttf) normal normal 400 normal>) = 0.05\n",
      "DEBUG matplotlib.font_manager 2021-07-28 16:38:07,550 font_manager.py:1341 findfont: score(<Font 'STIXNonUnicode' (STIXNonUniBol.ttf) normal normal 700 normal>) = 10.335\n",
      "DEBUG matplotlib.font_manager 2021-07-28 16:38:07,551 font_manager.py:1341 findfont: score(<Font 'DejaVu Sans' (DejaVuSans.ttf) normal normal 400 normal>) = 0.05\n",
      "DEBUG matplotlib.font_manager 2021-07-28 16:38:07,552 font_manager.py:1341 findfont: score(<Font 'DejaVu Serif' (DejaVuSerif.ttf) normal normal 400 normal>) = 10.05\n",
      "DEBUG matplotlib.font_manager 2021-07-28 16:38:07,553 font_manager.py:1341 findfont: score(<Font 'DejaVu Sans Mono' (DejaVuSansMono-Bold.ttf) normal normal 700 normal>) = 10.335\n",
      "DEBUG matplotlib.font_manager 2021-07-28 16:38:07,554 font_manager.py:1341 findfont: score(<Font 'DejaVu Sans' (DejaVuSans-Bold.ttf) normal normal 700 normal>) = 0.33499999999999996\n",
      "DEBUG matplotlib.font_manager 2021-07-28 16:38:07,555 font_manager.py:1341 findfont: score(<Font 'DejaVu Sans Mono' (DejaVuSansMono.ttf) normal normal 400 normal>) = 10.05\n",
      "DEBUG matplotlib.font_manager 2021-07-28 16:38:07,559 font_manager.py:1341 findfont: score(<Font 'DejaVu Serif' (DejaVuSerif-Bold.ttf) normal normal 700 normal>) = 10.335\n",
      "DEBUG matplotlib.font_manager 2021-07-28 16:38:07,560 font_manager.py:1367 findfont: Matching sans\\-serif:style=normal:variant=normal:weight=normal:stretch=normal:size=10.0 to DejaVu Sans ('/home/jonhue/projects/jonhue/bachelors-thesis/venv/lib/python3.8/site-packages/matplotlib/mpl-data/fonts/ttf/DejaVuSans.ttf') with score of 0.050000.\n"
     ]
    },
    {
     "output_type": "display_data",
     "data": {
      "text/plain": [
       "<Figure size 640x480 with 1 Axes>"
      ],
      "image/png": "[encoded data removed]"
     },
     "metadata": {}
    }
   ],
   "metadata": {}
  },
  {
   "cell_type": "markdown",
   "source": [
    "### Model"
   ],
   "metadata": {}
  },
  {
   "cell_type": "markdown",
   "source": [
    "Proportion of energy cost to delay cost"
   ],
   "metadata": {}
  },
  {
   "cell_type": "code",
   "execution_count": 19,
   "source": [
    "ec_vs_rl = energy_cost / revenue_loss if revenue_loss > 0 else np.Inf\n",
    "hc_vs_sc = (energy_cost + revenue_loss) / switching_cost\n",
    "ec_vs_rl, hc_vs_sc"
   ],
   "outputs": [
    {
     "output_type": "execute_result",
     "data": {
      "text/plain": [
       "(8.121720881427072, -26.271922273043742)"
      ]
     },
     "metadata": {},
     "execution_count": 19
    }
   ],
   "metadata": {}
  }
 ],
 "metadata": {
  "orig_nbformat": 4,
  "language_info": {
   "name": "python",
   "version": "3.8.10",
   "mimetype": "text/x-python",
   "codemirror_mode": {
    "name": "ipython",
    "version": 3
   },
   "pygments_lexer": "ipython3",
   "nbconvert_exporter": "python",
   "file_extension": ".py"
  },
  "kernelspec": {
   "name": "python3",
   "display_name": "Python 3.8.10 64-bit ('venv': venv)"
  },
  "interpreter": {
   "hash": "bfb6e60757c36aad7e076b66c35f1b7ceb420a8f6d971dc47958a23072a9b46f"
  }
 },
 "nbformat": 4,
 "nbformat_minor": 2
}