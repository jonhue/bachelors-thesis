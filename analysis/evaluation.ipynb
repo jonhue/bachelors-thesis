{
 "cells": [
  {
   "cell_type": "code",
   "execution_count": 1,
   "source": [
    "import numpy as np\n",
    "import matplotlib.pyplot as plt"
   ],
   "outputs": [],
   "metadata": {}
  },
  {
   "cell_type": "code",
   "execution_count": 2,
   "source": [
    "from lib.model import build_model, FACEBOOK_2009_0, ENERGY_MODEL_WIERMAN\n",
    "from lib.utils import summarize_distribution, plot_cdf"
   ],
   "outputs": [],
   "metadata": {}
  },
  {
   "cell_type": "code",
   "execution_count": 3,
   "source": [
    "import logging\n",
    "\n",
    "FORMAT = '%(levelname)s %(name)s %(asctime)-15s %(filename)s:%(lineno)d %(message)s'\n",
    "logging.basicConfig(format=FORMAT)\n",
    "logging.getLogger().setLevel(logging.INFO)"
   ],
   "outputs": [],
   "metadata": {}
  },
  {
   "cell_type": "code",
   "execution_count": 4,
   "source": [
    "TIME_SLOT_LENGTH = 10 * 60\n",
    "NORMALIZED_SWITCHING_COST = 1\n",
    "REVENUE_LOSS = 0.1"
   ],
   "outputs": [],
   "metadata": {}
  },
  {
   "cell_type": "markdown",
   "source": [
    "# Model"
   ],
   "metadata": {}
  },
  {
   "cell_type": "code",
   "execution_count": 5,
   "source": [
    "model = build_model(\n",
    "  FACEBOOK_2009_0,\n",
    "  ENERGY_MODEL_WIERMAN,\n",
    "  TIME_SLOT_LENGTH,\n",
    "  NORMALIZED_SWITCHING_COST,\n",
    "  REVENUE_LOSS,\n",
    ")"
   ],
   "outputs": [],
   "metadata": {}
  },
  {
   "cell_type": "markdown",
   "source": [
    "# Inputs"
   ],
   "metadata": {}
  },
  {
   "cell_type": "code",
   "execution_count": 6,
   "source": [
    "inp = [[1], [5], [10], [3], [1], [10], [10], [3]]\n",
    "online_inp = [[[[1]]], [[[5]]], [[[10]]], [[[3]]], [[[1]]], [[[10]]], [[[10]]], [[[3]]]]"
   ],
   "outputs": [],
   "metadata": {}
  },
  {
   "cell_type": "markdown",
   "source": [
    "# Execute"
   ],
   "metadata": {}
  },
  {
   "cell_type": "markdown",
   "source": [
    "## Offline"
   ],
   "metadata": {}
  },
  {
   "cell_type": "code",
   "execution_count": 7,
   "source": [
    "from lib.offline import evaluate_1d\n",
    "\n",
    "opt, iopt, _, _ = evaluate_1d(model, inp)"
   ],
   "outputs": [
    {
     "output_type": "stream",
     "name": "stderr",
     "text": [
      "INFO soco.bindings.data_center.offline 2021-07-28 18:16:03,094 offline.rs:83 Graph Search\n",
      "INFO soco.streaming.offline 2021-07-28 18:16:03,095 offline.rs:40 Generated a problem instance: SimplifiedSmoothedConvexOptimization { d: 1, t_end: 8, bounds: [600], switching_cost: [6.0] }\n",
      "INFO soco.streaming.offline 2021-07-28 18:16:03,096 offline.rs:42 Simulating until time slot 8.\n",
      "INFO soco.streaming.offline 2021-07-28 18:16:06,394 offline.rs:49 Completed with Cost { cost: 21076.0, output: Success(DataCenterModelOutputSuccess { energy_cost: 18000.0, revenue_loss: 2998.0, assignments: [[[]], [[]], [[]], [[]], [[]], [[]], [[]], [[]]] }) } and Schedule([Config([1]), Config([3]), Config([7]), Config([2]), Config([1]), Config([7]), Config([7]), Config([2])])\n",
      "INFO soco.bindings.data_center.offline 2021-07-28 18:16:06,396 offline.rs:130 Convex Program\n",
      "INFO soco.streaming.offline 2021-07-28 18:16:06,397 offline.rs:40 Generated a problem instance: SmoothedConvexOptimization { d: 1, t_end: 8, bounds: [(0.0, 600.0)] }\n",
      "INFO soco.streaming.offline 2021-07-28 18:16:06,398 offline.rs:42 Simulating until time slot 8.\n",
      "INFO soco.streaming.offline 2021-07-28 18:16:06,565 offline.rs:49 Completed with Cost { cost: 1877203.252998, output: Success(DataCenterModelOutputSuccess { energy_cost: 1874586.0696, revenue_loss: 0.0, assignments: [[[]], [[]], [[]], [[]], [[]], [[]], [[]], [[]]] }) } and Schedule([Config([103.11876099999999]), Config([436.19492399999996]), Config([435.84432899999996]), Config([435.39985099999996]), Config([429.03112699999997]), Config([429.033436]), Config([429.016617]), Config([426.671071])])\n"
     ]
    }
   ],
   "metadata": {}
  },
  {
   "cell_type": "code",
   "execution_count": 8,
   "source": [
    "from lib.offline import evaluate_static\n",
    "\n",
    "opts, iopts, _, _ = evaluate_static(model, inp)"
   ],
   "outputs": [
    {
     "output_type": "stream",
     "name": "stderr",
     "text": [
      "INFO soco.bindings.data_center.offline 2021-07-28 18:16:06,673 offline.rs:130 Convex Program\n",
      "INFO soco.streaming.offline 2021-07-28 18:16:06,675 offline.rs:40 Generated a problem instance: SmoothedConvexOptimization { d: 1, t_end: 8, bounds: [(0.0, 600.0)] }\n",
      "INFO soco.streaming.offline 2021-07-28 18:16:06,677 offline.rs:42 Simulating until time slot 8.\n",
      "INFO soco.streaming.offline 2021-07-28 18:16:09,610 offline.rs:49 Completed with Cost { cost: 29552.038022393408, output: Success(DataCenterModelOutputSuccess { energy_cost: 26751.3228, revenue_loss: 2755.443026393409, assignments: [[[]], [[]], [[]], [[]], [[]], [[]], [[]], [[]]] }) } and Schedule([Config([0.7427349999999999]), Config([3.392366]), Config([5.938256]), Config([5.938243]), Config([5.938254]), Config([7.544988]), Config([7.545343]), Config([7.5453529999999995])])\n",
      "INFO soco.bindings.data_center.offline 2021-07-28 18:16:09,612 offline.rs:147 Static Integral\n",
      "INFO soco.streaming.offline 2021-07-28 18:16:09,613 offline.rs:40 Generated a problem instance: SimplifiedSmoothedConvexOptimization { d: 1, t_end: 8, bounds: [600], switching_cost: [6.0] }\n",
      "INFO soco.streaming.offline 2021-07-28 18:16:09,615 offline.rs:42 Simulating until time slot 8.\n",
      "INFO soco.streaming.offline 2021-07-28 18:16:12,506 offline.rs:49 Completed with Cost { cost: 32953.142857142855, output: Success(DataCenterModelOutputSuccess { energy_cost: 28800.0, revenue_loss: 4117.142857142857, assignments: [[[]], [[]], [[]], [[]], [[]], [[]], [[]], [[]]] }) } and Schedule([Config([6]), Config([6]), Config([6]), Config([6]), Config([6]), Config([6]), Config([6]), Config([6])])\n"
     ]
    }
   ],
   "metadata": {}
  },
  {
   "cell_type": "markdown",
   "source": [
    "### Approximation algorithm"
   ],
   "metadata": {}
  },
  {
   "cell_type": "code",
   "execution_count": 9,
   "source": [
    "# from lib.utils import plot\n",
    "# import numpy as np\n",
    "# import matplotlib.pyplot as plt\n",
    "# from lib.offline import evaluate_approx_graph_search\n",
    "\n",
    "# # plot(np.array([1,2,3,4,5]), np.array([1,2,3,4,5]), 'x axis', 'y axis', 'test')\n",
    "# # plt.show()\n",
    "\n",
    "# x, y, opt = evaluate_approx_graph_search(model, inp)\n",
    "# plt.axhline(y=opt, color='r', linestyle='-')\n",
    "# plot(x, y, 'gamma', 'cost', 'approx_graph_search')\n",
    "# plt.show()"
   ],
   "outputs": [],
   "metadata": {}
  },
  {
   "cell_type": "markdown",
   "source": [
    "## Online"
   ],
   "metadata": {}
  },
  {
   "cell_type": "code",
   "execution_count": 11,
   "source": [
    "from lib.online import evaluate_randomized_randomly_biased_greedy\n",
    "\n",
    "initial_alg, alg, initial_ialg, ialg, energy_cost, revenue_loss, switching_cost, initial_runtime, runtimes = evaluate_randomized_randomly_biased_greedy(model, [], online_inp)"
   ],
   "outputs": [
    {
     "output_type": "stream",
     "name": "stderr",
     "text": [
      "INFO soco.streaming.online 2021-07-28 18:16:30,930 online.rs:114 Generated a problem instance: Online { p: SimplifiedSmoothedConvexOptimization { d: 1, t_end: 0, bounds: [600], switching_cost: [6.0] }, w: 0 }\n",
      "INFO soco.streaming.online 2021-07-28 18:16:30,932 online.rs:116 Simulating until time slot 0.\n",
      "INFO soco.streaming.online 2021-07-28 18:16:30,938 online.rs:162 [server] Running on 127.0.0.1:3449.\n",
      "  0%|          | 0/8 [00:00<?, ?it/s]INFO soco.streaming.online 2021-07-28 18:16:30,946 online.rs:169 [server] Connection established!\n",
      "INFO soco.streaming.online 2021-07-28 18:16:30,947 online.rs:263 [client] Connected to 127.0.0.1:3449.\n",
      "INFO soco.streaming.online 2021-07-28 18:16:30,949 online.rs:268 [client] Sent: DataCenterOnlineInput { loads: [PredictedLoadProfile([[1.0]])] }\n",
      "INFO soco.streaming.online 2021-07-28 18:16:30,951 online.rs:194 [server] Received: DataCenterOnlineInput { loads: [PredictedLoadProfile([[1.0]])] }\n",
      "INFO soco.model.data_center.model 2021-07-28 18:16:30,952 model.rs:662 Updating online instance to time slot 1.\n",
      "INFO soco.streaming.online 2021-07-28 18:16:30,954 online.rs:196 [server] Updated problem instance.\n",
      "INFO soco.streaming.online 2021-07-28 18:16:31,612 online.rs:218 [server] Sent: Ok(((Config([147]), Cost { cost: 89082.0, output: Success(DataCenterModelOutputSuccess { energy_cost: 88200.0, revenue_loss: 0.0, assignments: [[[]]] }) }), (Config([147]), Cost { cost: 89082.0, output: Success(DataCenterModelOutputSuccess { energy_cost: 88200.0, revenue_loss: 0.0, assignments: [[[]]] }) }), Some(Memory { y: Config([146.666656]), relaxation_m: None }), 656))\n",
      "INFO soco.streaming.online 2021-07-28 18:16:31,614 online.rs:270 [client] Received: Ok(((Config([147]), Cost { cost: 89082.0, output: Success(DataCenterModelOutputSuccess { energy_cost: 88200.0, revenue_loss: 0.0, assignments: [[[]]] }) }), (Config([147]), Cost { cost: 89082.0, output: Success(DataCenterModelOutputSuccess { energy_cost: 88200.0, revenue_loss: 0.0, assignments: [[[]]] }) }), Some(Memory { y: Config([146.666656]), relaxation_m: None }), 656))\n",
      " 12%|█▎        | 1/8 [00:00<00:04,  1.49it/s]INFO soco.streaming.online 2021-07-28 18:16:31,618 online.rs:169 [server] Connection established!\n",
      "INFO soco.streaming.online 2021-07-28 18:16:31,619 online.rs:263 [client] Connected to 127.0.0.1:3449.\n",
      "INFO soco.streaming.online 2021-07-28 18:16:31,623 online.rs:268 [client] Sent: DataCenterOnlineInput { loads: [PredictedLoadProfile([[5.0]])] }\n",
      "INFO soco.streaming.online 2021-07-28 18:16:31,624 online.rs:194 [server] Received: DataCenterOnlineInput { loads: [PredictedLoadProfile([[5.0]])] }\n",
      "INFO soco.model.data_center.model 2021-07-28 18:16:31,629 model.rs:662 Updating online instance to time slot 2.\n",
      "INFO soco.streaming.online 2021-07-28 18:16:31,633 online.rs:196 [server] Updated problem instance.\n",
      "INFO soco.streaming.online 2021-07-28 18:16:32,283 online.rs:218 [server] Sent: Ok(((Config([147]), Cost { cost: 177282.0, output: Success(DataCenterModelOutputSuccess { energy_cost: 176400.0, revenue_loss: 0.0, assignments: [[[]], [[]]] }) }), (Config([147]), Cost { cost: 177282.0, output: Success(DataCenterModelOutputSuccess { energy_cost: 176400.0, revenue_loss: 0.0, assignments: [[[]], [[]]] }) }), Some(Memory { y: Config([146.66672499999999]), relaxation_m: None }), 644))\n",
      "INFO soco.streaming.online 2021-07-28 18:16:32,284 online.rs:270 [client] Received: Ok(((Config([147]), Cost { cost: 177282.0, output: Success(DataCenterModelOutputSuccess { energy_cost: 176400.0, revenue_loss: 0.0, assignments: [[[]], [[]]] }) }), (Config([147]), Cost { cost: 177282.0, output: Success(DataCenterModelOutputSuccess { energy_cost: 176400.0, revenue_loss: 0.0, assignments: [[[]], [[]]] }) }), Some(Memory { y: Config([146.66672499999999]), relaxation_m: None }), 644))\n",
      " 25%|██▌       | 2/8 [00:01<00:04,  1.49it/s]INFO soco.streaming.online 2021-07-28 18:16:32,289 online.rs:263 [client] Connected to 127.0.0.1:3449.\n",
      "INFO soco.streaming.online 2021-07-28 18:16:32,291 online.rs:169 [server] Connection established!\n",
      "INFO soco.streaming.online 2021-07-28 18:16:32,293 online.rs:268 [client] Sent: DataCenterOnlineInput { loads: [PredictedLoadProfile([[10.0]])] }\n",
      "INFO soco.streaming.online 2021-07-28 18:16:32,294 online.rs:194 [server] Received: DataCenterOnlineInput { loads: [PredictedLoadProfile([[10.0]])] }\n",
      "INFO soco.model.data_center.model 2021-07-28 18:16:32,299 model.rs:662 Updating online instance to time slot 3.\n",
      "INFO soco.streaming.online 2021-07-28 18:16:32,301 online.rs:196 [server] Updated problem instance.\n",
      "INFO soco.streaming.online 2021-07-28 18:16:33,067 online.rs:218 [server] Sent: Ok(((Config([147]), Cost { cost: 265482.0, output: Success(DataCenterModelOutputSuccess { energy_cost: 264600.0, revenue_loss: 0.0, assignments: [[[]], [[]], [[]]] }) }), (Config([147]), Cost { cost: 265482.0, output: Success(DataCenterModelOutputSuccess { energy_cost: 264600.0, revenue_loss: 0.0, assignments: [[[]], [[]], [[]]] }) }), Some(Memory { y: Config([146.66664]), relaxation_m: None }), 760))\n",
      "INFO soco.streaming.online 2021-07-28 18:16:33,068 online.rs:270 [client] Received: Ok(((Config([147]), Cost { cost: 265482.0, output: Success(DataCenterModelOutputSuccess { energy_cost: 264600.0, revenue_loss: 0.0, assignments: [[[]], [[]], [[]]] }) }), (Config([147]), Cost { cost: 265482.0, output: Success(DataCenterModelOutputSuccess { energy_cost: 264600.0, revenue_loss: 0.0, assignments: [[[]], [[]], [[]]] }) }), Some(Memory { y: Config([146.66664]), relaxation_m: None }), 760))\n",
      " 38%|███▊      | 3/8 [00:02<00:03,  1.38it/s]INFO soco.streaming.online 2021-07-28 18:16:33,073 online.rs:263 [client] Connected to 127.0.0.1:3449.\n",
      "INFO soco.streaming.online 2021-07-28 18:16:33,074 online.rs:169 [server] Connection established!\n",
      "INFO soco.streaming.online 2021-07-28 18:16:33,078 online.rs:268 [client] Sent: DataCenterOnlineInput { loads: [PredictedLoadProfile([[3.0]])] }\n",
      "INFO soco.streaming.online 2021-07-28 18:16:33,080 online.rs:194 [server] Received: DataCenterOnlineInput { loads: [PredictedLoadProfile([[3.0]])] }\n",
      "INFO soco.model.data_center.model 2021-07-28 18:16:33,084 model.rs:662 Updating online instance to time slot 4.\n",
      "INFO soco.streaming.online 2021-07-28 18:16:33,087 online.rs:196 [server] Updated problem instance.\n",
      "INFO soco.streaming.online 2021-07-28 18:16:34,151 online.rs:218 [server] Sent: Ok(((Config([147]), Cost { cost: 353682.0, output: Success(DataCenterModelOutputSuccess { energy_cost: 352800.0, revenue_loss: 0.0, assignments: [[[]], [[]], [[]], [[]]] }) }), (Config([147]), Cost { cost: 353682.0, output: Success(DataCenterModelOutputSuccess { energy_cost: 352800.0, revenue_loss: 0.0, assignments: [[[]], [[]], [[]], [[]]] }) }), Some(Memory { y: Config([146.666664]), relaxation_m: None }), 1055))\n",
      "INFO soco.streaming.online 2021-07-28 18:16:34,154 online.rs:270 [client] Received: Ok(((Config([147]), Cost { cost: 353682.0, output: Success(DataCenterModelOutputSuccess { energy_cost: 352800.0, revenue_loss: 0.0, assignments: [[[]], [[]], [[]], [[]]] }) }), (Config([147]), Cost { cost: 353682.0, output: Success(DataCenterModelOutputSuccess { energy_cost: 352800.0, revenue_loss: 0.0, assignments: [[[]], [[]], [[]], [[]]] }) }), Some(Memory { y: Config([146.666664]), relaxation_m: None }), 1055))\n",
      " 50%|█████     | 4/8 [00:03<00:03,  1.16it/s]INFO soco.streaming.online 2021-07-28 18:16:34,157 online.rs:263 [client] Connected to 127.0.0.1:3449.\n",
      "INFO soco.streaming.online 2021-07-28 18:16:34,158 online.rs:169 [server] Connection established!\n",
      "INFO soco.streaming.online 2021-07-28 18:16:34,161 online.rs:268 [client] Sent: DataCenterOnlineInput { loads: [PredictedLoadProfile([[1.0]])] }\n",
      "INFO soco.streaming.online 2021-07-28 18:16:34,164 online.rs:194 [server] Received: DataCenterOnlineInput { loads: [PredictedLoadProfile([[1.0]])] }\n",
      "INFO soco.model.data_center.model 2021-07-28 18:16:34,167 model.rs:662 Updating online instance to time slot 5.\n",
      "INFO soco.streaming.online 2021-07-28 18:16:34,169 online.rs:196 [server] Updated problem instance.\n",
      "INFO soco.streaming.online 2021-07-28 18:16:35,462 online.rs:218 [server] Sent: Ok(((Config([147]), Cost { cost: 441882.0, output: Success(DataCenterModelOutputSuccess { energy_cost: 441000.0, revenue_loss: 0.0, assignments: [[[]], [[]], [[]], [[]], [[]]] }) }), (Config([147]), Cost { cost: 441882.0, output: Success(DataCenterModelOutputSuccess { energy_cost: 441000.0, revenue_loss: 0.0, assignments: [[[]], [[]], [[]], [[]], [[]]] }) }), Some(Memory { y: Config([146.66667099999998]), relaxation_m: None }), 1281))\n",
      "INFO soco.streaming.online 2021-07-28 18:16:35,463 online.rs:270 [client] Received: Ok(((Config([147]), Cost { cost: 441882.0, output: Success(DataCenterModelOutputSuccess { energy_cost: 441000.0, revenue_loss: 0.0, assignments: [[[]], [[]], [[]], [[]], [[]]] }) }), (Config([147]), Cost { cost: 441882.0, output: Success(DataCenterModelOutputSuccess { energy_cost: 441000.0, revenue_loss: 0.0, assignments: [[[]], [[]], [[]], [[]], [[]]] }) }), Some(Memory { y: Config([146.66667099999998]), relaxation_m: None }), 1281))\n",
      " 62%|██████▎   | 5/8 [00:04<00:03,  1.03s/it]INFO soco.streaming.online 2021-07-28 18:16:35,468 online.rs:169 [server] Connection established!\n",
      "INFO soco.streaming.online 2021-07-28 18:16:35,472 online.rs:263 [client] Connected to 127.0.0.1:3449.\n",
      "INFO soco.streaming.online 2021-07-28 18:16:35,477 online.rs:268 [client] Sent: DataCenterOnlineInput { loads: [PredictedLoadProfile([[10.0]])] }\n",
      "INFO soco.streaming.online 2021-07-28 18:16:35,478 online.rs:194 [server] Received: DataCenterOnlineInput { loads: [PredictedLoadProfile([[10.0]])] }\n",
      "INFO soco.model.data_center.model 2021-07-28 18:16:35,481 model.rs:662 Updating online instance to time slot 6.\n",
      "INFO soco.streaming.online 2021-07-28 18:16:35,484 online.rs:196 [server] Updated problem instance.\n",
      "INFO soco.streaming.online 2021-07-28 18:16:36,528 online.rs:218 [server] Sent: Ok(((Config([147]), Cost { cost: 530082.0, output: Success(DataCenterModelOutputSuccess { energy_cost: 529200.0, revenue_loss: 0.0, assignments: [[[]], [[]], [[]], [[]], [[]], [[]]] }) }), (Config([147]), Cost { cost: 530082.0, output: Success(DataCenterModelOutputSuccess { energy_cost: 529200.0, revenue_loss: 0.0, assignments: [[[]], [[]], [[]], [[]], [[]], [[]]] }) }), Some(Memory { y: Config([146.6667]), relaxation_m: None }), 1031))\n",
      "INFO soco.streaming.online 2021-07-28 18:16:36,529 online.rs:270 [client] Received: Ok(((Config([147]), Cost { cost: 530082.0, output: Success(DataCenterModelOutputSuccess { energy_cost: 529200.0, revenue_loss: 0.0, assignments: [[[]], [[]], [[]], [[]], [[]], [[]]] }) }), (Config([147]), Cost { cost: 530082.0, output: Success(DataCenterModelOutputSuccess { energy_cost: 529200.0, revenue_loss: 0.0, assignments: [[[]], [[]], [[]], [[]], [[]], [[]]] }) }), Some(Memory { y: Config([146.6667]), relaxation_m: None }), 1031))\n",
      " 75%|███████▌  | 6/8 [00:05<00:02,  1.04s/it]INFO soco.streaming.online 2021-07-28 18:16:36,532 online.rs:263 [client] Connected to 127.0.0.1:3449.\n",
      "INFO soco.streaming.online 2021-07-28 18:16:36,532 online.rs:169 [server] Connection established!\n",
      "INFO soco.streaming.online 2021-07-28 18:16:36,534 online.rs:268 [client] Sent: DataCenterOnlineInput { loads: [PredictedLoadProfile([[10.0]])] }\n",
      "INFO soco.streaming.online 2021-07-28 18:16:36,535 online.rs:194 [server] Received: DataCenterOnlineInput { loads: [PredictedLoadProfile([[10.0]])] }\n",
      "INFO soco.model.data_center.model 2021-07-28 18:16:36,537 model.rs:662 Updating online instance to time slot 7.\n",
      "INFO soco.streaming.online 2021-07-28 18:16:36,539 online.rs:196 [server] Updated problem instance.\n",
      "INFO soco.streaming.online 2021-07-28 18:16:37,676 online.rs:218 [server] Sent: Ok(((Config([147]), Cost { cost: 618282.0, output: Success(DataCenterModelOutputSuccess { energy_cost: 617400.0, revenue_loss: 0.0, assignments: [[[]], [[]], [[]], [[]], [[]], [[]], [[]]] }) }), (Config([147]), Cost { cost: 618282.0, output: Success(DataCenterModelOutputSuccess { energy_cost: 617400.0, revenue_loss: 0.0, assignments: [[[]], [[]], [[]], [[]], [[]], [[]], [[]]] }) }), Some(Memory { y: Config([146.66667099999998]), relaxation_m: None }), 1126))\n",
      "INFO soco.streaming.online 2021-07-28 18:16:37,676 online.rs:270 [client] Received: Ok(((Config([147]), Cost { cost: 618282.0, output: Success(DataCenterModelOutputSuccess { energy_cost: 617400.0, revenue_loss: 0.0, assignments: [[[]], [[]], [[]], [[]], [[]], [[]], [[]]] }) }), (Config([147]), Cost { cost: 618282.0, output: Success(DataCenterModelOutputSuccess { energy_cost: 617400.0, revenue_loss: 0.0, assignments: [[[]], [[]], [[]], [[]], [[]], [[]], [[]]] }) }), Some(Memory { y: Config([146.66667099999998]), relaxation_m: None }), 1126))\n",
      " 88%|████████▊ | 7/8 [00:06<00:01,  1.07s/it]INFO soco.streaming.online 2021-07-28 18:16:37,679 online.rs:169 [server] Connection established!\n",
      "INFO soco.streaming.online 2021-07-28 18:16:37,680 online.rs:263 [client] Connected to 127.0.0.1:3449.\n",
      "INFO soco.streaming.online 2021-07-28 18:16:37,682 online.rs:194 [server] Received: DataCenterOnlineInput { loads: [PredictedLoadProfile([[3.0]])] }\n",
      "INFO soco.streaming.online 2021-07-28 18:16:37,683 online.rs:268 [client] Sent: DataCenterOnlineInput { loads: [PredictedLoadProfile([[3.0]])] }\n",
      "INFO soco.model.data_center.model 2021-07-28 18:16:37,683 model.rs:662 Updating online instance to time slot 8.\n",
      "INFO soco.streaming.online 2021-07-28 18:16:37,686 online.rs:196 [server] Updated problem instance.\n",
      "INFO soco.streaming.online 2021-07-28 18:16:38,815 online.rs:218 [server] Sent: Ok(((Config([147]), Cost { cost: 706482.0, output: Success(DataCenterModelOutputSuccess { energy_cost: 705600.0, revenue_loss: 0.0, assignments: [[[]], [[]], [[]], [[]], [[]], [[]], [[]], [[]]] }) }), (Config([147]), Cost { cost: 706482.0, output: Success(DataCenterModelOutputSuccess { energy_cost: 705600.0, revenue_loss: 0.0, assignments: [[[]], [[]], [[]], [[]], [[]], [[]], [[]], [[]]] }) }), Some(Memory { y: Config([146.666641]), relaxation_m: None }), 1110))\n",
      "INFO soco.streaming.online 2021-07-28 18:16:38,818 online.rs:270 [client] Received: Ok(((Config([147]), Cost { cost: 706482.0, output: Success(DataCenterModelOutputSuccess { energy_cost: 705600.0, revenue_loss: 0.0, assignments: [[[]], [[]], [[]], [[]], [[]], [[]], [[]], [[]]] }) }), (Config([147]), Cost { cost: 706482.0, output: Success(DataCenterModelOutputSuccess { energy_cost: 705600.0, revenue_loss: 0.0, assignments: [[[]], [[]], [[]], [[]], [[]], [[]], [[]], [[]]] }) }), Some(Memory { y: Config([146.666641]), relaxation_m: None }), 1110))\n",
      "100%|██████████| 8/8 [00:07<00:00,  1.02it/s]\n",
      "INFO soco.streaming.online 2021-07-28 18:16:38,825 online.rs:277 [client] Connected to 127.0.0.1:3449.\n",
      "INFO soco.streaming.online 2021-07-28 18:16:38,826 online.rs:169 [server] Connection established!\n",
      "INFO soco.streaming.online 2021-07-28 18:16:38,827 online.rs:280 [client] Stopping server.\n",
      "INFO soco.streaming.online 2021-07-28 18:16:38,832 online.rs:240 [server] Server stopped.\n"
     ]
    }
   ],
   "metadata": {}
  },
  {
   "cell_type": "code",
   "execution_count": 12,
   "source": [
    "opt, iopt, opts, iopts, alg, ialg, energy_cost, revenue_loss, switching_cost"
   ],
   "outputs": [
    {
     "output_type": "execute_result",
     "data": {
      "text/plain": [
       "(1877203.252998,\n",
       " 21076.0,\n",
       " 29552.038022393408,\n",
       " 32953.142857142855,\n",
       " 3182256.0,\n",
       " 3182256.0,\n",
       " 3175200.0,\n",
       " 0.0,\n",
       " 7056.0)"
      ]
     },
     "metadata": {},
     "execution_count": 12
    }
   ],
   "metadata": {}
  },
  {
   "cell_type": "markdown",
   "source": [
    "## Evaluation"
   ],
   "metadata": {}
  },
  {
   "cell_type": "markdown",
   "source": [
    "### Competitive Ratio"
   ],
   "metadata": {}
  },
  {
   "cell_type": "code",
   "execution_count": 13,
   "source": [
    "cr = alg / opt\n",
    "icr = ialg / iopt\n",
    "cr, icr"
   ],
   "outputs": [
    {
     "output_type": "execute_result",
     "data": {
      "text/plain": [
       "(1.6952112111023443, 150.98956158663884)"
      ]
     },
     "metadata": {},
     "execution_count": 13
    }
   ],
   "metadata": {}
  },
  {
   "cell_type": "markdown",
   "source": [
    "### Competitive Difference"
   ],
   "metadata": {}
  },
  {
   "cell_type": "code",
   "execution_count": 14,
   "source": [
    "cd = alg - opt\n",
    "icd = ialg - iopt\n",
    "cd, icd"
   ],
   "outputs": [
    {
     "output_type": "execute_result",
     "data": {
      "text/plain": [
       "(1305052.747002, 3161180.0)"
      ]
     },
     "metadata": {},
     "execution_count": 14
    }
   ],
   "metadata": {}
  },
  {
   "cell_type": "markdown",
   "source": [
    "### Regret"
   ],
   "metadata": {}
  },
  {
   "cell_type": "code",
   "execution_count": 15,
   "source": [
    "regret = alg - opts\n",
    "iregret = ialg - iopts\n",
    "regret, iregret"
   ],
   "outputs": [
    {
     "output_type": "execute_result",
     "data": {
      "text/plain": [
       "(3152703.9619776066, 3149302.8571428573)"
      ]
     },
     "metadata": {},
     "execution_count": 15
    }
   ],
   "metadata": {}
  },
  {
   "cell_type": "markdown",
   "source": [
    "### Cost Change"
   ],
   "metadata": {}
  },
  {
   "cell_type": "markdown",
   "source": [
    "Regret relative to overall cost."
   ],
   "metadata": {}
  },
  {
   "cell_type": "code",
   "execution_count": 16,
   "source": [
    "rel_regret = regret / opts\n",
    "rel_iregret = iregret / iopts\n",
    "rel_regret, rel_iregret"
   ],
   "outputs": [
    {
     "output_type": "execute_result",
     "data": {
      "text/plain": [
       "(106.6831316198432, 95.56911978913783)"
      ]
     },
     "metadata": {},
     "execution_count": 16
    }
   ],
   "metadata": {}
  },
  {
   "cell_type": "markdown",
   "source": [
    "Competitive difference relative to overall cost."
   ],
   "metadata": {}
  },
  {
   "cell_type": "code",
   "execution_count": 17,
   "source": [
    "rel_cd = cd / opt\n",
    "rel_icd = icd / iopt\n",
    "rel_cd, rel_icd"
   ],
   "outputs": [
    {
     "output_type": "execute_result",
     "data": {
      "text/plain": [
       "(0.6952112111023443, 149.98956158663884)"
      ]
     },
     "metadata": {},
     "execution_count": 17
    }
   ],
   "metadata": {}
  },
  {
   "cell_type": "markdown",
   "source": [
    "### Fractional vs Integral"
   ],
   "metadata": {}
  },
  {
   "cell_type": "code",
   "execution_count": 18,
   "source": [
    "opt_vs_iopt = iopt / opt\n",
    "opts_vs_iopts = iopts / opts\n",
    "alg_vs_ialg = ialg / alg\n",
    "opt_vs_iopt, opts_vs_iopts, alg_vs_ialg"
   ],
   "outputs": [
    {
     "output_type": "execute_result",
     "data": {
      "text/plain": [
       "(0.011227340441873, 1.1150886728073448, 1.0)"
      ]
     },
     "metadata": {},
     "execution_count": 18
    }
   ],
   "metadata": {}
  },
  {
   "cell_type": "markdown",
   "source": [
    "### Runtime"
   ],
   "metadata": {}
  },
  {
   "cell_type": "code",
   "execution_count": 19,
   "source": [
    "runtimes_np = np.array(runtimes)\n",
    "plot_cdf(runtimes_np, 'runtime (milliseconds)', 'online_runtime')\n",
    "plt.show()\n",
    "summary = summarize_distribution(runtimes_np)"
   ],
   "outputs": [
    {
     "output_type": "display_data",
     "data": {
      "text/plain": [
       "<Figure size 640x480 with 1 Axes>"
      ],
      "image/png": "[encoded data removed]"
     },
     "metadata": {}
    }
   ],
   "metadata": {}
  },
  {
   "cell_type": "markdown",
   "source": [
    "### Model"
   ],
   "metadata": {}
  },
  {
   "cell_type": "markdown",
   "source": [
    "Proportion of energy cost to delay cost"
   ],
   "metadata": {}
  },
  {
   "cell_type": "code",
   "execution_count": 20,
   "source": [
    "ec_vs_rl = energy_cost / revenue_loss if revenue_loss > 0 else np.Inf\n",
    "hc_vs_sc = (energy_cost + revenue_loss) / switching_cost\n",
    "ec_vs_rl, hc_vs_sc"
   ],
   "outputs": [
    {
     "output_type": "execute_result",
     "data": {
      "text/plain": [
       "(inf, 450.0)"
      ]
     },
     "metadata": {},
     "execution_count": 20
    }
   ],
   "metadata": {}
  }
 ],
 "metadata": {
  "orig_nbformat": 4,
  "language_info": {
   "name": "python",
   "version": "3.8.10",
   "mimetype": "text/x-python",
   "codemirror_mode": {
    "name": "ipython",
    "version": 3
   },
   "pygments_lexer": "ipython3",
   "nbconvert_exporter": "python",
   "file_extension": ".py"
  },
  "kernelspec": {
   "name": "python3",
   "display_name": "Python 3.8.10 64-bit ('venv': venv)"
  },
  "interpreter": {
   "hash": "bfb6e60757c36aad7e076b66c35f1b7ceb420a8f6d971dc47958a23072a9b46f"
  }
 },
 "nbformat": 4,
 "nbformat_minor": 2
}