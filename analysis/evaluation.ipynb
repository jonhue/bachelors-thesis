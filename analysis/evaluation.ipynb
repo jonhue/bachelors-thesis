{
 "cells": [
  {
   "cell_type": "code",
   "execution_count": 1,
   "source": [
    "import numpy as np\n",
    "import matplotlib.pyplot as plt"
   ],
   "outputs": [],
   "metadata": {}
  },
  {
   "cell_type": "code",
   "execution_count": 2,
   "source": [
    "from lib.loads import parse_loads, convert_offline_to_online_input\n",
    "from lib.model import build_model, FACEBOOK_2009_0, FACEBOOK_2009_1, ENERGY_MODEL_WIERMAN\n",
    "from lib.utils import summarize_distribution, plot_cdf, plot"
   ],
   "outputs": [],
   "metadata": {}
  },
  {
   "cell_type": "code",
   "execution_count": 3,
   "source": [
    "# import logging\n",
    "\n",
    "# FORMAT = '%(levelname)s %(name)s %(asctime)-15s %(filename)s:%(lineno)d %(message)s'\n",
    "# logging.basicConfig(format=FORMAT)\n",
    "# logging.getLogger().setLevel(logging.INFO)"
   ],
   "outputs": [],
   "metadata": {}
  },
  {
   "cell_type": "code",
   "execution_count": 4,
   "source": [
    "TIME_SLOT_LENGTH = 10 * 60\n",
    "NORMALIZED_SWITCHING_COST = 1\n",
    "REVENUE_LOSS = 0.1"
   ],
   "outputs": [],
   "metadata": {}
  },
  {
   "cell_type": "code",
   "execution_count": 5,
   "source": [
    "TRACE = FACEBOOK_2009_1"
   ],
   "outputs": [],
   "metadata": {}
  },
  {
   "cell_type": "markdown",
   "source": [
    "# Model"
   ],
   "metadata": {}
  },
  {
   "cell_type": "code",
   "execution_count": 6,
   "source": [
    "model = build_model(\n",
    "  TRACE,\n",
    "  ENERGY_MODEL_WIERMAN,\n",
    "  TIME_SLOT_LENGTH,\n",
    "  NORMALIZED_SWITCHING_COST,\n",
    "  REVENUE_LOSS,\n",
    ")"
   ],
   "outputs": [],
   "metadata": {}
  },
  {
   "cell_type": "markdown",
   "source": [
    "# Inputs"
   ],
   "metadata": {}
  },
  {
   "cell_type": "code",
   "execution_count": 7,
   "source": [
    "offline_input = parse_loads(TRACE)\n",
    "perfect_knowledge_online_input = convert_offline_to_online_input(offline_input)"
   ],
   "outputs": [],
   "metadata": {}
  },
  {
   "cell_type": "markdown",
   "source": [
    "# Execute"
   ],
   "metadata": {}
  },
  {
   "cell_type": "markdown",
   "source": [
    "## Offline"
   ],
   "metadata": {}
  },
  {
   "cell_type": "code",
   "execution_count": 8,
   "source": [
    "from lib.offline import evaluate_1d\n",
    "\n",
    "opt, iopt, runtime_opt, runtime_iopt = evaluate_1d(model, offline_input)"
   ],
   "outputs": [
    {
     "output_type": "stream",
     "name": "stderr",
     "text": [
      "INFO soco.bindings.data_center.offline 2021-07-29 21:20:01,913 offline.rs:60 1d Graph Search\n",
      "INFO soco.streaming.offline 2021-07-29 21:20:01,917 offline.rs:45 Generated a problem instance: SimplifiedSmoothedConvexOptimization { d: 1, t_end: 144, bounds: [600], switching_cost: [6.0] }\n",
      "INFO soco.streaming.offline 2021-07-29 21:20:01,920 offline.rs:47 Simulating until time slot 144.\n",
      "INFO soco.streaming.offline 2021-07-29 21:20:07,053 offline.rs:54 Completed with Cost { cost: 3164486.1677754554, output: Success(DataCenterModelOutputSuccess { energy_cost: 2623800.0, revenue_loss: 535658.1677754553, assignments: [[[]], [[]], [[]], [[]], [[]], [[]], [[]], [[]], [[]], [[]], [[]], [[]], [[]], [[]], [[]], [[]], [[]], [[]], [[]], [[]], [[]], [[]], [[]], [[]], [[]], [[]], [[]], [[]], [[]], [[]], [[]], [[]], [[]], [[]], [[]], [[]], [[]], [[]], [[]], [[]], [[]], [[]], [[]], [[]], [[]], [[]], [[]], [[]], [[]], [[]], [[]], [[]], [[]], [[]], [[]], [[]], [[]], [[]], [[]], [[]], [[]], [[]], [[]], [[]], [[]], [[]], [[]], [[]], [[]], [[]], [[]], [[]], [[]], [[]], [[]], [[]], [[]], [[]], [[]], [[]], [[]], [[]], [[]], [[]], [[]], [[]], [[]], [[]], [[]], [[]], [[]], [[]], [[]], [[]], [[]], [[]], [[]], [[]], [[]], [[]], [[]], [[]], [[]], [[]], [[]], [[]], [[]], [[]], [[]], [[]], [[]], [[]], [[]], [[]], [[]], [[]], [[]], [[]], [[]], [[]], [[]], [[]], [[]], [[]], [[]], [[]], [[]], [[]], [[]], [[]], [[]], [[]], [[]], [[]], [[]], [[]], [[]], [[]], [[]], [[]], [[]], [[]], [[]], [[]]] }) } and Schedule([Config([22]), Config([20]), Config([32]), Config([30]), Config([18]), Config([30]), Config([59]), Config([65]), Config([50]), Config([46]), Config([45]), Config([30]), Config([11]), Config([33]), Config([76]), Config([80]), Config([90]), Config([59]), Config([24]), Config([13]), Config([18]), Config([28]), Config([25]), Config([24]), Config([42]), Config([44]), Config([47]), Config([49]), Config([43]), Config([82]), Config([18]), Config([18]), Config([31]), Config([24]), Config([28]), Config([34]), Config([17]), Config([26]), Config([11]), Config([7]), Config([8]), Config([16]), Config([36]), Config([64]), Config([59]), Config([20]), Config([11]), Config([6]), Config([21]), Config([30]), Config([30]), Config([30]), Config([20]), Config([8]), Config([74]), Config([66]), Config([65]), Config([49]), Config([56]), Config([68]), Config([45]), Config([11]), Config([9]), Config([16]), Config([18]), Config([17]), Config([20]), Config([37]), Config([25]), Config([26]), Config([24]), Config([15]), Config([16]), Config([20]), Config([30]), Config([27]), Config([31]), Config([30]), Config([7]), Config([11]), Config([9]), Config([10]), Config([4]), Config([11]), Config([32]), Config([32]), Config([40]), Config([25]), Config([28]), Config([26]), Config([32]), Config([30]), Config([30]), Config([17]), Config([32]), Config([29]), Config([34]), Config([18]), Config([18]), Config([33]), Config([36]), Config([23]), Config([17]), Config([21]), Config([17]), Config([18]), Config([13]), Config([27]), Config([83]), Config([68]), Config([56]), Config([28]), Config([8]), Config([8]), Config([24]), Config([30]), Config([34]), Config([18]), Config([18]), Config([26]), Config([18]), Config([15]), Config([24]), Config([25]), Config([20]), Config([23]), Config([27]), Config([11]), Config([18]), Config([47]), Config([51]), Config([41]), Config([18]), Config([17]), Config([26]), Config([26]), Config([33]), Config([22]), Config([60]), Config([41]), Config([22]), Config([15]), Config([30]), Config([59])])\n",
      "INFO soco.bindings.data_center.offline 2021-07-29 21:20:07,055 offline.rs:131 Convex Program\n",
      "INFO soco.streaming.offline 2021-07-29 21:20:07,056 offline.rs:45 Generated a problem instance: SmoothedConvexOptimization { d: 1, t_end: 144, bounds: [(0.0, 600.0)] }\n",
      "INFO soco.streaming.offline 2021-07-29 21:20:07,058 offline.rs:47 Simulating until time slot 144.\n",
      "INFO soco.streaming.offline 2021-07-29 21:45:05,374 offline.rs:54 Completed with Cost { cost: 3162986.6302419035, output: Success(DataCenterModelOutputSuccess { energy_cost: 2620527.7218, revenue_loss: 537419.8366299038, assignments: [[[]], [[]], [[]], [[]], [[]], [[]], [[]], [[]], [[]], [[]], [[]], [[]], [[]], [[]], [[]], [[]], [[]], [[]], [[]], [[]], [[]], [[]], [[]], [[]], [[]], [[]], [[]], [[]], [[]], [[]], [[]], [[]], [[]], [[]], [[]], [[]], [[]], [[]], [[]], [[]], [[]], [[]], [[]], [[]], [[]], [[]], [[]], [[]], [[]], [[]], [[]], [[]], [[]], [[]], [[]], [[]], [[]], [[]], [[]], [[]], [[]], [[]], [[]], [[]], [[]], [[]], [[]], [[]], [[]], [[]], [[]], [[]], [[]], [[]], [[]], [[]], [[]], [[]], [[]], [[]], [[]], [[]], [[]], [[]], [[]], [[]], [[]], [[]], [[]], [[]], [[]], [[]], [[]], [[]], [[]], [[]], [[]], [[]], [[]], [[]], [[]], [[]], [[]], [[]], [[]], [[]], [[]], [[]], [[]], [[]], [[]], [[]], [[]], [[]], [[]], [[]], [[]], [[]], [[]], [[]], [[]], [[]], [[]], [[]], [[]], [[]], [[]], [[]], [[]], [[]], [[]], [[]], [[]], [[]], [[]], [[]], [[]], [[]], [[]], [[]], [[]], [[]], [[]], [[]]] }) } and Schedule([Config([22.349190999999998]), Config([20.426223999999998]), Config([32.209131]), Config([29.615125]), Config([17.790581]), Config([29.615123999999998]), Config([58.572136]), Config([65.075591]), Config([50.016658]), Config([46.067972999999995]), Config([45.409856999999995]), Config([30.273238]), Config([10.542567]), Config([32.905694]), Config([76.341211]), Config([79.63177999999999]), Config([90.054099]), Config([58.572136]), Config([23.692099]), Config([13.178208]), Config([18.427189]), Config([28.265154]), Config([25.008326999999998]), Config([23.720775]), Config([42.11929]), Config([44.09363]), Config([47.384198999999995]), Config([49.29969]), Config([42.829178]), Config([82.166152]), Config([17.790581]), Config([18.427189]), Config([30.894472999999998]), Config([23.720775999999997]), Config([28.298896]), Config([33.523789]), Config([17.131671]), Config([26.293167999999998]), Config([11.187935999999999]), Config([6.589104]), Config([7.897367]), Config([16.452847]), Config([36.196266]), Config([63.760929999999995]), Config([58.572134999999996]), Config([19.743416]), Config([10.529821]), Config([5.930193999999999]), Config([21.059644]), Config([29.615125]), Config([29.615126]), Config([30.237142]), Config([19.743416]), Config([7.906924999999999]), Config([74.278198]), Config([65.81139]), Config([65.153275]), Config([49.418282]), Config([55.939678]), Config([67.70490699999999]), Config([45.409858]), Config([10.529822]), Config([9.224746]), Config([15.794732999999999]), Config([17.747888]), Config([16.472761]), Config([20.401532]), Config([37.467763999999995]), Config([25.038597]), Config([25.635838]), Config([23.6921]), Config([14.496029]), Config([15.794732999999999]), Config([19.743416]), Config([29.579814]), Config([27.015328]), Config([30.894472]), Config([30.273239]), Config([7.248015]), Config([10.517268]), Config([8.565836]), Config([9.859938]), Config([3.9534629999999997]), Config([11.187935999999999]), Config([32.247578]), Config([32.24758]), Config([40.097082]), Config([25.038597]), Config([28.265155]), Config([26.356417]), Config([31.551800999999998]), Config([30.273238]), Config([29.615125]), Config([17.131671]), Config([32.209131]), Config([28.992058999999998]), Config([33.52379]), Config([17.779806999999998]), Config([17.779806999999998]), Config([32.905693]), Config([35.495776]), Config([23.033984999999998]), Config([16.472762]), Config([21.034534]), Config([16.47276]), Config([18.405217999999998]), Config([12.519298]), Config([26.982668999999998]), Config([82.823478]), Config([68.443844]), Config([55.939681]), Config([27.640783]), Config([7.902112]), Config([7.902112]), Config([24.350213]), Config([30.273239]), Config([34.181118]), Config([18.427816999999997]), Config([18.427816999999997]), Config([25.635838]), Config([17.769075]), Config([14.496029]), Config([24.350213]), Config([24.978510999999997]), Config([20.426223]), Config([23.033986]), Config([26.950495999999998]), Config([11.201476999999999]), Config([17.769074]), Config([47.384201]), Config([51.271677999999994]), Config([40.803061]), Config([17.769075]), Config([17.131672]), Config([25.666441]), Config([26.324555999999998]), Config([32.866461]), Config([21.744045]), Config([59.816956]), Config([40.803062]), Config([21.717758]), Config([14.49603]), Config([30.273239]), Config([58.502299])])\n"
     ]
    }
   ],
   "metadata": {}
  },
  {
   "cell_type": "code",
   "execution_count": 9,
   "source": [
    "from lib.offline import evaluate_static\n",
    "\n",
    "opts, iopts, runtime_opts, runtime_iopts = evaluate_static(model, offline_input)"
   ],
   "outputs": [
    {
     "output_type": "stream",
     "name": "stderr",
     "text": [
      "INFO soco.bindings.data_center.offline 2021-07-29 21:45:05,473 offline.rs:148 Static Integral\n",
      "INFO soco.streaming.offline 2021-07-29 21:45:05,475 offline.rs:45 Generated a problem instance: SmoothedConvexOptimization { d: 1, t_end: 144, bounds: [(0.0, 600.0)] }\n",
      "INFO soco.streaming.offline 2021-07-29 21:45:05,477 offline.rs:47 Simulating until time slot 144.\n",
      "INFO soco.streaming.offline 2021-07-29 23:05:37,442 offline.rs:54 Completed with Cost { cost: 6412267.89636118, output: Success(DataCenterModelOutputSuccess { energy_cost: 6092487.1008, revenue_loss: 319357.70617917954, assignments: [[[]], [[]], [[]], [[]], [[]], [[]], [[]], [[]], [[]], [[]], [[]], [[]], [[]], [[]], [[]], [[]], [[]], [[]], [[]], [[]], [[]], [[]], [[]], [[]], [[]], [[]], [[]], [[]], [[]], [[]], [[]], [[]], [[]], [[]], [[]], [[]], [[]], [[]], [[]], [[]], [[]], [[]], [[]], [[]], [[]], [[]], [[]], [[]], [[]], [[]], [[]], [[]], [[]], [[]], [[]], [[]], [[]], [[]], [[]], [[]], [[]], [[]], [[]], [[]], [[]], [[]], [[]], [[]], [[]], [[]], [[]], [[]], [[]], [[]], [[]], [[]], [[]], [[]], [[]], [[]], [[]], [[]], [[]], [[]], [[]], [[]], [[]], [[]], [[]], [[]], [[]], [[]], [[]], [[]], [[]], [[]], [[]], [[]], [[]], [[]], [[]], [[]], [[]], [[]], [[]], [[]], [[]], [[]], [[]], [[]], [[]], [[]], [[]], [[]], [[]], [[]], [[]], [[]], [[]], [[]], [[]], [[]], [[]], [[]], [[]], [[]], [[]], [[]], [[]], [[]], [[]], [[]], [[]], [[]], [[]], [[]], [[]], [[]], [[]], [[]], [[]], [[]], [[]], [[]]] }) } and Schedule([Config([70.51489699999999]), Config([70.51489699999999]), Config([70.51489699999999]), Config([70.51489699999999]), Config([70.51489699999999]), Config([70.51489699999999]), Config([70.51489699999999]), Config([70.51489699999999]), Config([70.51489699999999]), Config([70.51489699999999]), Config([70.51489699999999]), Config([70.51489699999999]), Config([70.51489699999999]), Config([70.51489699999999]), Config([70.51489699999999]), Config([70.51489699999999]), Config([70.51489699999999]), Config([70.51489699999999]), Config([70.51489699999999]), Config([70.51489699999999]), Config([70.51489699999999]), Config([70.51489699999999]), Config([70.51489699999999]), Config([70.51489699999999]), Config([70.51489699999999]), Config([70.51489699999999]), Config([70.51489699999999]), Config([70.51489699999999]), Config([70.51489699999999]), Config([70.51489699999999]), Config([70.51489699999999]), Config([70.51489699999999]), Config([70.51489699999999]), Config([70.51489699999999]), Config([70.51489699999999]), Config([70.51489699999999]), Config([70.51489699999999]), Config([70.51489699999999]), Config([70.51489699999999]), Config([70.51489699999999]), Config([70.51489699999999]), Config([70.51489699999999]), Config([70.51489699999999]), Config([70.51489699999999]), Config([70.51489699999999]), Config([70.51489699999999]), Config([70.51489699999999]), Config([70.51489699999999]), Config([70.51489699999999]), Config([70.51489699999999]), Config([70.51489699999999]), Config([70.51489699999999]), Config([70.51489699999999]), Config([70.51489699999999]), Config([70.51489699999999]), Config([70.51489699999999]), Config([70.51489699999999]), Config([70.51489699999999]), Config([70.51489699999999]), Config([70.51489699999999]), Config([70.51489699999999]), Config([70.51489699999999]), Config([70.51489699999999]), Config([70.51489699999999]), Config([70.51489699999999]), Config([70.51489699999999]), Config([70.51489699999999]), Config([70.51489699999999]), Config([70.51489699999999]), Config([70.51489699999999]), Config([70.51489699999999]), Config([70.51489699999999]), Config([70.51489699999999]), Config([70.51489699999999]), Config([70.51489699999999]), Config([70.51489699999999]), Config([70.51489699999999]), Config([70.51489699999999]), Config([70.51489699999999]), Config([70.51489699999999]), Config([70.51489699999999]), Config([70.51489699999999]), Config([70.51489699999999]), Config([70.51489699999999]), Config([70.51489699999999]), Config([70.51489699999999]), Config([70.51489699999999]), Config([70.51489699999999]), Config([70.51489699999999]), Config([70.51489699999999]), Config([70.51489699999999]), Config([70.51489699999999]), Config([70.51489699999999]), Config([70.51489699999999]), Config([70.51489699999999]), Config([70.51489699999999]), Config([70.51489699999999]), Config([70.51489699999999]), Config([70.51489699999999]), Config([70.51489699999999]), Config([70.51489699999999]), Config([70.51489699999999]), Config([70.51489699999999]), Config([70.51489699999999]), Config([70.51489699999999]), Config([70.51489699999999]), Config([70.51489699999999]), Config([70.51489699999999]), Config([70.51489699999999]), Config([70.51489699999999]), Config([70.51489699999999]), Config([70.51489699999999]), Config([70.51489699999999]), Config([70.51489699999999]), Config([70.51489699999999]), Config([70.51489699999999]), Config([70.51489699999999]), Config([70.51489699999999]), Config([70.51489699999999]), Config([70.51489699999999]), Config([70.51489699999999]), Config([70.51489699999999]), Config([70.51489699999999]), Config([70.51489699999999]), Config([70.51489699999999]), Config([70.51489699999999]), Config([70.51489699999999]), Config([70.51489699999999]), Config([70.51489699999999]), Config([70.51489699999999]), Config([70.51489699999999]), Config([70.51489699999999]), Config([70.51489699999999]), Config([70.51489699999999]), Config([70.51489699999999]), Config([70.51489699999999]), Config([70.51489699999999]), Config([70.51489699999999]), Config([70.51489699999999]), Config([70.51489699999999]), Config([70.51489699999999]), Config([70.51489699999999]), Config([70.51489699999999]), Config([70.51489699999999])])\n",
      "INFO soco.bindings.data_center.offline 2021-07-29 23:05:37,447 offline.rs:171 Static Integral\n",
      "INFO soco.streaming.offline 2021-07-29 23:05:37,449 offline.rs:45 Generated a problem instance: SmoothedConvexOptimization { d: 1, t_end: 144, bounds: [(0, 600)] }\n",
      "INFO soco.streaming.offline 2021-07-29 23:05:37,451 offline.rs:47 Simulating until time slot 144.\n",
      "INFO soco.streaming.offline 2021-07-29 23:06:17,804 offline.rs:54 Completed with Cost { cost: 6419175.039424455, output: Success(DataCenterModelOutputSuccess { energy_cost: 6134400.0, revenue_loss: 284349.03942445415, assignments: [[[]], [[]], [[]], [[]], [[]], [[]], [[]], [[]], [[]], [[]], [[]], [[]], [[]], [[]], [[]], [[]], [[]], [[]], [[]], [[]], [[]], [[]], [[]], [[]], [[]], [[]], [[]], [[]], [[]], [[]], [[]], [[]], [[]], [[]], [[]], [[]], [[]], [[]], [[]], [[]], [[]], [[]], [[]], [[]], [[]], [[]], [[]], [[]], [[]], [[]], [[]], [[]], [[]], [[]], [[]], [[]], [[]], [[]], [[]], [[]], [[]], [[]], [[]], [[]], [[]], [[]], [[]], [[]], [[]], [[]], [[]], [[]], [[]], [[]], [[]], [[]], [[]], [[]], [[]], [[]], [[]], [[]], [[]], [[]], [[]], [[]], [[]], [[]], [[]], [[]], [[]], [[]], [[]], [[]], [[]], [[]], [[]], [[]], [[]], [[]], [[]], [[]], [[]], [[]], [[]], [[]], [[]], [[]], [[]], [[]], [[]], [[]], [[]], [[]], [[]], [[]], [[]], [[]], [[]], [[]], [[]], [[]], [[]], [[]], [[]], [[]], [[]], [[]], [[]], [[]], [[]], [[]], [[]], [[]], [[]], [[]], [[]], [[]], [[]], [[]], [[]], [[]], [[]], [[]]] }) } and Schedule([Config([71]), Config([71]), Config([71]), Config([71]), Config([71]), Config([71]), Config([71]), Config([71]), Config([71]), Config([71]), Config([71]), Config([71]), Config([71]), Config([71]), Config([71]), Config([71]), Config([71]), Config([71]), Config([71]), Config([71]), Config([71]), Config([71]), Config([71]), Config([71]), Config([71]), Config([71]), Config([71]), Config([71]), Config([71]), Config([71]), Config([71]), Config([71]), Config([71]), Config([71]), Config([71]), Config([71]), Config([71]), Config([71]), Config([71]), Config([71]), Config([71]), Config([71]), Config([71]), Config([71]), Config([71]), Config([71]), Config([71]), Config([71]), Config([71]), Config([71]), Config([71]), Config([71]), Config([71]), Config([71]), Config([71]), Config([71]), Config([71]), Config([71]), Config([71]), Config([71]), Config([71]), Config([71]), Config([71]), Config([71]), Config([71]), Config([71]), Config([71]), Config([71]), Config([71]), Config([71]), Config([71]), Config([71]), Config([71]), Config([71]), Config([71]), Config([71]), Config([71]), Config([71]), Config([71]), Config([71]), Config([71]), Config([71]), Config([71]), Config([71]), Config([71]), Config([71]), Config([71]), Config([71]), Config([71]), Config([71]), Config([71]), Config([71]), Config([71]), Config([71]), Config([71]), Config([71]), Config([71]), Config([71]), Config([71]), Config([71]), Config([71]), Config([71]), Config([71]), Config([71]), Config([71]), Config([71]), Config([71]), Config([71]), Config([71]), Config([71]), Config([71]), Config([71]), Config([71]), Config([71]), Config([71]), Config([71]), Config([71]), Config([71]), Config([71]), Config([71]), Config([71]), Config([71]), Config([71]), Config([71]), Config([71]), Config([71]), Config([71]), Config([71]), Config([71]), Config([71]), Config([71]), Config([71]), Config([71]), Config([71]), Config([71]), Config([71]), Config([71]), Config([71]), Config([71]), Config([71]), Config([71]), Config([71]), Config([71]), Config([71])])\n"
     ]
    }
   ],
   "metadata": {}
  },
  {
   "cell_type": "markdown",
   "source": [
    "### Fractional vs Integral"
   ],
   "metadata": {}
  },
  {
   "cell_type": "code",
   "execution_count": 10,
   "source": [
    "opt_vs_iopt = iopt / opt\n",
    "opts_vs_iopts = iopts / opts\n",
    "opt_vs_iopt, opts_vs_iopts"
   ],
   "outputs": [
    {
     "output_type": "execute_result",
     "data": {
      "text/plain": [
       "(1.0004740891153996, 1.0010771763087432)"
      ]
     },
     "metadata": {},
     "execution_count": 10
    }
   ],
   "metadata": {}
  },
  {
   "cell_type": "markdown",
   "source": [
    "### Opt vs OptS"
   ],
   "metadata": {}
  },
  {
   "cell_type": "code",
   "execution_count": 11,
   "source": [
    "opt_vs_opts = opts / opt\n",
    "iopt_vs_iopts = iopts / iopt\n",
    "opt_vs_opts, iopt_vs_iopts"
   ],
   "outputs": [
    {
     "output_type": "execute_result",
     "data": {
      "text/plain": [
       "(2.0272826432626347, 2.028504692102021)"
      ]
     },
     "metadata": {},
     "execution_count": 11
    }
   ],
   "metadata": {}
  },
  {
   "cell_type": "markdown",
   "source": [
    "### Runtimes"
   ],
   "metadata": {}
  },
  {
   "cell_type": "code",
   "execution_count": 12,
   "source": [
    "runtime_opt, runtime_iopt, runtime_opts, runtime_iopts"
   ],
   "outputs": [
    {
     "output_type": "execute_result",
     "data": {
      "text/plain": [
       "(1498251, 5061, 4831859, 40296)"
      ]
     },
     "metadata": {},
     "execution_count": 12
    }
   ],
   "metadata": {}
  },
  {
   "cell_type": "markdown",
   "source": [
    "### Approximation algorithm"
   ],
   "metadata": {}
  },
  {
   "cell_type": "code",
   "execution_count": 13,
   "source": [
    "gammas = np.logspace(\n",
    "  0.2, 3, 8, base=2\n",
    ")\n",
    "gammas"
   ],
   "outputs": [
    {
     "output_type": "execute_result",
     "data": {
      "text/plain": [
       "array([1.14869835, 1.51571657, 2.        , 2.63901582, 3.48220225,\n",
       "       4.59479342, 6.06286627, 8.        ])"
      ]
     },
     "metadata": {},
     "execution_count": 13
    }
   ],
   "metadata": {}
  },
  {
   "cell_type": "code",
   "execution_count": 14,
   "source": [
    "from lib.offline import evaluate_approx_graph_search\n",
    "\n",
    "x, y, approx_opt_runtimes = evaluate_approx_graph_search(model, offline_input, gammas)"
   ],
   "outputs": [
    {
     "output_type": "stream",
     "name": "stderr",
     "text": [
      "INFO soco.bindings.data_center.offline 2021-07-29 23:06:18,425 offline.rs:108 Approximate Graph Search\n",
      "INFO soco.streaming.offline 2021-07-29 23:06:18,427 offline.rs:45 Generated a problem instance: SimplifiedSmoothedConvexOptimization { d: 1, t_end: 144, bounds: [600], switching_cost: [6.0] }\n",
      "INFO soco.streaming.offline 2021-07-29 23:06:18,428 offline.rs:47 Simulating until time slot 144.\n",
      "DEBUG soco.algorithms.offline.multi_dimensional.approx_graph_search 2021-07-29 23:06:18,429 approx_graph_search.rs:57 starting with `70` values\n",
      "DEBUG soco.algorithms.offline.multi_dimensional.graph_search 2021-07-29 23:06:18,431 graph_search.rs:58 from time slot `1` to time slot `144`\n",
      "INFO soco.streaming.offline 2021-07-29 23:06:28,386 offline.rs:54 Completed with Cost { cost: 3174439.3546687365, output: Success(DataCenterModelOutputSuccess { energy_cost: 2619000.0, revenue_loss: 550441.3546687365, assignments: [[[]], [[]], [[]], [[]], [[]], [[]], [[]], [[]], [[]], [[]], [[]], [[]], [[]], [[]], [[]], [[]], [[]], [[]], [[]], [[]], [[]], [[]], [[]], [[]], [[]], [[]], [[]], [[]], [[]], [[]], [[]], [[]], [[]], [[]], [[]], [[]], [[]], [[]], [[]], [[]], [[]], [[]], [[]], [[]], [[]], [[]], [[]], [[]], [[]], [[]], [[]], [[]], [[]], [[]], [[]], [[]], [[]], [[]], [[]], [[]], [[]], [[]], [[]], [[]], [[]], [[]], [[]], [[]], [[]], [[]], [[]], [[]], [[]], [[]], [[]], [[]], [[]], [[]], [[]], [[]], [[]], [[]], [[]], [[]], [[]], [[]], [[]], [[]], [[]], [[]], [[]], [[]], [[]], [[]], [[]], [[]], [[]], [[]], [[]], [[]], [[]], [[]], [[]], [[]], [[]], [[]], [[]], [[]], [[]], [[]], [[]], [[]], [[]], [[]], [[]], [[]], [[]], [[]], [[]], [[]], [[]], [[]], [[]], [[]], [[]], [[]], [[]], [[]], [[]], [[]], [[]], [[]], [[]], [[]], [[]], [[]], [[]], [[]], [[]], [[]], [[]], [[]], [[]], [[]]] }) } and Schedule([Config([22]), Config([21]), Config([32]), Config([28]), Config([18]), Config([28]), Config([56]), Config([65]), Config([49]), Config([48]), Config([48]), Config([32]), Config([11]), Config([33]), Config([74]), Config([84]), Config([85]), Config([56]), Config([24]), Config([13]), Config([18]), Config([28]), Config([25]), Config([24]), Config([42]), Config([43]), Config([48]), Config([49]), Config([43]), Config([84]), Config([18]), Config([18]), Config([32]), Config([24]), Config([28]), Config([33]), Config([17]), Config([27]), Config([11]), Config([7]), Config([8]), Config([16]), Config([36]), Config([64]), Config([56]), Config([19]), Config([11]), Config([6]), Config([21]), Config([28]), Config([28]), Config([32]), Config([19]), Config([8]), Config([74]), Config([65]), Config([65]), Config([49]), Config([56]), Config([65]), Config([48]), Config([11]), Config([9]), Config([16]), Config([18]), Config([17]), Config([21]), Config([37]), Config([25]), Config([25]), Config([24]), Config([14]), Config([16]), Config([19]), Config([28]), Config([27]), Config([32]), Config([32]), Config([7]), Config([11]), Config([9]), Config([10]), Config([4]), Config([11]), Config([32]), Config([32]), Config([42]), Config([25]), Config([28]), Config([27]), Config([32]), Config([32]), Config([28]), Config([17]), Config([32]), Config([28]), Config([33]), Config([18]), Config([18]), Config([33]), Config([36]), Config([24]), Config([17]), Config([21]), Config([17]), Config([18]), Config([13]), Config([27]), Config([84]), Config([65]), Config([56]), Config([28]), Config([8]), Config([8]), Config([24]), Config([32]), Config([33]), Config([18]), Config([18]), Config([25]), Config([18]), Config([14]), Config([24]), Config([25]), Config([21]), Config([24]), Config([27]), Config([11]), Config([18]), Config([48]), Config([49]), Config([42]), Config([18]), Config([17]), Config([25]), Config([27]), Config([33]), Config([22]), Config([64]), Config([42]), Config([22]), Config([14]), Config([32]), Config([56])])\n",
      "INFO soco.bindings.data_center.offline 2021-07-29 23:06:28,387 offline.rs:108 Approximate Graph Search\n",
      "INFO soco.streaming.offline 2021-07-29 23:06:28,388 offline.rs:45 Generated a problem instance: SimplifiedSmoothedConvexOptimization { d: 1, t_end: 144, bounds: [600], switching_cost: [6.0] }\n",
      "INFO soco.streaming.offline 2021-07-29 23:06:28,388 offline.rs:47 Simulating until time slot 144.\n",
      "DEBUG soco.algorithms.offline.multi_dimensional.approx_graph_search 2021-07-29 23:06:28,390 approx_graph_search.rs:57 starting with `30` values\n",
      "DEBUG soco.algorithms.offline.multi_dimensional.graph_search 2021-07-29 23:06:28,391 graph_search.rs:58 from time slot `1` to time slot `144`\n",
      "INFO soco.streaming.offline 2021-07-29 23:06:32,867 offline.rs:54 Completed with Cost { cost: 3285203.2617843803, output: Success(DataCenterModelOutputSuccess { energy_cost: 2752200.0, revenue_loss: 527525.2617843801, assignments: [[[]], [[]], [[]], [[]], [[]], [[]], [[]], [[]], [[]], [[]], [[]], [[]], [[]], [[]], [[]], [[]], [[]], [[]], [[]], [[]], [[]], [[]], [[]], [[]], [[]], [[]], [[]], [[]], [[]], [[]], [[]], [[]], [[]], [[]], [[]], [[]], [[]], [[]], [[]], [[]], [[]], [[]], [[]], [[]], [[]], [[]], [[]], [[]], [[]], [[]], [[]], [[]], [[]], [[]], [[]], [[]], [[]], [[]], [[]], [[]], [[]], [[]], [[]], [[]], [[]], [[]], [[]], [[]], [[]], [[]], [[]], [[]], [[]], [[]], [[]], [[]], [[]], [[]], [[]], [[]], [[]], [[]], [[]], [[]], [[]], [[]], [[]], [[]], [[]], [[]], [[]], [[]], [[]], [[]], [[]], [[]], [[]], [[]], [[]], [[]], [[]], [[]], [[]], [[]], [[]], [[]], [[]], [[]], [[]], [[]], [[]], [[]], [[]], [[]], [[]], [[]], [[]], [[]], [[]], [[]], [[]], [[]], [[]], [[]], [[]], [[]], [[]], [[]], [[]], [[]], [[]], [[]], [[]], [[]], [[]], [[]], [[]], [[]], [[]], [[]], [[]], [[]], [[]], [[]]] }) } and Schedule([Config([27]), Config([19]), Config([28]), Config([28]), Config([18]), Config([28]), Config([63]), Config([64]), Config([63]), Config([43]), Config([43]), Config([28]), Config([12]), Config([42]), Config([97]), Config([97]), Config([97]), Config([63]), Config([27]), Config([13]), Config([18]), Config([28]), Config([27]), Config([27]), Config([42]), Config([43]), Config([43]), Config([43]), Config([43]), Config([97]), Config([18]), Config([18]), Config([28]), Config([27]), Config([28]), Config([42]), Config([18]), Config([27]), Config([12]), Config([7]), Config([8]), Config([18]), Config([42]), Config([64]), Config([63]), Config([19]), Config([12]), Config([6]), Config([19]), Config([28]), Config([28]), Config([28]), Config([19]), Config([8]), Config([97]), Config([64]), Config([64]), Config([63]), Config([63]), Config([64]), Config([43]), Config([12]), Config([8]), Config([18]), Config([18]), Config([18]), Config([19]), Config([42]), Config([27]), Config([27]), Config([27]), Config([13]), Config([18]), Config([19]), Config([28]), Config([27]), Config([28]), Config([28]), Config([7]), Config([12]), Config([8]), Config([12]), Config([4]), Config([12]), Config([28]), Config([28]), Config([42]), Config([27]), Config([28]), Config([27]), Config([28]), Config([28]), Config([28]), Config([18]), Config([28]), Config([28]), Config([42]), Config([18]), Config([18]), Config([42]), Config([42]), Config([27]), Config([18]), Config([19]), Config([18]), Config([18]), Config([13]), Config([27]), Config([97]), Config([64]), Config([63]), Config([28]), Config([8]), Config([8]), Config([27]), Config([28]), Config([42]), Config([18]), Config([18]), Config([27]), Config([18]), Config([13]), Config([27]), Config([27]), Config([19]), Config([27]), Config([27]), Config([12]), Config([18]), Config([43]), Config([63]), Config([42]), Config([18]), Config([18]), Config([27]), Config([27]), Config([42]), Config([27]), Config([63]), Config([42]), Config([27]), Config([13]), Config([28]), Config([63])])\n",
      "INFO soco.bindings.data_center.offline 2021-07-29 23:06:32,869 offline.rs:108 Approximate Graph Search\n",
      "INFO soco.streaming.offline 2021-07-29 23:06:32,870 offline.rs:45 Generated a problem instance: SimplifiedSmoothedConvexOptimization { d: 1, t_end: 144, bounds: [600], switching_cost: [6.0] }\n",
      "INFO soco.streaming.offline 2021-07-29 23:06:32,871 offline.rs:47 Simulating until time slot 144.\n",
      "DEBUG soco.algorithms.offline.multi_dimensional.approx_graph_search 2021-07-29 23:06:32,872 approx_graph_search.rs:57 starting with `11` values\n",
      "DEBUG soco.algorithms.offline.multi_dimensional.graph_search 2021-07-29 23:06:32,873 graph_search.rs:58 from time slot `1` to time slot `144`\n",
      "INFO soco.streaming.offline 2021-07-29 23:06:34,454 offline.rs:54 Completed with Cost { cost: 3530458.755772029, output: Success(DataCenterModelOutputSuccess { energy_cost: 3088800.0, revenue_loss: 435970.7557720287, assignments: [[[]], [[]], [[]], [[]], [[]], [[]], [[]], [[]], [[]], [[]], [[]], [[]], [[]], [[]], [[]], [[]], [[]], [[]], [[]], [[]], [[]], [[]], [[]], [[]], [[]], [[]], [[]], [[]], [[]], [[]], [[]], [[]], [[]], [[]], [[]], [[]], [[]], [[]], [[]], [[]], [[]], [[]], [[]], [[]], [[]], [[]], [[]], [[]], [[]], [[]], [[]], [[]], [[]], [[]], [[]], [[]], [[]], [[]], [[]], [[]], [[]], [[]], [[]], [[]], [[]], [[]], [[]], [[]], [[]], [[]], [[]], [[]], [[]], [[]], [[]], [[]], [[]], [[]], [[]], [[]], [[]], [[]], [[]], [[]], [[]], [[]], [[]], [[]], [[]], [[]], [[]], [[]], [[]], [[]], [[]], [[]], [[]], [[]], [[]], [[]], [[]], [[]], [[]], [[]], [[]], [[]], [[]], [[]], [[]], [[]], [[]], [[]], [[]], [[]], [[]], [[]], [[]], [[]], [[]], [[]], [[]], [[]], [[]], [[]], [[]], [[]], [[]], [[]], [[]], [[]], [[]], [[]], [[]], [[]], [[]], [[]], [[]], [[]], [[]], [[]], [[]], [[]], [[]], [[]]] }) } and Schedule([Config([32]), Config([32]), Config([32]), Config([32]), Config([16]), Config([32]), Config([64]), Config([64]), Config([64]), Config([64]), Config([64]), Config([32]), Config([16]), Config([32]), Config([64]), Config([128]), Config([128]), Config([64]), Config([32]), Config([16]), Config([16]), Config([32]), Config([32]), Config([32]), Config([64]), Config([64]), Config([64]), Config([64]), Config([64]), Config([128]), Config([16]), Config([16]), Config([32]), Config([32]), Config([32]), Config([32]), Config([16]), Config([32]), Config([16]), Config([8]), Config([8]), Config([16]), Config([32]), Config([64]), Config([64]), Config([32]), Config([16]), Config([8]), Config([32]), Config([32]), Config([32]), Config([32]), Config([32]), Config([8]), Config([64]), Config([64]), Config([64]), Config([64]), Config([64]), Config([64]), Config([64]), Config([16]), Config([8]), Config([16]), Config([16]), Config([16]), Config([32]), Config([32]), Config([32]), Config([32]), Config([32]), Config([16]), Config([16]), Config([32]), Config([32]), Config([32]), Config([32]), Config([32]), Config([8]), Config([16]), Config([8]), Config([16]), Config([4]), Config([16]), Config([32]), Config([32]), Config([64]), Config([32]), Config([32]), Config([32]), Config([32]), Config([32]), Config([32]), Config([16]), Config([32]), Config([32]), Config([32]), Config([16]), Config([16]), Config([32]), Config([32]), Config([32]), Config([16]), Config([32]), Config([16]), Config([16]), Config([16]), Config([32]), Config([128]), Config([64]), Config([64]), Config([32]), Config([8]), Config([8]), Config([32]), Config([32]), Config([32]), Config([16]), Config([16]), Config([32]), Config([16]), Config([16]), Config([32]), Config([32]), Config([32]), Config([32]), Config([32]), Config([16]), Config([16]), Config([64]), Config([64]), Config([64]), Config([16]), Config([16]), Config([32]), Config([32]), Config([32]), Config([32]), Config([64]), Config([64]), Config([32]), Config([16]), Config([32]), Config([64])])\n",
      "INFO soco.bindings.data_center.offline 2021-07-29 23:06:34,456 offline.rs:108 Approximate Graph Search\n",
      "INFO soco.streaming.offline 2021-07-29 23:06:34,458 offline.rs:45 Generated a problem instance: SimplifiedSmoothedConvexOptimization { d: 1, t_end: 144, bounds: [600], switching_cost: [6.0] }\n",
      "INFO soco.streaming.offline 2021-07-29 23:06:34,459 offline.rs:47 Simulating until time slot 144.\n",
      "DEBUG soco.algorithms.offline.multi_dimensional.approx_graph_search 2021-07-29 23:06:34,460 approx_graph_search.rs:57 starting with `14` values\n",
      "DEBUG soco.algorithms.offline.multi_dimensional.graph_search 2021-07-29 23:06:34,461 graph_search.rs:58 from time slot `1` to time slot `144`\n",
      "INFO soco.streaming.offline 2021-07-29 23:06:36,494 offline.rs:54 Completed with Cost { cost: 4047211.138038721, output: Success(DataCenterModelOutputSuccess { energy_cost: 3625800.0, revenue_loss: 413359.1380387213, assignments: [[[]], [[]], [[]], [[]], [[]], [[]], [[]], [[]], [[]], [[]], [[]], [[]], [[]], [[]], [[]], [[]], [[]], [[]], [[]], [[]], [[]], [[]], [[]], [[]], [[]], [[]], [[]], [[]], [[]], [[]], [[]], [[]], [[]], [[]], [[]], [[]], [[]], [[]], [[]], [[]], [[]], [[]], [[]], [[]], [[]], [[]], [[]], [[]], [[]], [[]], [[]], [[]], [[]], [[]], [[]], [[]], [[]], [[]], [[]], [[]], [[]], [[]], [[]], [[]], [[]], [[]], [[]], [[]], [[]], [[]], [[]], [[]], [[]], [[]], [[]], [[]], [[]], [[]], [[]], [[]], [[]], [[]], [[]], [[]], [[]], [[]], [[]], [[]], [[]], [[]], [[]], [[]], [[]], [[]], [[]], [[]], [[]], [[]], [[]], [[]], [[]], [[]], [[]], [[]], [[]], [[]], [[]], [[]], [[]], [[]], [[]], [[]], [[]], [[]], [[]], [[]], [[]], [[]], [[]], [[]], [[]], [[]], [[]], [[]], [[]], [[]], [[]], [[]], [[]], [[]], [[]], [[]], [[]], [[]], [[]], [[]], [[]], [[]], [[]], [[]], [[]], [[]], [[]], [[]]] }) } and Schedule([Config([19]), Config([19]), Config([48]), Config([48]), Config([18]), Config([48]), Config([49]), Config([127]), Config([49]), Config([48]), Config([48]), Config([48]), Config([18]), Config([48]), Config([127]), Config([127]), Config([127]), Config([49]), Config([48]), Config([18]), Config([18]), Config([48]), Config([48]), Config([48]), Config([48]), Config([48]), Config([48]), Config([49]), Config([48]), Config([127]), Config([18]), Config([18]), Config([48]), Config([48]), Config([48]), Config([48]), Config([18]), Config([48]), Config([18]), Config([7]), Config([7]), Config([18]), Config([48]), Config([127]), Config([49]), Config([19]), Config([18]), Config([6]), Config([19]), Config([48]), Config([48]), Config([48]), Config([19]), Config([7]), Config([127]), Config([127]), Config([127]), Config([49]), Config([49]), Config([127]), Config([48]), Config([18]), Config([18]), Config([18]), Config([18]), Config([18]), Config([19]), Config([48]), Config([48]), Config([48]), Config([48]), Config([18]), Config([18]), Config([19]), Config([48]), Config([48]), Config([48]), Config([48]), Config([7]), Config([18]), Config([7]), Config([18]), Config([6]), Config([18]), Config([48]), Config([48]), Config([48]), Config([48]), Config([48]), Config([48]), Config([48]), Config([48]), Config([48]), Config([18]), Config([48]), Config([48]), Config([48]), Config([18]), Config([18]), Config([48]), Config([48]), Config([19]), Config([18]), Config([19]), Config([18]), Config([18]), Config([18]), Config([48]), Config([127]), Config([127]), Config([49]), Config([48]), Config([7]), Config([7]), Config([48]), Config([48]), Config([48]), Config([18]), Config([18]), Config([48]), Config([18]), Config([18]), Config([48]), Config([48]), Config([19]), Config([19]), Config([48]), Config([18]), Config([18]), Config([48]), Config([49]), Config([48]), Config([18]), Config([18]), Config([48]), Config([48]), Config([48]), Config([19]), Config([49]), Config([48]), Config([19]), Config([18]), Config([48]), Config([49])])\n",
      "INFO soco.bindings.data_center.offline 2021-07-29 23:06:36,496 offline.rs:108 Approximate Graph Search\n",
      "INFO soco.streaming.offline 2021-07-29 23:06:36,497 offline.rs:45 Generated a problem instance: SimplifiedSmoothedConvexOptimization { d: 1, t_end: 144, bounds: [600], switching_cost: [6.0] }\n",
      "INFO soco.streaming.offline 2021-07-29 23:06:36,497 offline.rs:47 Simulating until time slot 144.\n",
      "DEBUG soco.algorithms.offline.multi_dimensional.approx_graph_search 2021-07-29 23:06:36,499 approx_graph_search.rs:57 starting with `12` values\n",
      "DEBUG soco.algorithms.offline.multi_dimensional.graph_search 2021-07-29 23:06:36,500 graph_search.rs:58 from time slot `1` to time slot `144`\n",
      "INFO soco.streaming.offline 2021-07-29 23:06:38,383 offline.rs:54 Completed with Cost { cost: 4626067.019143995, output: Success(DataCenterModelOutputSuccess { energy_cost: 4381800.0, revenue_loss: 235987.01914399472, assignments: [[[]], [[]], [[]], [[]], [[]], [[]], [[]], [[]], [[]], [[]], [[]], [[]], [[]], [[]], [[]], [[]], [[]], [[]], [[]], [[]], [[]], [[]], [[]], [[]], [[]], [[]], [[]], [[]], [[]], [[]], [[]], [[]], [[]], [[]], [[]], [[]], [[]], [[]], [[]], [[]], [[]], [[]], [[]], [[]], [[]], [[]], [[]], [[]], [[]], [[]], [[]], [[]], [[]], [[]], [[]], [[]], [[]], [[]], [[]], [[]], [[]], [[]], [[]], [[]], [[]], [[]], [[]], [[]], [[]], [[]], [[]], [[]], [[]], [[]], [[]], [[]], [[]], [[]], [[]], [[]], [[]], [[]], [[]], [[]], [[]], [[]], [[]], [[]], [[]], [[]], [[]], [[]], [[]], [[]], [[]], [[]], [[]], [[]], [[]], [[]], [[]], [[]], [[]], [[]], [[]], [[]], [[]], [[]], [[]], [[]], [[]], [[]], [[]], [[]], [[]], [[]], [[]], [[]], [[]], [[]], [[]], [[]], [[]], [[]], [[]], [[]], [[]], [[]], [[]], [[]], [[]], [[]], [[]], [[]], [[]], [[]], [[]], [[]], [[]], [[]], [[]], [[]], [[]], [[]]] }) } and Schedule([Config([42]), Config([42]), Config([42]), Config([42]), Config([42]), Config([42]), Config([147]), Config([147]), Config([43]), Config([43]), Config([43]), Config([42]), Config([12]), Config([42]), Config([147]), Config([147]), Config([147]), Config([147]), Config([42]), Config([13]), Config([42]), Config([42]), Config([42]), Config([42]), Config([42]), Config([43]), Config([43]), Config([43]), Config([43]), Config([147]), Config([42]), Config([42]), Config([42]), Config([42]), Config([42]), Config([42]), Config([42]), Config([42]), Config([12]), Config([12]), Config([12]), Config([42]), Config([42]), Config([147]), Config([147]), Config([42]), Config([12]), Config([12]), Config([42]), Config([42]), Config([42]), Config([42]), Config([42]), Config([12]), Config([147]), Config([147]), Config([147]), Config([43]), Config([147]), Config([147]), Config([43]), Config([12]), Config([12]), Config([13]), Config([42]), Config([42]), Config([42]), Config([42]), Config([42]), Config([42]), Config([42]), Config([13]), Config([13]), Config([42]), Config([42]), Config([42]), Config([42]), Config([42]), Config([12]), Config([12]), Config([12]), Config([12]), Config([4]), Config([12]), Config([42]), Config([42]), Config([42]), Config([42]), Config([42]), Config([42]), Config([42]), Config([42]), Config([42]), Config([42]), Config([42]), Config([42]), Config([42]), Config([42]), Config([42]), Config([42]), Config([42]), Config([42]), Config([42]), Config([42]), Config([42]), Config([42]), Config([13]), Config([42]), Config([147]), Config([147]), Config([147]), Config([42]), Config([12]), Config([12]), Config([42]), Config([42]), Config([42]), Config([42]), Config([42]), Config([42]), Config([42]), Config([13]), Config([42]), Config([42]), Config([42]), Config([42]), Config([42]), Config([12]), Config([42]), Config([43]), Config([43]), Config([42]), Config([42]), Config([42]), Config([42]), Config([42]), Config([42]), Config([42]), Config([147]), Config([42]), Config([42]), Config([13]), Config([42]), Config([147])])\n",
      "INFO soco.bindings.data_center.offline 2021-07-29 23:06:38,384 offline.rs:108 Approximate Graph Search\n",
      "INFO soco.streaming.offline 2021-07-29 23:06:38,385 offline.rs:45 Generated a problem instance: SimplifiedSmoothedConvexOptimization { d: 1, t_end: 144, bounds: [600], switching_cost: [6.0] }\n",
      "INFO soco.streaming.offline 2021-07-29 23:06:38,386 offline.rs:47 Simulating until time slot 144.\n",
      "DEBUG soco.algorithms.offline.multi_dimensional.approx_graph_search 2021-07-29 23:06:38,387 approx_graph_search.rs:57 starting with `10` values\n",
      "DEBUG soco.algorithms.offline.multi_dimensional.graph_search 2021-07-29 23:06:38,388 graph_search.rs:58 from time slot `1` to time slot `144`\n",
      "INFO soco.streaming.offline 2021-07-29 23:06:39,898 offline.rs:54 Completed with Cost { cost: 5129675.479674468, output: Success(DataCenterModelOutputSuccess { energy_cost: 4819200.0, revenue_loss: 299213.4796744677, assignments: [[[]], [[]], [[]], [[]], [[]], [[]], [[]], [[]], [[]], [[]], [[]], [[]], [[]], [[]], [[]], [[]], [[]], [[]], [[]], [[]], [[]], [[]], [[]], [[]], [[]], [[]], [[]], [[]], [[]], [[]], [[]], [[]], [[]], [[]], [[]], [[]], [[]], [[]], [[]], [[]], [[]], [[]], [[]], [[]], [[]], [[]], [[]], [[]], [[]], [[]], [[]], [[]], [[]], [[]], [[]], [[]], [[]], [[]], [[]], [[]], [[]], [[]], [[]], [[]], [[]], [[]], [[]], [[]], [[]], [[]], [[]], [[]], [[]], [[]], [[]], [[]], [[]], [[]], [[]], [[]], [[]], [[]], [[]], [[]], [[]], [[]], [[]], [[]], [[]], [[]], [[]], [[]], [[]], [[]], [[]], [[]], [[]], [[]], [[]], [[]], [[]], [[]], [[]], [[]], [[]], [[]], [[]], [[]], [[]], [[]], [[]], [[]], [[]], [[]], [[]], [[]], [[]], [[]], [[]], [[]], [[]], [[]], [[]], [[]], [[]], [[]], [[]], [[]], [[]], [[]], [[]], [[]], [[]], [[]], [[]], [[]], [[]], [[]], [[]], [[]], [[]], [[]], [[]], [[]]] }) } and Schedule([Config([22]), Config([21]), Config([97]), Config([97]), Config([21]), Config([97]), Config([97]), Config([97]), Config([97]), Config([97]), Config([97]), Config([97]), Config([21]), Config([97]), Config([97]), Config([97]), Config([97]), Config([97]), Config([22]), Config([21]), Config([21]), Config([97]), Config([22]), Config([22]), Config([97]), Config([97]), Config([97]), Config([97]), Config([97]), Config([97]), Config([21]), Config([21]), Config([97]), Config([22]), Config([97]), Config([97]), Config([21]), Config([22]), Config([21]), Config([21]), Config([21]), Config([21]), Config([97]), Config([97]), Config([97]), Config([21]), Config([21]), Config([5]), Config([21]), Config([97]), Config([97]), Config([97]), Config([21]), Config([21]), Config([97]), Config([97]), Config([97]), Config([97]), Config([97]), Config([97]), Config([97]), Config([21]), Config([21]), Config([21]), Config([21]), Config([21]), Config([21]), Config([97]), Config([22]), Config([22]), Config([22]), Config([21]), Config([21]), Config([21]), Config([97]), Config([22]), Config([97]), Config([97]), Config([21]), Config([21]), Config([21]), Config([21]), Config([4]), Config([21]), Config([97]), Config([97]), Config([97]), Config([22]), Config([97]), Config([22]), Config([97]), Config([97]), Config([97]), Config([21]), Config([97]), Config([97]), Config([97]), Config([21]), Config([21]), Config([97]), Config([97]), Config([22]), Config([21]), Config([21]), Config([21]), Config([21]), Config([21]), Config([22]), Config([97]), Config([97]), Config([97]), Config([22]), Config([21]), Config([21]), Config([22]), Config([97]), Config([97]), Config([21]), Config([21]), Config([22]), Config([21]), Config([21]), Config([22]), Config([22]), Config([21]), Config([22]), Config([22]), Config([21]), Config([21]), Config([97]), Config([97]), Config([97]), Config([21]), Config([21]), Config([22]), Config([22]), Config([97]), Config([22]), Config([97]), Config([97]), Config([22]), Config([21]), Config([97]), Config([97])])\n",
      "INFO soco.bindings.data_center.offline 2021-07-29 23:06:39,900 offline.rs:108 Approximate Graph Search\n",
      "INFO soco.streaming.offline 2021-07-29 23:06:39,901 offline.rs:45 Generated a problem instance: SimplifiedSmoothedConvexOptimization { d: 1, t_end: 144, bounds: [600], switching_cost: [6.0] }\n",
      "INFO soco.streaming.offline 2021-07-29 23:06:39,901 offline.rs:47 Simulating until time slot 144.\n",
      "DEBUG soco.algorithms.offline.multi_dimensional.approx_graph_search 2021-07-29 23:06:39,902 approx_graph_search.rs:57 starting with `8` values\n",
      "DEBUG soco.algorithms.offline.multi_dimensional.graph_search 2021-07-29 23:06:39,903 graph_search.rs:58 from time slot `1` to time slot `144`\n",
      "INFO soco.streaming.offline 2021-07-29 23:06:41,074 offline.rs:54 Completed with Cost { cost: 5962619.141794398, output: Success(DataCenterModelOutputSuccess { energy_cost: 5526600.0, revenue_loss: 423407.1417943977, assignments: [[[]], [[]], [[]], [[]], [[]], [[]], [[]], [[]], [[]], [[]], [[]], [[]], [[]], [[]], [[]], [[]], [[]], [[]], [[]], [[]], [[]], [[]], [[]], [[]], [[]], [[]], [[]], [[]], [[]], [[]], [[]], [[]], [[]], [[]], [[]], [[]], [[]], [[]], [[]], [[]], [[]], [[]], [[]], [[]], [[]], [[]], [[]], [[]], [[]], [[]], [[]], [[]], [[]], [[]], [[]], [[]], [[]], [[]], [[]], [[]], [[]], [[]], [[]], [[]], [[]], [[]], [[]], [[]], [[]], [[]], [[]], [[]], [[]], [[]], [[]], [[]], [[]], [[]], [[]], [[]], [[]], [[]], [[]], [[]], [[]], [[]], [[]], [[]], [[]], [[]], [[]], [[]], [[]], [[]], [[]], [[]], [[]], [[]], [[]], [[]], [[]], [[]], [[]], [[]], [[]], [[]], [[]], [[]], [[]], [[]], [[]], [[]], [[]], [[]], [[]], [[]], [[]], [[]], [[]], [[]], [[]], [[]], [[]], [[]], [[]], [[]], [[]], [[]], [[]], [[]], [[]], [[]], [[]], [[]], [[]], [[]], [[]], [[]], [[]], [[]], [[]], [[]], [[]], [[]]] }) } and Schedule([Config([36]), Config([36]), Config([36]), Config([36]), Config([36]), Config([36]), Config([222]), Config([222]), Config([222]), Config([37]), Config([37]), Config([36]), Config([36]), Config([36]), Config([222]), Config([222]), Config([222]), Config([222]), Config([36]), Config([36]), Config([36]), Config([36]), Config([36]), Config([36]), Config([37]), Config([37]), Config([37]), Config([222]), Config([37]), Config([222]), Config([36]), Config([36]), Config([36]), Config([36]), Config([36]), Config([36]), Config([36]), Config([36]), Config([36]), Config([7]), Config([7]), Config([36]), Config([36]), Config([222]), Config([222]), Config([36]), Config([36]), Config([6]), Config([36]), Config([36]), Config([36]), Config([36]), Config([36]), Config([7]), Config([222]), Config([222]), Config([222]), Config([222]), Config([222]), Config([222]), Config([37]), Config([36]), Config([36]), Config([36]), Config([36]), Config([36]), Config([36]), Config([37]), Config([36]), Config([36]), Config([36]), Config([36]), Config([36]), Config([36]), Config([36]), Config([36]), Config([36]), Config([36]), Config([7]), Config([36]), Config([7]), Config([36]), Config([6]), Config([36]), Config([36]), Config([36]), Config([37]), Config([36]), Config([36]), Config([36]), Config([36]), Config([36]), Config([36]), Config([36]), Config([36]), Config([36]), Config([36]), Config([36]), Config([36]), Config([36]), Config([36]), Config([36]), Config([36]), Config([36]), Config([36]), Config([36]), Config([36]), Config([36]), Config([222]), Config([222]), Config([222]), Config([36]), Config([7]), Config([7]), Config([36]), Config([36]), Config([36]), Config([36]), Config([36]), Config([36]), Config([36]), Config([36]), Config([36]), Config([36]), Config([36]), Config([36]), Config([36]), Config([36]), Config([36]), Config([37]), Config([222]), Config([37]), Config([36]), Config([36]), Config([36]), Config([36]), Config([36]), Config([36]), Config([222]), Config([37]), Config([36]), Config([36]), Config([36]), Config([222])])\n",
      "INFO soco.bindings.data_center.offline 2021-07-29 23:06:41,075 offline.rs:108 Approximate Graph Search\n",
      "INFO soco.streaming.offline 2021-07-29 23:06:41,076 offline.rs:45 Generated a problem instance: SimplifiedSmoothedConvexOptimization { d: 1, t_end: 144, bounds: [600], switching_cost: [6.0] }\n",
      "INFO soco.streaming.offline 2021-07-29 23:06:41,077 offline.rs:47 Simulating until time slot 144.\n",
      "DEBUG soco.algorithms.offline.multi_dimensional.approx_graph_search 2021-07-29 23:06:41,078 approx_graph_search.rs:57 starting with `5` values\n",
      "DEBUG soco.algorithms.offline.multi_dimensional.graph_search 2021-07-29 23:06:41,079 graph_search.rs:58 from time slot `1` to time slot `144`\n",
      "INFO soco.streaming.offline 2021-07-29 23:06:41,778 offline.rs:54 Completed with Cost { cost: 6077532.3874961445, output: Success(DataCenterModelOutputSuccess { energy_cost: 5428800.0, revenue_loss: 643308.3874961445, assignments: [[[]], [[]], [[]], [[]], [[]], [[]], [[]], [[]], [[]], [[]], [[]], [[]], [[]], [[]], [[]], [[]], [[]], [[]], [[]], [[]], [[]], [[]], [[]], [[]], [[]], [[]], [[]], [[]], [[]], [[]], [[]], [[]], [[]], [[]], [[]], [[]], [[]], [[]], [[]], [[]], [[]], [[]], [[]], [[]], [[]], [[]], [[]], [[]], [[]], [[]], [[]], [[]], [[]], [[]], [[]], [[]], [[]], [[]], [[]], [[]], [[]], [[]], [[]], [[]], [[]], [[]], [[]], [[]], [[]], [[]], [[]], [[]], [[]], [[]], [[]], [[]], [[]], [[]], [[]], [[]], [[]], [[]], [[]], [[]], [[]], [[]], [[]], [[]], [[]], [[]], [[]], [[]], [[]], [[]], [[]], [[]], [[]], [[]], [[]], [[]], [[]], [[]], [[]], [[]], [[]], [[]], [[]], [[]], [[]], [[]], [[]], [[]], [[]], [[]], [[]], [[]], [[]], [[]], [[]], [[]], [[]], [[]], [[]], [[]], [[]], [[]], [[]], [[]], [[]], [[]], [[]], [[]], [[]], [[]], [[]], [[]], [[]], [[]], [[]], [[]], [[]], [[]], [[]], [[]]] }) } and Schedule([Config([64]), Config([64]), Config([64]), Config([64]), Config([64]), Config([64]), Config([64]), Config([64]), Config([64]), Config([64]), Config([64]), Config([64]), Config([64]), Config([64]), Config([64]), Config([64]), Config([512]), Config([64]), Config([64]), Config([64]), Config([64]), Config([64]), Config([64]), Config([64]), Config([64]), Config([64]), Config([64]), Config([64]), Config([64]), Config([64]), Config([64]), Config([64]), Config([64]), Config([64]), Config([64]), Config([64]), Config([64]), Config([64]), Config([64]), Config([8]), Config([8]), Config([64]), Config([64]), Config([64]), Config([64]), Config([64]), Config([64]), Config([8]), Config([64]), Config([64]), Config([64]), Config([64]), Config([64]), Config([8]), Config([64]), Config([64]), Config([64]), Config([64]), Config([64]), Config([64]), Config([64]), Config([64]), Config([8]), Config([64]), Config([64]), Config([64]), Config([64]), Config([64]), Config([64]), Config([64]), Config([64]), Config([64]), Config([64]), Config([64]), Config([64]), Config([64]), Config([64]), Config([64]), Config([8]), Config([64]), Config([8]), Config([8]), Config([8]), Config([64]), Config([64]), Config([64]), Config([64]), Config([64]), Config([64]), Config([64]), Config([64]), Config([64]), Config([64]), Config([64]), Config([64]), Config([64]), Config([64]), Config([64]), Config([64]), Config([64]), Config([64]), Config([64]), Config([64]), Config([64]), Config([64]), Config([64]), Config([64]), Config([64]), Config([64]), Config([64]), Config([64]), Config([64]), Config([8]), Config([8]), Config([64]), Config([64]), Config([64]), Config([64]), Config([64]), Config([64]), Config([64]), Config([64]), Config([64]), Config([64]), Config([64]), Config([64]), Config([64]), Config([64]), Config([64]), Config([64]), Config([64]), Config([64]), Config([64]), Config([64]), Config([64]), Config([64]), Config([64]), Config([64]), Config([64]), Config([64]), Config([64]), Config([64]), Config([64]), Config([64])])\n"
     ]
    }
   ],
   "metadata": {}
  },
  {
   "cell_type": "code",
   "execution_count": 18,
   "source": [
    "# plt.axhline(y=iopt, color='r', linestyle='-')\n",
    "plot(x, np.array(y) / iopt, 'gamma', 'normalized cost', 'approx_graph_search')\n",
    "plt.show()"
   ],
   "outputs": [
    {
     "output_type": "stream",
     "name": "stderr",
     "text": [
      "DEBUG matplotlib.font_manager 2021-07-29 23:08:43,466 font_manager.py:1329 findfont: Matching sans\\-serif:style=normal:variant=normal:weight=normal:stretch=normal:size=10.0.\n",
      "DEBUG matplotlib.font_manager 2021-07-29 23:08:43,468 font_manager.py:1341 findfont: score(<Font 'DejaVu Sans Display' (DejaVuSansDisplay.ttf) normal normal 400 normal>) = 10.05\n",
      "DEBUG matplotlib.font_manager 2021-07-29 23:08:43,469 font_manager.py:1341 findfont: score(<Font 'cmtt10' (cmtt10.ttf) normal normal 400 normal>) = 10.05\n",
      "DEBUG matplotlib.font_manager 2021-07-29 23:08:43,469 font_manager.py:1341 findfont: score(<Font 'DejaVu Serif' (DejaVuSerif-BoldItalic.ttf) italic normal 700 normal>) = 11.335\n",
      "DEBUG matplotlib.font_manager 2021-07-29 23:08:43,470 font_manager.py:1341 findfont: score(<Font 'STIXNonUnicode' (STIXNonUniIta.ttf) italic normal 400 normal>) = 11.05\n",
      "DEBUG matplotlib.font_manager 2021-07-29 23:08:43,471 font_manager.py:1341 findfont: score(<Font 'DejaVu Sans Mono' (DejaVuSansMono-Bold.ttf) normal normal 700 normal>) = 10.335\n",
      "DEBUG matplotlib.font_manager 2021-07-29 23:08:43,472 font_manager.py:1341 findfont: score(<Font 'STIXGeneral' (STIXGeneralItalic.ttf) italic normal 400 normal>) = 11.05\n",
      "DEBUG matplotlib.font_manager 2021-07-29 23:08:43,473 font_manager.py:1341 findfont: score(<Font 'STIXSizeThreeSym' (STIXSizThreeSymBol.ttf) normal normal 700 normal>) = 10.335\n",
      "DEBUG matplotlib.font_manager 2021-07-29 23:08:43,474 font_manager.py:1341 findfont: score(<Font 'DejaVu Sans Mono' (DejaVuSansMono.ttf) normal normal 400 normal>) = 10.05\n",
      "DEBUG matplotlib.font_manager 2021-07-29 23:08:43,475 font_manager.py:1341 findfont: score(<Font 'STIXGeneral' (STIXGeneralBol.ttf) normal normal 700 normal>) = 10.335\n",
      "DEBUG matplotlib.font_manager 2021-07-29 23:08:43,477 font_manager.py:1341 findfont: score(<Font 'DejaVu Sans' (DejaVuSans-Oblique.ttf) oblique normal 400 normal>) = 1.05\n",
      "DEBUG matplotlib.font_manager 2021-07-29 23:08:43,479 font_manager.py:1341 findfont: score(<Font 'DejaVu Sans Mono' (DejaVuSansMono-BoldOblique.ttf) oblique normal 700 normal>) = 11.335\n",
      "DEBUG matplotlib.font_manager 2021-07-29 23:08:43,480 font_manager.py:1341 findfont: score(<Font 'STIXSizeThreeSym' (STIXSizThreeSymReg.ttf) normal normal 400 normal>) = 10.05\n",
      "DEBUG matplotlib.font_manager 2021-07-29 23:08:43,481 font_manager.py:1341 findfont: score(<Font 'DejaVu Serif' (DejaVuSerif.ttf) normal normal 400 normal>) = 10.05\n",
      "DEBUG matplotlib.font_manager 2021-07-29 23:08:43,482 font_manager.py:1341 findfont: score(<Font 'cmmi10' (cmmi10.ttf) normal normal 400 normal>) = 10.05\n",
      "DEBUG matplotlib.font_manager 2021-07-29 23:08:43,485 font_manager.py:1341 findfont: score(<Font 'STIXSizeOneSym' (STIXSizOneSymReg.ttf) normal normal 400 normal>) = 10.05\n",
      "DEBUG matplotlib.font_manager 2021-07-29 23:08:43,486 font_manager.py:1341 findfont: score(<Font 'STIXSizeFourSym' (STIXSizFourSymBol.ttf) normal normal 700 normal>) = 10.335\n",
      "DEBUG matplotlib.font_manager 2021-07-29 23:08:43,488 font_manager.py:1341 findfont: score(<Font 'DejaVu Sans Mono' (DejaVuSansMono-Oblique.ttf) oblique normal 400 normal>) = 11.05\n",
      "DEBUG matplotlib.font_manager 2021-07-29 23:08:43,490 font_manager.py:1341 findfont: score(<Font 'cmr10' (cmr10.ttf) normal normal 400 normal>) = 10.05\n",
      "DEBUG matplotlib.font_manager 2021-07-29 23:08:43,492 font_manager.py:1341 findfont: score(<Font 'STIXSizeTwoSym' (STIXSizTwoSymBol.ttf) normal normal 700 normal>) = 10.335\n",
      "DEBUG matplotlib.font_manager 2021-07-29 23:08:43,493 font_manager.py:1341 findfont: score(<Font 'DejaVu Serif' (DejaVuSerif-Bold.ttf) normal normal 700 normal>) = 10.335\n",
      "DEBUG matplotlib.font_manager 2021-07-29 23:08:43,494 font_manager.py:1341 findfont: score(<Font 'STIXSizeFourSym' (STIXSizFourSymReg.ttf) normal normal 400 normal>) = 10.05\n",
      "DEBUG matplotlib.font_manager 2021-07-29 23:08:43,495 font_manager.py:1341 findfont: score(<Font 'STIXSizeTwoSym' (STIXSizTwoSymReg.ttf) normal normal 400 normal>) = 10.05\n",
      "DEBUG matplotlib.font_manager 2021-07-29 23:08:43,497 font_manager.py:1341 findfont: score(<Font 'DejaVu Serif' (DejaVuSerif-Italic.ttf) italic normal 400 normal>) = 11.05\n",
      "DEBUG matplotlib.font_manager 2021-07-29 23:08:43,498 font_manager.py:1341 findfont: score(<Font 'STIXGeneral' (STIXGeneralBolIta.ttf) italic normal 700 normal>) = 11.335\n",
      "DEBUG matplotlib.font_manager 2021-07-29 23:08:43,499 font_manager.py:1341 findfont: score(<Font 'STIXGeneral' (STIXGeneral.ttf) normal normal 400 normal>) = 10.05\n",
      "DEBUG matplotlib.font_manager 2021-07-29 23:08:43,500 font_manager.py:1341 findfont: score(<Font 'STIXNonUnicode' (STIXNonUni.ttf) normal normal 400 normal>) = 10.05\n",
      "DEBUG matplotlib.font_manager 2021-07-29 23:08:43,502 font_manager.py:1341 findfont: score(<Font 'DejaVu Sans' (DejaVuSans-BoldOblique.ttf) oblique normal 700 normal>) = 1.335\n",
      "DEBUG matplotlib.font_manager 2021-07-29 23:08:43,503 font_manager.py:1341 findfont: score(<Font 'cmss10' (cmss10.ttf) normal normal 400 normal>) = 10.05\n",
      "DEBUG matplotlib.font_manager 2021-07-29 23:08:43,504 font_manager.py:1341 findfont: score(<Font 'DejaVu Serif Display' (DejaVuSerifDisplay.ttf) normal normal 400 normal>) = 10.05\n",
      "DEBUG matplotlib.font_manager 2021-07-29 23:08:43,505 font_manager.py:1341 findfont: score(<Font 'DejaVu Sans' (DejaVuSans-Bold.ttf) normal normal 700 normal>) = 0.33499999999999996\n",
      "DEBUG matplotlib.font_manager 2021-07-29 23:08:43,506 font_manager.py:1341 findfont: score(<Font 'cmex10' (cmex10.ttf) normal normal 400 normal>) = 10.05\n",
      "DEBUG matplotlib.font_manager 2021-07-29 23:08:43,508 font_manager.py:1341 findfont: score(<Font 'cmsy10' (cmsy10.ttf) normal normal 400 normal>) = 10.05\n",
      "DEBUG matplotlib.font_manager 2021-07-29 23:08:43,510 font_manager.py:1341 findfont: score(<Font 'STIXSizeOneSym' (STIXSizOneSymBol.ttf) normal normal 700 normal>) = 10.335\n",
      "DEBUG matplotlib.font_manager 2021-07-29 23:08:43,511 font_manager.py:1341 findfont: score(<Font 'cmb10' (cmb10.ttf) normal normal 400 normal>) = 10.05\n",
      "DEBUG matplotlib.font_manager 2021-07-29 23:08:43,512 font_manager.py:1341 findfont: score(<Font 'STIXSizeFiveSym' (STIXSizFiveSymReg.ttf) normal normal 400 normal>) = 10.05\n",
      "DEBUG matplotlib.font_manager 2021-07-29 23:08:43,513 font_manager.py:1341 findfont: score(<Font 'STIXNonUnicode' (STIXNonUniBolIta.ttf) italic normal 700 normal>) = 11.335\n",
      "DEBUG matplotlib.font_manager 2021-07-29 23:08:43,514 font_manager.py:1341 findfont: score(<Font 'DejaVu Sans' (DejaVuSans.ttf) normal normal 400 normal>) = 0.05\n",
      "DEBUG matplotlib.font_manager 2021-07-29 23:08:43,516 font_manager.py:1341 findfont: score(<Font 'STIXNonUnicode' (STIXNonUniBol.ttf) normal normal 700 normal>) = 10.335\n",
      "DEBUG matplotlib.font_manager 2021-07-29 23:08:43,517 font_manager.py:1341 findfont: score(<Font 'DejaVu Sans' (DejaVuSans.ttf) normal normal 400 normal>) = 0.05\n",
      "DEBUG matplotlib.font_manager 2021-07-29 23:08:43,518 font_manager.py:1341 findfont: score(<Font 'DejaVu Serif' (DejaVuSerif.ttf) normal normal 400 normal>) = 10.05\n",
      "DEBUG matplotlib.font_manager 2021-07-29 23:08:43,519 font_manager.py:1341 findfont: score(<Font 'DejaVu Sans Mono' (DejaVuSansMono-Bold.ttf) normal normal 700 normal>) = 10.335\n",
      "DEBUG matplotlib.font_manager 2021-07-29 23:08:43,521 font_manager.py:1341 findfont: score(<Font 'DejaVu Sans' (DejaVuSans-Bold.ttf) normal normal 700 normal>) = 0.33499999999999996\n",
      "DEBUG matplotlib.font_manager 2021-07-29 23:08:43,522 font_manager.py:1341 findfont: score(<Font 'DejaVu Sans Mono' (DejaVuSansMono.ttf) normal normal 400 normal>) = 10.05\n",
      "DEBUG matplotlib.font_manager 2021-07-29 23:08:43,523 font_manager.py:1341 findfont: score(<Font 'DejaVu Serif' (DejaVuSerif-Bold.ttf) normal normal 700 normal>) = 10.335\n",
      "DEBUG matplotlib.font_manager 2021-07-29 23:08:43,525 font_manager.py:1367 findfont: Matching sans\\-serif:style=normal:variant=normal:weight=normal:stretch=normal:size=10.0 to DejaVu Sans ('/home/jonhue/projects/jonhue/bachelors-thesis/venv/lib/python3.8/site-packages/matplotlib/mpl-data/fonts/ttf/DejaVuSans.ttf') with score of 0.050000.\n"
     ]
    },
    {
     "output_type": "display_data",
     "data": {
      "text/plain": [
       "<Figure size 640x480 with 1 Axes>"
      ],
      "image/png": "[encoded data removed]"
     },
     "metadata": {}
    }
   ],
   "metadata": {}
  },
  {
   "cell_type": "code",
   "execution_count": 19,
   "source": [
    "plot(x, approx_opt_runtimes, 'gamma', 'runtime (milliseconds)', 'approx_graph_search_runtime')\n",
    "plt.show()"
   ],
   "outputs": [
    {
     "output_type": "display_data",
     "data": {
      "text/plain": [
       "<Figure size 640x480 with 1 Axes>"
      ],
      "image/png": "[encoded data removed]"
     },
     "metadata": {}
    }
   ],
   "metadata": {}
  },
  {
   "cell_type": "markdown",
   "source": [
    "## Online"
   ],
   "metadata": {}
  },
  {
   "cell_type": "code",
   "execution_count": null,
   "source": [
    "from lib.online import evaluate_fractional_lazy_capacity_provisioning\n",
    "\n",
    "initial_alg, alg, initial_ialg, ialg, energy_cost, revenue_loss, switching_cost, initial_runtime, runtimes = evaluate_fractional_lazy_capacity_provisioning(model, [], perfect_knowledge_online_input)"
   ],
   "outputs": [
    {
     "output_type": "stream",
     "name": "stderr",
     "text": [
      "  0%|          | 0/144 [00:00<?, ?it/s]The inputs have prediction window `144` which is not used completely by the algorithm with prediction window `0`. Consider using a different algorithm.\n",
      "The inputs have prediction window `144` which is not used completely by the algorithm with prediction window `0`. Consider using a different algorithm.\n",
      "  1%|▏         | 2/144 [00:00<00:17,  8.04it/s]The inputs have prediction window `144` which is not used completely by the algorithm with prediction window `0`. Consider using a different algorithm.\n",
      "The inputs have prediction window `144` which is not used completely by the algorithm with prediction window `0`. Consider using a different algorithm.\n",
      "The inputs have prediction window `144` which is not used completely by the algorithm with prediction window `0`. Consider using a different algorithm.\n",
      "  3%|▎         | 5/144 [00:00<00:16,  8.46it/s]The inputs have prediction window `144` which is not used completely by the algorithm with prediction window `0`. Consider using a different algorithm.\n",
      "  4%|▍         | 6/144 [00:01<00:46,  2.94it/s]The inputs have prediction window `144` which is not used completely by the algorithm with prediction window `0`. Consider using a different algorithm.\n",
      "  5%|▍         | 7/144 [00:03<01:40,  1.36it/s]The inputs have prediction window `144` which is not used completely by the algorithm with prediction window `0`. Consider using a different algorithm.\n",
      "  6%|▌         | 8/144 [00:09<04:43,  2.09s/it]The inputs have prediction window `144` which is not used completely by the algorithm with prediction window `0`. Consider using a different algorithm.\n",
      "The inputs have prediction window `144` which is not used completely by the algorithm with prediction window `0`. Consider using a different algorithm.\n",
      "  7%|▋         | 10/144 [00:09<02:41,  1.21s/it]The inputs have prediction window `144` which is not used completely by the algorithm with prediction window `0`. Consider using a different algorithm.\n",
      "The inputs have prediction window `144` which is not used completely by the algorithm with prediction window `0`. Consider using a different algorithm.\n",
      "  8%|▊         | 12/144 [00:09<01:49,  1.21it/s]The inputs have prediction window `144` which is not used completely by the algorithm with prediction window `0`. Consider using a different algorithm.\n",
      "  9%|▉         | 13/144 [00:10<01:58,  1.11it/s]The inputs have prediction window `144` which is not used completely by the algorithm with prediction window `0`. Consider using a different algorithm.\n",
      " 10%|▉         | 14/144 [00:14<03:02,  1.41s/it]The inputs have prediction window `144` which is not used completely by the algorithm with prediction window `0`. Consider using a different algorithm.\n",
      " 10%|█         | 15/144 [00:17<04:24,  2.05s/it]The inputs have prediction window `144` which is not used completely by the algorithm with prediction window `0`. Consider using a different algorithm.\n",
      "The inputs have prediction window `144` which is not used completely by the algorithm with prediction window `0`. Consider using a different algorithm.\n",
      " 12%|█▏        | 17/144 [00:18<02:35,  1.22s/it]The inputs have prediction window `144` which is not used completely by the algorithm with prediction window `0`. Consider using a different algorithm.\n",
      "The inputs have prediction window `144` which is not used completely by the algorithm with prediction window `0`. Consider using a different algorithm.\n",
      " 13%|█▎        | 19/144 [00:18<01:46,  1.18it/s]The inputs have prediction window `144` which is not used completely by the algorithm with prediction window `0`. Consider using a different algorithm.\n",
      " 14%|█▍        | 20/144 [00:19<01:54,  1.08it/s]The inputs have prediction window `144` which is not used completely by the algorithm with prediction window `0`. Consider using a different algorithm.\n",
      " 15%|█▍        | 21/144 [00:19<01:30,  1.35it/s]The inputs have prediction window `144` which is not used completely by the algorithm with prediction window `0`. Consider using a different algorithm.\n",
      " 15%|█▌        | 22/144 [00:20<01:11,  1.71it/s]The inputs have prediction window `144` which is not used completely by the algorithm with prediction window `0`. Consider using a different algorithm.\n",
      " 16%|█▌        | 23/144 [00:20<01:04,  1.87it/s]The inputs have prediction window `144` which is not used completely by the algorithm with prediction window `0`. Consider using a different algorithm.\n",
      " 17%|█▋        | 24/144 [00:21<01:25,  1.40it/s]The inputs have prediction window `144` which is not used completely by the algorithm with prediction window `0`. Consider using a different algorithm.\n",
      " 17%|█▋        | 25/144 [00:23<02:21,  1.19s/it]The inputs have prediction window `144` which is not used completely by the algorithm with prediction window `0`. Consider using a different algorithm.\n",
      " 18%|█▊        | 26/144 [00:27<03:27,  1.75s/it]The inputs have prediction window `144` which is not used completely by the algorithm with prediction window `0`. Consider using a different algorithm.\n",
      "The inputs have prediction window `144` which is not used completely by the algorithm with prediction window `0`. Consider using a different algorithm.\n",
      " 19%|█▉        | 28/144 [00:27<02:04,  1.07s/it]The inputs have prediction window `144` which is not used completely by the algorithm with prediction window `0`. Consider using a different algorithm.\n",
      " 20%|██        | 29/144 [00:28<02:04,  1.09s/it]The inputs have prediction window `144` which is not used completely by the algorithm with prediction window `0`. Consider using a different algorithm.\n",
      " 21%|██        | 30/144 [00:31<02:44,  1.45s/it]The inputs have prediction window `144` which is not used completely by the algorithm with prediction window `0`. Consider using a different algorithm.\n",
      " 22%|██▏       | 31/144 [00:34<03:31,  1.88s/it]The inputs have prediction window `144` which is not used completely by the algorithm with prediction window `0`. Consider using a different algorithm.\n",
      " 22%|██▏       | 32/144 [00:34<02:35,  1.39s/it]The inputs have prediction window `144` which is not used completely by the algorithm with prediction window `0`. Consider using a different algorithm.\n",
      " 23%|██▎       | 33/144 [00:34<01:55,  1.04s/it]The inputs have prediction window `144` which is not used completely by the algorithm with prediction window `0`. Consider using a different algorithm.\n",
      " 24%|██▎       | 34/144 [00:34<01:25,  1.28it/s]The inputs have prediction window `144` which is not used completely by the algorithm with prediction window `0`. Consider using a different algorithm.\n",
      " 24%|██▍       | 35/144 [00:35<01:14,  1.46it/s]The inputs have prediction window `144` which is not used completely by the algorithm with prediction window `0`. Consider using a different algorithm.\n",
      " 25%|██▌       | 36/144 [00:36<01:34,  1.15it/s]The inputs have prediction window `144` which is not used completely by the algorithm with prediction window `0`. Consider using a different algorithm.\n",
      " 26%|██▌       | 37/144 [00:38<02:12,  1.24s/it]The inputs have prediction window `144` which is not used completely by the algorithm with prediction window `0`. Consider using a different algorithm.\n",
      " 26%|██▋       | 38/144 [00:38<01:36,  1.10it/s]The inputs have prediction window `144` which is not used completely by the algorithm with prediction window `0`. Consider using a different algorithm.\n",
      " 27%|██▋       | 39/144 [00:38<01:11,  1.48it/s]The inputs have prediction window `144` which is not used completely by the algorithm with prediction window `0`. Consider using a different algorithm.\n",
      " 28%|██▊       | 40/144 [00:39<01:08,  1.51it/s]The inputs have prediction window `144` which is not used completely by the algorithm with prediction window `0`. Consider using a different algorithm.\n",
      " 28%|██▊       | 41/144 [00:40<01:29,  1.15it/s]The inputs have prediction window `144` which is not used completely by the algorithm with prediction window `0`. Consider using a different algorithm.\n",
      " 29%|██▉       | 42/144 [00:41<01:07,  1.50it/s]The inputs have prediction window `144` which is not used completely by the algorithm with prediction window `0`. Consider using a different algorithm.\n",
      " 30%|██▉       | 43/144 [00:41<01:02,  1.61it/s]The inputs have prediction window `144` which is not used completely by the algorithm with prediction window `0`. Consider using a different algorithm.\n",
      " 31%|███       | 44/144 [00:43<01:30,  1.11it/s]The inputs have prediction window `144` which is not used completely by the algorithm with prediction window `0`. Consider using a different algorithm.\n",
      " 31%|███▏      | 45/144 [00:43<01:07,  1.46it/s]The inputs have prediction window `144` which is not used completely by the algorithm with prediction window `0`. Consider using a different algorithm.\n",
      " 32%|███▏      | 46/144 [00:43<00:52,  1.88it/s]The inputs have prediction window `144` which is not used completely by the algorithm with prediction window `0`. Consider using a different algorithm.\n",
      " 33%|███▎      | 47/144 [00:44<01:10,  1.38it/s]The inputs have prediction window `144` which is not used completely by the algorithm with prediction window `0`. Consider using a different algorithm.\n",
      " 33%|███▎      | 48/144 [00:47<01:58,  1.23s/it]The inputs have prediction window `144` which is not used completely by the algorithm with prediction window `0`. Consider using a different algorithm.\n",
      " 34%|███▍      | 49/144 [00:51<03:15,  2.06s/it]The inputs have prediction window `144` which is not used completely by the algorithm with prediction window `0`. Consider using a different algorithm.\n",
      " 35%|███▍      | 50/144 [00:51<02:24,  1.54s/it]The inputs have prediction window `144` which is not used completely by the algorithm with prediction window `0`. Consider using a different algorithm.\n",
      " 35%|███▌      | 51/144 [00:52<01:59,  1.29s/it]The inputs have prediction window `144` which is not used completely by the algorithm with prediction window `0`. Consider using a different algorithm.\n",
      " 36%|███▌      | 52/144 [00:53<01:57,  1.28s/it]The inputs have prediction window `144` which is not used completely by the algorithm with prediction window `0`. Consider using a different algorithm.\n",
      " 37%|███▋      | 53/144 [00:53<01:25,  1.07it/s]The inputs have prediction window `144` which is not used completely by the algorithm with prediction window `0`. Consider using a different algorithm.\n",
      " 38%|███▊      | 54/144 [00:53<01:11,  1.26it/s]The inputs have prediction window `144` which is not used completely by the algorithm with prediction window `0`. Consider using a different algorithm.\n",
      " 38%|███▊      | 55/144 [00:55<01:18,  1.13it/s]The inputs have prediction window `144` which is not used completely by the algorithm with prediction window `0`. Consider using a different algorithm.\n",
      " 39%|███▉      | 56/144 [00:55<00:58,  1.50it/s]The inputs have prediction window `144` which is not used completely by the algorithm with prediction window `0`. Consider using a different algorithm.\n",
      " 40%|███▉      | 57/144 [00:55<00:45,  1.90it/s]The inputs have prediction window `144` which is not used completely by the algorithm with prediction window `0`. Consider using a different algorithm.\n",
      " 40%|████      | 58/144 [00:55<00:38,  2.23it/s]The inputs have prediction window `144` which is not used completely by the algorithm with prediction window `0`. Consider using a different algorithm.\n",
      " 41%|████      | 59/144 [00:56<00:46,  1.85it/s]The inputs have prediction window `144` which is not used completely by the algorithm with prediction window `0`. Consider using a different algorithm.\n",
      " 42%|████▏     | 60/144 [00:57<01:07,  1.24it/s]The inputs have prediction window `144` which is not used completely by the algorithm with prediction window `0`. Consider using a different algorithm.\n",
      " 42%|████▏     | 61/144 [00:57<00:49,  1.66it/s]The inputs have prediction window `144` which is not used completely by the algorithm with prediction window `0`. Consider using a different algorithm.\n",
      " 43%|████▎     | 62/144 [00:58<00:44,  1.83it/s]The inputs have prediction window `144` which is not used completely by the algorithm with prediction window `0`. Consider using a different algorithm.\n",
      " 44%|████▍     | 63/144 [00:59<00:56,  1.44it/s]The inputs have prediction window `144` which is not used completely by the algorithm with prediction window `0`. Consider using a different algorithm.\n",
      " 44%|████▍     | 64/144 [00:59<00:41,  1.92it/s]The inputs have prediction window `144` which is not used completely by the algorithm with prediction window `0`. Consider using a different algorithm.\n",
      " 45%|████▌     | 65/144 [00:59<00:38,  2.08it/s]The inputs have prediction window `144` which is not used completely by the algorithm with prediction window `0`. Consider using a different algorithm.\n",
      " 46%|████▌     | 66/144 [01:01<00:52,  1.48it/s]The inputs have prediction window `144` which is not used completely by the algorithm with prediction window `0`. Consider using a different algorithm.\n",
      " 47%|████▋     | 67/144 [01:01<00:39,  1.96it/s]The inputs have prediction window `144` which is not used completely by the algorithm with prediction window `0`. Consider using a different algorithm.\n",
      " 47%|████▋     | 68/144 [01:01<00:36,  2.06it/s]The inputs have prediction window `144` which is not used completely by the algorithm with prediction window `0`. Consider using a different algorithm.\n",
      " 48%|████▊     | 69/144 [01:02<00:49,  1.51it/s]The inputs have prediction window `144` which is not used completely by the algorithm with prediction window `0`. Consider using a different algorithm.\n",
      " 49%|████▊     | 70/144 [01:02<00:37,  1.98it/s]The inputs have prediction window `144` which is not used completely by the algorithm with prediction window `0`. Consider using a different algorithm.\n",
      " 49%|████▉     | 71/144 [01:03<00:36,  1.98it/s]The inputs have prediction window `144` which is not used completely by the algorithm with prediction window `0`. Consider using a different algorithm.\n",
      " 50%|█████     | 72/144 [01:04<00:50,  1.43it/s]The inputs have prediction window `144` which is not used completely by the algorithm with prediction window `0`. Consider using a different algorithm.\n",
      " 51%|█████     | 73/144 [01:04<00:37,  1.89it/s]The inputs have prediction window `144` which is not used completely by the algorithm with prediction window `0`. Consider using a different algorithm.\n",
      " 51%|█████▏    | 74/144 [01:05<00:35,  2.00it/s]The inputs have prediction window `144` which is not used completely by the algorithm with prediction window `0`. Consider using a different algorithm.\n",
      " 52%|█████▏    | 75/144 [01:06<00:47,  1.45it/s]The inputs have prediction window `144` which is not used completely by the algorithm with prediction window `0`. Consider using a different algorithm.\n",
      " 53%|█████▎    | 76/144 [01:06<00:36,  1.87it/s]The inputs have prediction window `144` which is not used completely by the algorithm with prediction window `0`. Consider using a different algorithm.\n",
      " 53%|█████▎    | 77/144 [01:06<00:34,  1.93it/s]The inputs have prediction window `144` which is not used completely by the algorithm with prediction window `0`. Consider using a different algorithm.\n",
      " 54%|█████▍    | 78/144 [01:08<00:48,  1.36it/s]The inputs have prediction window `144` which is not used completely by the algorithm with prediction window `0`. Consider using a different algorithm.\n",
      " 55%|█████▍    | 79/144 [01:08<00:36,  1.79it/s]The inputs have prediction window `144` which is not used completely by the algorithm with prediction window `0`. Consider using a different algorithm.\n",
      " 56%|█████▌    | 80/144 [01:08<00:33,  1.89it/s]The inputs have prediction window `144` which is not used completely by the algorithm with prediction window `0`. Consider using a different algorithm.\n",
      " 56%|█████▋    | 81/144 [01:09<00:43,  1.43it/s]The inputs have prediction window `144` which is not used completely by the algorithm with prediction window `0`. Consider using a different algorithm.\n",
      " 57%|█████▋    | 82/144 [01:09<00:32,  1.88it/s]The inputs have prediction window `144` which is not used completely by the algorithm with prediction window `0`. Consider using a different algorithm.\n",
      " 58%|█████▊    | 83/144 [01:10<00:30,  2.02it/s]The inputs have prediction window `144` which is not used completely by the algorithm with prediction window `0`. Consider using a different algorithm.\n",
      " 58%|█████▊    | 84/144 [01:11<00:38,  1.56it/s]The inputs have prediction window `144` which is not used completely by the algorithm with prediction window `0`. Consider using a different algorithm.\n",
      " 59%|█████▉    | 85/144 [01:11<00:28,  2.04it/s]The inputs have prediction window `144` which is not used completely by the algorithm with prediction window `0`. Consider using a different algorithm.\n",
      " 60%|█████▉    | 86/144 [01:11<00:27,  2.13it/s]The inputs have prediction window `144` which is not used completely by the algorithm with prediction window `0`. Consider using a different algorithm.\n",
      " 60%|██████    | 87/144 [01:12<00:35,  1.62it/s]The inputs have prediction window `144` which is not used completely by the algorithm with prediction window `0`. Consider using a different algorithm.\n",
      " 61%|██████    | 88/144 [01:12<00:26,  2.11it/s]The inputs have prediction window `144` which is not used completely by the algorithm with prediction window `0`. Consider using a different algorithm.\n",
      " 62%|██████▏   | 89/144 [01:13<00:24,  2.22it/s]The inputs have prediction window `144` which is not used completely by the algorithm with prediction window `0`. Consider using a different algorithm.\n",
      " 62%|██████▎   | 90/144 [01:14<00:33,  1.61it/s]The inputs have prediction window `144` which is not used completely by the algorithm with prediction window `0`. Consider using a different algorithm.\n",
      " 63%|██████▎   | 91/144 [01:14<00:25,  2.09it/s]The inputs have prediction window `144` which is not used completely by the algorithm with prediction window `0`. Consider using a different algorithm.\n",
      " 64%|██████▍   | 92/144 [01:14<00:23,  2.23it/s]The inputs have prediction window `144` which is not used completely by the algorithm with prediction window `0`. Consider using a different algorithm.\n",
      " 65%|██████▍   | 93/144 [01:15<00:30,  1.65it/s]The inputs have prediction window `144` which is not used completely by the algorithm with prediction window `0`. Consider using a different algorithm.\n",
      " 65%|██████▌   | 94/144 [01:16<00:23,  2.14it/s]The inputs have prediction window `144` which is not used completely by the algorithm with prediction window `0`. Consider using a different algorithm.\n",
      " 66%|██████▌   | 95/144 [01:16<00:21,  2.25it/s]The inputs have prediction window `144` which is not used completely by the algorithm with prediction window `0`. Consider using a different algorithm.\n",
      " 67%|██████▋   | 96/144 [01:17<00:29,  1.60it/s]The inputs have prediction window `144` which is not used completely by the algorithm with prediction window `0`. Consider using a different algorithm.\n",
      " 67%|██████▋   | 97/144 [01:17<00:22,  2.07it/s]The inputs have prediction window `144` which is not used completely by the algorithm with prediction window `0`. Consider using a different algorithm.\n",
      " 68%|██████▊   | 98/144 [01:17<00:20,  2.19it/s]The inputs have prediction window `144` which is not used completely by the algorithm with prediction window `0`. Consider using a different algorithm.\n",
      " 69%|██████▉   | 99/144 [01:18<00:27,  1.64it/s]The inputs have prediction window `144` which is not used completely by the algorithm with prediction window `0`. Consider using a different algorithm.\n",
      " 69%|██████▉   | 100/144 [01:19<00:20,  2.13it/s]The inputs have prediction window `144` which is not used completely by the algorithm with prediction window `0`. Consider using a different algorithm.\n",
      " 70%|███████   | 101/144 [01:19<00:18,  2.28it/s]The inputs have prediction window `144` which is not used completely by the algorithm with prediction window `0`. Consider using a different algorithm.\n",
      " 71%|███████   | 102/144 [01:20<00:25,  1.67it/s]The inputs have prediction window `144` which is not used completely by the algorithm with prediction window `0`. Consider using a different algorithm.\n",
      " 72%|███████▏  | 103/144 [01:20<00:18,  2.17it/s]The inputs have prediction window `144` which is not used completely by the algorithm with prediction window `0`. Consider using a different algorithm.\n",
      " 72%|███████▏  | 104/144 [01:20<00:17,  2.30it/s]The inputs have prediction window `144` which is not used completely by the algorithm with prediction window `0`. Consider using a different algorithm.\n",
      " 73%|███████▎  | 105/144 [01:21<00:22,  1.74it/s]The inputs have prediction window `144` which is not used completely by the algorithm with prediction window `0`. Consider using a different algorithm.\n",
      " 74%|███████▎  | 106/144 [01:22<00:17,  2.23it/s]The inputs have prediction window `144` which is not used completely by the algorithm with prediction window `0`. Consider using a different algorithm.\n",
      " 74%|███████▍  | 107/144 [01:22<00:15,  2.34it/s]The inputs have prediction window `144` which is not used completely by the algorithm with prediction window `0`. Consider using a different algorithm.\n",
      " 75%|███████▌  | 108/144 [01:23<00:20,  1.76it/s]The inputs have prediction window `144` which is not used completely by the algorithm with prediction window `0`. Consider using a different algorithm.\n",
      " 76%|███████▌  | 109/144 [01:23<00:15,  2.27it/s]The inputs have prediction window `144` which is not used completely by the algorithm with prediction window `0`. Consider using a different algorithm.\n",
      " 76%|███████▋  | 110/144 [01:23<00:14,  2.34it/s]The inputs have prediction window `144` which is not used completely by the algorithm with prediction window `0`. Consider using a different algorithm.\n",
      " 77%|███████▋  | 111/144 [01:24<00:19,  1.67it/s]The inputs have prediction window `144` which is not used completely by the algorithm with prediction window `0`. Consider using a different algorithm.\n",
      " 78%|███████▊  | 112/144 [01:24<00:14,  2.14it/s]The inputs have prediction window `144` which is not used completely by the algorithm with prediction window `0`. Consider using a different algorithm.\n",
      " 78%|███████▊  | 113/144 [01:25<00:13,  2.27it/s]The inputs have prediction window `144` which is not used completely by the algorithm with prediction window `0`. Consider using a different algorithm.\n",
      " 79%|███████▉  | 114/144 [01:26<00:17,  1.74it/s]The inputs have prediction window `144` which is not used completely by the algorithm with prediction window `0`. Consider using a different algorithm.\n",
      " 80%|███████▉  | 115/144 [01:26<00:13,  2.23it/s]The inputs have prediction window `144` which is not used completely by the algorithm with prediction window `0`. Consider using a different algorithm.\n",
      " 81%|████████  | 116/144 [01:26<00:11,  2.35it/s]The inputs have prediction window `144` which is not used completely by the algorithm with prediction window `0`. Consider using a different algorithm.\n",
      " 81%|████████▏ | 117/144 [01:27<00:15,  1.77it/s]The inputs have prediction window `144` which is not used completely by the algorithm with prediction window `0`. Consider using a different algorithm.\n",
      " 82%|████████▏ | 118/144 [01:27<00:11,  2.27it/s]The inputs have prediction window `144` which is not used completely by the algorithm with prediction window `0`. Consider using a different algorithm.\n",
      " 83%|████████▎ | 119/144 [01:28<00:10,  2.28it/s]The inputs have prediction window `144` which is not used completely by the algorithm with prediction window `0`. Consider using a different algorithm.\n",
      " 83%|████████▎ | 120/144 [01:29<00:14,  1.70it/s]The inputs have prediction window `144` which is not used completely by the algorithm with prediction window `0`. Consider using a different algorithm.\n",
      " 84%|████████▍ | 121/144 [01:29<00:10,  2.17it/s]The inputs have prediction window `144` which is not used completely by the algorithm with prediction window `0`. Consider using a different algorithm.\n",
      " 85%|████████▍ | 122/144 [01:29<00:10,  2.18it/s]The inputs have prediction window `144` which is not used completely by the algorithm with prediction window `0`. Consider using a different algorithm.\n",
      " 85%|████████▌ | 123/144 [01:30<00:12,  1.69it/s]The inputs have prediction window `144` which is not used completely by the algorithm with prediction window `0`. Consider using a different algorithm.\n",
      " 86%|████████▌ | 124/144 [01:30<00:09,  2.13it/s]The inputs have prediction window `144` which is not used completely by the algorithm with prediction window `0`. Consider using a different algorithm.\n",
      " 87%|████████▋ | 125/144 [01:31<00:08,  2.24it/s]The inputs have prediction window `144` which is not used completely by the algorithm with prediction window `0`. Consider using a different algorithm.\n",
      " 88%|████████▊ | 126/144 [01:32<00:10,  1.64it/s]The inputs have prediction window `144` which is not used completely by the algorithm with prediction window `0`. Consider using a different algorithm.\n",
      " 88%|████████▊ | 127/144 [01:32<00:08,  2.09it/s]The inputs have prediction window `144` which is not used completely by the algorithm with prediction window `0`. Consider using a different algorithm.\n",
      " 89%|████████▉ | 128/144 [01:32<00:07,  2.20it/s]The inputs have prediction window `144` which is not used completely by the algorithm with prediction window `0`. Consider using a different algorithm.\n",
      " 90%|████████▉ | 129/144 [01:33<00:08,  1.68it/s]The inputs have prediction window `144` which is not used completely by the algorithm with prediction window `0`. Consider using a different algorithm.\n",
      " 90%|█████████ | 130/144 [01:33<00:06,  2.15it/s]The inputs have prediction window `144` which is not used completely by the algorithm with prediction window `0`. Consider using a different algorithm.\n",
      " 91%|█████████ | 131/144 [01:34<00:05,  2.25it/s]The inputs have prediction window `144` which is not used completely by the algorithm with prediction window `0`. Consider using a different algorithm.\n",
      " 92%|█████████▏| 132/144 [01:35<00:07,  1.64it/s]The inputs have prediction window `144` which is not used completely by the algorithm with prediction window `0`. Consider using a different algorithm.\n",
      " 92%|█████████▏| 133/144 [01:35<00:05,  2.07it/s]The inputs have prediction window `144` which is not used completely by the algorithm with prediction window `0`. Consider using a different algorithm.\n",
      " 93%|█████████▎| 134/144 [01:35<00:04,  2.17it/s]The inputs have prediction window `144` which is not used completely by the algorithm with prediction window `0`. Consider using a different algorithm.\n",
      " 94%|█████████▍| 135/144 [01:36<00:05,  1.66it/s]The inputs have prediction window `144` which is not used completely by the algorithm with prediction window `0`. Consider using a different algorithm.\n",
      " 94%|█████████▍| 136/144 [01:37<00:03,  2.10it/s]The inputs have prediction window `144` which is not used completely by the algorithm with prediction window `0`. Consider using a different algorithm.\n",
      " 95%|█████████▌| 137/144 [01:37<00:03,  2.19it/s]The inputs have prediction window `144` which is not used completely by the algorithm with prediction window `0`. Consider using a different algorithm.\n",
      " 96%|█████████▌| 138/144 [01:38<00:03,  1.67it/s]The inputs have prediction window `144` which is not used completely by the algorithm with prediction window `0`. Consider using a different algorithm.\n",
      " 97%|█████████▋| 139/144 [01:38<00:02,  2.12it/s]The inputs have prediction window `144` which is not used completely by the algorithm with prediction window `0`. Consider using a different algorithm.\n",
      " 97%|█████████▋| 140/144 [01:38<00:01,  2.22it/s]The inputs have prediction window `144` which is not used completely by the algorithm with prediction window `0`. Consider using a different algorithm.\n",
      " 98%|█████████▊| 141/144 [01:39<00:01,  1.64it/s]The inputs have prediction window `144` which is not used completely by the algorithm with prediction window `0`. Consider using a different algorithm.\n",
      " 99%|█████████▊| 142/144 [01:40<00:00,  2.06it/s]The inputs have prediction window `144` which is not used completely by the algorithm with prediction window `0`. Consider using a different algorithm.\n",
      " 99%|█████████▉| 143/144 [01:40<00:00,  2.15it/s]The inputs have prediction window `144` which is not used completely by the algorithm with prediction window `0`. Consider using a different algorithm.\n",
      "100%|██████████| 144/144 [01:41<00:00,  1.42it/s]\n"
     ]
    }
   ],
   "metadata": {}
  },
  {
   "cell_type": "code",
   "execution_count": null,
   "source": [
    "alg, ialg, energy_cost, revenue_loss, switching_cost"
   ],
   "outputs": [
    {
     "output_type": "execute_result",
     "data": {
      "text/plain": [
       "(2329341.0483287754,\n",
       " 2334953.9999999995,\n",
       " 1987200.0,\n",
       " 347615.99999999977,\n",
       " 137.99999999976717)"
      ]
     },
     "metadata": {},
     "execution_count": 10
    }
   ],
   "metadata": {}
  },
  {
   "cell_type": "markdown",
   "source": [
    "## Evaluation"
   ],
   "metadata": {}
  },
  {
   "cell_type": "markdown",
   "source": [
    "### Competitive Ratio"
   ],
   "metadata": {}
  },
  {
   "cell_type": "code",
   "execution_count": null,
   "source": [
    "cr = alg / opt\n",
    "icr = ialg / iopt\n",
    "cr, icr"
   ],
   "outputs": [
    {
     "output_type": "execute_result",
     "data": {
      "text/plain": [
       "(77.07722248206338, 77.13925740921768)"
      ]
     },
     "metadata": {},
     "execution_count": 21
    }
   ],
   "metadata": {}
  },
  {
   "cell_type": "markdown",
   "source": [
    "### Competitive Difference"
   ],
   "metadata": {}
  },
  {
   "cell_type": "code",
   "execution_count": null,
   "source": [
    "cd = alg - opt\n",
    "icd = ialg - iopt\n",
    "cd, icd"
   ],
   "outputs": [
    {
     "output_type": "execute_result",
     "data": {
      "text/plain": [
       "(240631238.60905376, 240941626.89616418)"
      ]
     },
     "metadata": {},
     "execution_count": 22
    }
   ],
   "metadata": {}
  },
  {
   "cell_type": "markdown",
   "source": [
    "### Regret"
   ],
   "metadata": {}
  },
  {
   "cell_type": "code",
   "execution_count": null,
   "source": [
    "regret = alg - opts\n",
    "iregret = ialg - iopts\n",
    "regret, iregret"
   ],
   "outputs": [
    {
     "output_type": "execute_result",
     "data": {
      "text/plain": [
       "(240348033.31218106, 237686938.02451518)"
      ]
     },
     "metadata": {},
     "execution_count": 23
    }
   ],
   "metadata": {}
  },
  {
   "cell_type": "markdown",
   "source": [
    "### Cost Change"
   ],
   "metadata": {}
  },
  {
   "cell_type": "markdown",
   "source": [
    "Regret relative to overall cost."
   ],
   "metadata": {}
  },
  {
   "cell_type": "code",
   "execution_count": null,
   "source": [
    "rel_regret = regret / opts\n",
    "rel_iregret = iregret / iopts\n",
    "rel_regret, rel_iregret"
   ],
   "outputs": [
    {
     "output_type": "execute_result",
     "data": {
      "text/plain": [
       "(69.74307799711626, 37.027645540855396)"
      ]
     },
     "metadata": {},
     "execution_count": 24
    }
   ],
   "metadata": {}
  },
  {
   "cell_type": "markdown",
   "source": [
    "Competitive difference relative to overall cost."
   ],
   "metadata": {}
  },
  {
   "cell_type": "code",
   "execution_count": null,
   "source": [
    "rel_cd = cd / opt\n",
    "rel_icd = icd / iopt\n",
    "rel_cd, rel_icd"
   ],
   "outputs": [
    {
     "output_type": "execute_result",
     "data": {
      "text/plain": [
       "(76.07722248206338, 76.13925740921768)"
      ]
     },
     "metadata": {},
     "execution_count": 25
    }
   ],
   "metadata": {}
  },
  {
   "cell_type": "markdown",
   "source": [
    "### Fractional vs Integral"
   ],
   "metadata": {}
  },
  {
   "cell_type": "code",
   "execution_count": null,
   "source": [
    "alg_vs_ialg = ialg / alg\n",
    "alg_vs_ialg"
   ],
   "outputs": [
    {
     "output_type": "execute_result",
     "data": {
      "text/plain": [
       "1.0012793076240865"
      ]
     },
     "metadata": {},
     "execution_count": 26
    }
   ],
   "metadata": {}
  },
  {
   "cell_type": "markdown",
   "source": [
    "### Runtime"
   ],
   "metadata": {}
  },
  {
   "cell_type": "code",
   "execution_count": null,
   "source": [
    "runtimes_np = np.array(runtimes)\n",
    "plot_cdf(runtimes_np, 'runtime (milliseconds)', 'online_runtime')\n",
    "plt.show()\n",
    "summarize_distribution(runtimes_np)"
   ],
   "outputs": [
    {
     "output_type": "display_data",
     "data": {
      "text/plain": [
       "<Figure size 640x480 with 1 Axes>"
      ],
      "image/png": "[encoded data removed]"
     },
     "metadata": {}
    },
    {
     "output_type": "execute_result",
     "data": {
      "text/plain": [
       "DistributionSummary(mean=1527.861111111111, median=411.5, modes=array([104]), std=2817.0858923991514, mad=320.0, min_=51, p25=107.75, p75=1197.5, max_=17808)"
      ]
     },
     "metadata": {},
     "execution_count": 11
    }
   ],
   "metadata": {}
  },
  {
   "cell_type": "markdown",
   "source": [
    "### Model"
   ],
   "metadata": {}
  },
  {
   "cell_type": "markdown",
   "source": [
    "Proportion of energy cost to delay cost"
   ],
   "metadata": {}
  },
  {
   "cell_type": "code",
   "execution_count": null,
   "source": [
    "ec_vs_rl = energy_cost / revenue_loss if revenue_loss > 0 else np.Inf\n",
    "hc_vs_sc = (energy_cost + revenue_loss) / switching_cost\n",
    "ec_vs_rl, hc_vs_sc"
   ],
   "outputs": [
    {
     "output_type": "execute_result",
     "data": {
      "text/plain": [
       "(5.338836412572872, 631.4025333393946)"
      ]
     },
     "metadata": {},
     "execution_count": 28
    }
   ],
   "metadata": {}
  }
 ],
 "metadata": {
  "orig_nbformat": 4,
  "language_info": {
   "name": "python",
   "version": "3.8.10",
   "mimetype": "text/x-python",
   "codemirror_mode": {
    "name": "ipython",
    "version": 3
   },
   "pygments_lexer": "ipython3",
   "nbconvert_exporter": "python",
   "file_extension": ".py"
  },
  "kernelspec": {
   "name": "python3",
   "display_name": "Python 3.8.10 64-bit ('venv': venv)"
  },
  "interpreter": {
   "hash": "bfb6e60757c36aad7e076b66c35f1b7ceb420a8f6d971dc47958a23072a9b46f"
  }
 },
 "nbformat": 4,
 "nbformat_minor": 2
}