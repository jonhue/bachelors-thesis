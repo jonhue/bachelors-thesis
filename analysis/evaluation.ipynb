{
 "cells": [
  {
   "cell_type": "code",
   "execution_count": 1,
   "source": [
    "import numpy as np\n",
    "import matplotlib.pyplot as plt"
   ],
   "outputs": [],
   "metadata": {}
  },
  {
   "cell_type": "code",
   "execution_count": 2,
   "source": [
    "from lib.model import build_model, FACEBOOK_2009_0, ENERGY_MODEL_WIERMAN\n",
    "from lib.utils import summarize_distribution, plot_cdf"
   ],
   "outputs": [],
   "metadata": {}
  },
  {
   "cell_type": "code",
   "execution_count": 3,
   "source": [
    "import logging\n",
    "\n",
    "FORMAT = '%(levelname)s %(name)s %(asctime)-15s %(filename)s:%(lineno)d %(message)s'\n",
    "logging.basicConfig(format=FORMAT)\n",
    "logging.getLogger().setLevel(logging.INFO)"
   ],
   "outputs": [],
   "metadata": {}
  },
  {
   "cell_type": "code",
   "execution_count": 4,
   "source": [
    "TIME_SLOT_LENGTH = 10 * 60\n",
    "NORMALIZED_SWITCHING_COST = 1\n",
    "REVENUE_LOSS = 0.1"
   ],
   "outputs": [],
   "metadata": {}
  },
  {
   "cell_type": "markdown",
   "source": [
    "# Model"
   ],
   "metadata": {}
  },
  {
   "cell_type": "code",
   "execution_count": 5,
   "source": [
    "model = build_model(\n",
    "  FACEBOOK_2009_0,\n",
    "  ENERGY_MODEL_WIERMAN,\n",
    "  TIME_SLOT_LENGTH,\n",
    "  NORMALIZED_SWITCHING_COST,\n",
    "  REVENUE_LOSS,\n",
    ")"
   ],
   "outputs": [],
   "metadata": {}
  },
  {
   "cell_type": "markdown",
   "source": [
    "# Inputs"
   ],
   "metadata": {}
  },
  {
   "cell_type": "code",
   "execution_count": 6,
   "source": [
    "inp = [[1], [5], [10], [3], [1], [10], [10], [3]]\n",
    "online_inp = [[[[1]]], [[[5]]], [[[10]]], [[[3]]], [[[1]]], [[[10]]], [[[10]]], [[[3]]]]"
   ],
   "outputs": [],
   "metadata": {}
  },
  {
   "cell_type": "markdown",
   "source": [
    "# Execute"
   ],
   "metadata": {}
  },
  {
   "cell_type": "markdown",
   "source": [
    "## Offline"
   ],
   "metadata": {}
  },
  {
   "cell_type": "code",
   "execution_count": 7,
   "source": [
    "from lib.offline import evaluate_1d\n",
    "\n",
    "opt, iopt, _, _ = evaluate_1d(model, inp)"
   ],
   "outputs": [
    {
     "output_type": "stream",
     "name": "stderr",
     "text": [
      "INFO soco.bindings.data_center.offline 2021-07-29 09:25:01,700 offline.rs:83 Graph Search\n",
      "INFO soco.streaming.offline 2021-07-29 09:25:01,702 offline.rs:40 Generated a problem instance: SimplifiedSmoothedConvexOptimization { d: 1, t_end: 8, bounds: [600], switching_cost: [6.0] }\n",
      "INFO soco.streaming.offline 2021-07-29 09:25:01,707 offline.rs:42 Simulating until time slot 8.\n",
      "DEBUG soco.algorithms.offline.multi_dimensional.optimal_graph_search 2021-07-29 09:25:01,710 optimal_graph_search.rs:46 starting with `600` values\n",
      "DEBUG soco.algorithms.offline.multi_dimensional.graph_search 2021-07-29 09:25:01,712 graph_search.rs:58 from time slot `1` to time slot `8`\n",
      "INFO soco.streaming.offline 2021-07-29 09:25:05,803 offline.rs:49 Completed with Cost { cost: 21076.0, output: Success(DataCenterModelOutputSuccess { energy_cost: 18000.0, revenue_loss: 2998.0, assignments: [[[]], [[]], [[]], [[]], [[]], [[]], [[]], [[]]] }) } and Schedule([Config([1]), Config([3]), Config([7]), Config([2]), Config([1]), Config([7]), Config([7]), Config([2])])\n",
      "INFO soco.bindings.data_center.offline 2021-07-29 09:25:05,806 offline.rs:130 Convex Program\n",
      "INFO soco.streaming.offline 2021-07-29 09:25:05,807 offline.rs:40 Generated a problem instance: SmoothedConvexOptimization { d: 1, t_end: 8, bounds: [(0.0, 600.0)] }\n",
      "INFO soco.streaming.offline 2021-07-29 09:25:05,808 offline.rs:42 Simulating until time slot 8.\n",
      "WARNING soco.numerics.convex_optimization 2021-07-29 09:25:10,008 convex_optimization.rs:205 Convex optimization timed out. Assuming solution to be infinity.\n",
      "INFO soco.streaming.offline 2021-07-29 09:25:10,014 offline.rs:49 Completed with Cost { cost: 20531.663534122985, output: Success(DataCenterModelOutputSuccess { energy_cost: 16970.3688, revenue_loss: 3486.3453021229816, assignments: [[[]], [[]], [[]], [[]], [[]], [[]], [[]], [[]]] }) } and Schedule([Config([0.658114]), Config([3.290571]), Config([6.57329]), Config([1.9743419999999998]), Config([0.658909]), Config([6.577191]), Config([6.577191]), Config([1.97434])])\n"
     ]
    }
   ],
   "metadata": {}
  },
  {
   "cell_type": "code",
   "execution_count": 8,
   "source": [
    "from lib.offline import evaluate_static\n",
    "\n",
    "opts, iopts, _, _ = evaluate_static(model, inp)"
   ],
   "outputs": [
    {
     "output_type": "stream",
     "name": "stderr",
     "text": [
      "INFO soco.bindings.data_center.offline 2021-07-29 09:25:10,148 offline.rs:130 Convex Program\n",
      "INFO soco.streaming.offline 2021-07-29 09:25:10,151 offline.rs:40 Generated a problem instance: SmoothedConvexOptimization { d: 1, t_end: 8, bounds: [(0.0, 600.0)] }\n",
      "INFO soco.streaming.offline 2021-07-29 09:25:10,155 offline.rs:42 Simulating until time slot 8.\n",
      "INFO soco.streaming.offline 2021-07-29 09:25:13,001 offline.rs:49 Completed with Cost { cost: 29552.038022393408, output: Success(DataCenterModelOutputSuccess { energy_cost: 26751.3228, revenue_loss: 2755.443026393409, assignments: [[[]], [[]], [[]], [[]], [[]], [[]], [[]], [[]]] }) } and Schedule([Config([0.7427349999999999]), Config([3.392366]), Config([5.938256]), Config([5.938243]), Config([5.938254]), Config([7.544988]), Config([7.545343]), Config([7.5453529999999995])])\n",
      "INFO soco.bindings.data_center.offline 2021-07-29 09:25:13,002 offline.rs:147 Static Integral\n",
      "INFO soco.streaming.offline 2021-07-29 09:25:13,003 offline.rs:40 Generated a problem instance: SimplifiedSmoothedConvexOptimization { d: 1, t_end: 8, bounds: [600], switching_cost: [6.0] }\n",
      "INFO soco.streaming.offline 2021-07-29 09:25:13,004 offline.rs:42 Simulating until time slot 8.\n",
      "INFO soco.streaming.offline 2021-07-29 09:25:15,829 offline.rs:49 Completed with Cost { cost: 32953.142857142855, output: Success(DataCenterModelOutputSuccess { energy_cost: 28800.0, revenue_loss: 4117.142857142857, assignments: [[[]], [[]], [[]], [[]], [[]], [[]], [[]], [[]]] }) } and Schedule([Config([6]), Config([6]), Config([6]), Config([6]), Config([6]), Config([6]), Config([6]), Config([6])])\n"
     ]
    }
   ],
   "metadata": {}
  },
  {
   "cell_type": "markdown",
   "source": [
    "### Approximation algorithm"
   ],
   "metadata": {}
  },
  {
   "cell_type": "code",
   "execution_count": 9,
   "source": [
    "# from lib.utils import plot\n",
    "# import numpy as np\n",
    "# import matplotlib.pyplot as plt\n",
    "# from lib.offline import evaluate_approx_graph_search\n",
    "\n",
    "# # plot(np.array([1,2,3,4,5]), np.array([1,2,3,4,5]), 'x axis', 'y axis', 'test')\n",
    "# # plt.show()\n",
    "\n",
    "# x, y, opt = evaluate_approx_graph_search(model, inp)\n",
    "# plt.axhline(y=opt, color='r', linestyle='-')\n",
    "# plot(x, y, 'gamma', 'cost', 'approx_graph_search')\n",
    "# plt.show()"
   ],
   "outputs": [],
   "metadata": {}
  },
  {
   "cell_type": "markdown",
   "source": [
    "## Online"
   ],
   "metadata": {}
  },
  {
   "cell_type": "code",
   "execution_count": 10,
   "source": [
    "from lib.online import evaluate_randomized_probabilistic\n",
    "\n",
    "initial_alg, alg, initial_ialg, ialg, energy_cost, revenue_loss, switching_cost, initial_runtime, runtimes = evaluate_randomized_probabilistic(model, [], online_inp)"
   ],
   "outputs": [
    {
     "output_type": "stream",
     "name": "stderr",
     "text": [
      "INFO soco.streaming.online 2021-07-29 09:25:16,019 online.rs:114 Generated a problem instance: Online { p: SimplifiedSmoothedConvexOptimization { d: 1, t_end: 0, bounds: [600], switching_cost: [6.0] }, w: 0 }\n",
      "INFO soco.streaming.online 2021-07-29 09:25:16,022 online.rs:116 Simulating until time slot 0.\n",
      "INFO soco.streaming.online 2021-07-29 09:25:16,025 online.rs:162 [server] Running on 127.0.0.1:3449.\n",
      "  0%|          | 0/8 [00:00<?, ?it/s]INFO soco.streaming.online 2021-07-29 09:25:16,039 online.rs:263 [client] Connected to 127.0.0.1:3449.\n",
      "INFO soco.streaming.online 2021-07-29 09:25:16,039 online.rs:169 [server] Connection established!\n",
      "INFO soco.streaming.online 2021-07-29 09:25:16,040 online.rs:268 [client] Sent: DataCenterOnlineInput { loads: [PredictedLoadProfile([[1.0]])] }\n",
      "INFO soco.streaming.online 2021-07-29 09:25:16,044 online.rs:194 [server] Received: DataCenterOnlineInput { loads: [PredictedLoadProfile([[1.0]])] }\n",
      "INFO soco.model.data_center.model 2021-07-29 09:25:16,046 model.rs:662 Updating online instance to time slot 1.\n",
      "INFO soco.streaming.online 2021-07-29 09:25:16,050 online.rs:196 [server] Updated problem instance.\n",
      "DEBUG soco.algorithms.online.uni_dimensional.probabilistic 2021-07-29 09:25:16,126 probabilistic.rs:109 0;1;600\n",
      "DEBUG soco.algorithms.online.uni_dimensional.probabilistic 2021-07-29 09:25:16,129 probabilistic.rs:110 616.0;inf;inf\n",
      "DEBUG soco.numerics.finite_differences 2021-07-29 09:25:16,134 finite_differences.rs:17 x=1;f(x)=616\n",
      "DEBUG soco.numerics.finite_differences 2021-07-29 09:25:16,149 finite_differences.rs:17 x=1;f(x)=616\n",
      "DEBUG soco.numerics.finite_differences 2021-07-29 09:25:16,153 finite_differences.rs:17 x=1;f(x)=616\n",
      "DEBUG soco.numerics.finite_differences 2021-07-29 09:25:16,158 finite_differences.rs:17 x=1;f(x)=616\n",
      "DEBUG soco.numerics.finite_differences 2021-07-29 09:25:16,164 finite_differences.rs:17 x=1;f(x)=616\n",
      "DEBUG soco.numerics.finite_differences 2021-07-29 09:25:16,170 finite_differences.rs:17 x=1;f(x)=616\n",
      "DEBUG soco.algorithms.online.uni_dimensional.probabilistic 2021-07-29 09:25:16,198 probabilistic.rs:113 1;1;1\n",
      "DEBUG soco.algorithms.online.uni_dimensional.probabilistic 2021-07-29 09:25:16,200 probabilistic.rs:151 x=1\n",
      "INFO soco.streaming.online 2021-07-29 09:25:16,204 online.rs:218 [server] Sent: Ok(((Config([1]), Cost { cost: 622.0, output: Success(DataCenterModelOutputSuccess { energy_cost: 600.0, revenue_loss: 16.0, assignments: [[[]]] }) }), (Config([1]), Cost { cost: 622.0, output: Success(DataCenterModelOutputSuccess { energy_cost: 600.0, revenue_loss: 16.0, assignments: [[[]]] }) }), Some(Memory { y: Config([1.0]), relaxation_m: Some(Memory { breakpoints: [0.0, 0.00001, 1.0] }) }), 151))\n",
      "INFO soco.streaming.online 2021-07-29 09:25:16,205 online.rs:270 [client] Received: Ok(((Config([1]), Cost { cost: 622.0, output: Success(DataCenterModelOutputSuccess { energy_cost: 600.0, revenue_loss: 16.0, assignments: [[[]]] }) }), (Config([1]), Cost { cost: 622.0, output: Success(DataCenterModelOutputSuccess { energy_cost: 600.0, revenue_loss: 16.0, assignments: [[[]]] }) }), Some(Memory { y: Config([1.0]), relaxation_m: Some(Memory { breakpoints: [0.0, 0.00001, 1.0] }) }), 151))\n",
      " 12%|█▎        | 1/8 [00:00<00:01,  5.72it/s]INFO soco.streaming.online 2021-07-29 09:25:16,215 online.rs:263 [client] Connected to 127.0.0.1:3449.\n",
      "INFO soco.streaming.online 2021-07-29 09:25:16,215 online.rs:169 [server] Connection established!\n",
      "INFO soco.streaming.online 2021-07-29 09:25:16,217 online.rs:268 [client] Sent: DataCenterOnlineInput { loads: [PredictedLoadProfile([[5.0]])] }\n",
      "INFO soco.streaming.online 2021-07-29 09:25:16,222 online.rs:194 [server] Received: DataCenterOnlineInput { loads: [PredictedLoadProfile([[5.0]])] }\n",
      "INFO soco.model.data_center.model 2021-07-29 09:25:16,225 model.rs:662 Updating online instance to time slot 2.\n",
      "INFO soco.streaming.online 2021-07-29 09:25:16,229 online.rs:196 [server] Updated problem instance.\n",
      "DEBUG soco.algorithms.online.uni_dimensional.probabilistic 2021-07-29 09:25:16,360 probabilistic.rs:109 0;3;600\n",
      "DEBUG soco.algorithms.online.uni_dimensional.probabilistic 2021-07-29 09:25:16,363 probabilistic.rs:110 2480.0;inf;inf\n",
      "DEBUG soco.numerics.finite_differences 2021-07-29 09:25:16,368 finite_differences.rs:17 x=3;f(x)=2480\n",
      "DEBUG soco.numerics.finite_differences 2021-07-29 09:25:16,378 finite_differences.rs:17 x=3;f(x)=2480\n",
      "DEBUG soco.algorithms.online.uni_dimensional.probabilistic 2021-07-29 09:25:16,379 probabilistic.rs:113 3;3;3\n",
      "DEBUG soco.algorithms.online.uni_dimensional.probabilistic 2021-07-29 09:25:16,382 probabilistic.rs:151 x=3\n",
      "INFO soco.streaming.online 2021-07-29 09:25:16,386 online.rs:218 [server] Sent: Ok(((Config([3]), Cost { cost: 3114.0, output: Success(DataCenterModelOutputSuccess { energy_cost: 2400.0, revenue_loss: 695.9999999999999, assignments: [[[]], [[]]] }) }), (Config([3]), Cost { cost: 3114.0, output: Success(DataCenterModelOutputSuccess { energy_cost: 2400.0, revenue_loss: 695.9999999999999, assignments: [[[]], [[]]] }) }), Some(Memory { y: Config([3.0]), relaxation_m: Some(Memory { breakpoints: [0.0, 0.00001, 1.0, 3.0] }) }), 152))\n",
      "INFO soco.streaming.online 2021-07-29 09:25:16,388 online.rs:270 [client] Received: Ok(((Config([3]), Cost { cost: 3114.0, output: Success(DataCenterModelOutputSuccess { energy_cost: 2400.0, revenue_loss: 695.9999999999999, assignments: [[[]], [[]]] }) }), (Config([3]), Cost { cost: 3114.0, output: Success(DataCenterModelOutputSuccess { energy_cost: 2400.0, revenue_loss: 695.9999999999999, assignments: [[[]], [[]]] }) }), Some(Memory { y: Config([3.0]), relaxation_m: Some(Memory { breakpoints: [0.0, 0.00001, 1.0, 3.0] }) }), 152))\n",
      " 25%|██▌       | 2/8 [00:00<00:01,  5.65it/s]INFO soco.streaming.online 2021-07-29 09:25:16,393 online.rs:169 [server] Connection established!\n",
      "INFO soco.streaming.online 2021-07-29 09:25:16,394 online.rs:263 [client] Connected to 127.0.0.1:3449.\n",
      "INFO soco.streaming.online 2021-07-29 09:25:16,397 online.rs:268 [client] Sent: DataCenterOnlineInput { loads: [PredictedLoadProfile([[10.0]])] }\n",
      "INFO soco.streaming.online 2021-07-29 09:25:16,398 online.rs:194 [server] Received: DataCenterOnlineInput { loads: [PredictedLoadProfile([[10.0]])] }\n",
      "INFO soco.model.data_center.model 2021-07-29 09:25:16,402 model.rs:662 Updating online instance to time slot 3.\n",
      "INFO soco.streaming.online 2021-07-29 09:25:16,404 online.rs:196 [server] Updated problem instance.\n",
      "DEBUG soco.algorithms.online.uni_dimensional.probabilistic 2021-07-29 09:25:16,479 probabilistic.rs:109 0;7;600\n",
      "DEBUG soco.algorithms.online.uni_dimensional.probabilistic 2021-07-29 09:25:16,482 probabilistic.rs:110 4810.0;4960.0;inf\n",
      "DEBUG soco.numerics.finite_differences 2021-07-29 09:25:16,502 finite_differences.rs:17 x=6;f(x)=4960\n",
      "DEBUG soco.numerics.roots 2021-07-29 09:25:16,511 roots.rs:26 a=7,b=600,fa=100.00000299999999,fb=599.999961, fc=0\n",
      "DEBUG soco.numerics.roots 2021-07-29 09:25:16,518 roots.rs:26 a=0,b=7,fa=-inf,fb=-100.00000299999999, fc=-inf\n",
      "DEBUG soco.algorithms.online.uni_dimensional.probabilistic 2021-07-29 09:25:16,520 probabilistic.rs:113 7;7;7\n",
      "DEBUG soco.algorithms.online.uni_dimensional.probabilistic 2021-07-29 09:25:16,521 probabilistic.rs:151 x=7\n",
      "INFO soco.streaming.online 2021-07-29 09:25:16,531 online.rs:218 [server] Sent: Ok(((Config([7]), Cost { cost: 7948.0, output: Success(DataCenterModelOutputSuccess { energy_cost: 6600.0, revenue_loss: 1306.0, assignments: [[[]], [[]], [[]]] }) }), (Config([7]), Cost { cost: 7948.0, output: Success(DataCenterModelOutputSuccess { energy_cost: 6600.0, revenue_loss: 1306.0, assignments: [[[]], [[]], [[]]] }) }), Some(Memory { y: Config([7.0]), relaxation_m: Some(Memory { breakpoints: [0.0, 0.00001, 1.0, 3.0, 7.0] }) }), 117))\n",
      "INFO soco.streaming.online 2021-07-29 09:25:16,531 online.rs:270 [client] Received: Ok(((Config([7]), Cost { cost: 7948.0, output: Success(DataCenterModelOutputSuccess { energy_cost: 6600.0, revenue_loss: 1306.0, assignments: [[[]], [[]], [[]]] }) }), (Config([7]), Cost { cost: 7948.0, output: Success(DataCenterModelOutputSuccess { energy_cost: 6600.0, revenue_loss: 1306.0, assignments: [[[]], [[]], [[]]] }) }), Some(Memory { y: Config([7.0]), relaxation_m: Some(Memory { breakpoints: [0.0, 0.00001, 1.0, 3.0, 7.0] }) }), 117))\n",
      " 38%|███▊      | 3/8 [00:00<00:00,  6.19it/s]INFO soco.streaming.online 2021-07-29 09:25:16,537 online.rs:169 [server] Connection established!\n",
      "INFO soco.streaming.online 2021-07-29 09:25:16,540 online.rs:263 [client] Connected to 127.0.0.1:3449.\n",
      "INFO soco.streaming.online 2021-07-29 09:25:16,547 online.rs:268 [client] Sent: DataCenterOnlineInput { loads: [PredictedLoadProfile([[3.0]])] }\n",
      "INFO soco.streaming.online 2021-07-29 09:25:16,548 online.rs:194 [server] Received: DataCenterOnlineInput { loads: [PredictedLoadProfile([[3.0]])] }\n",
      "INFO soco.model.data_center.model 2021-07-29 09:25:16,551 model.rs:662 Updating online instance to time slot 4.\n",
      "INFO soco.streaming.online 2021-07-29 09:25:16,553 online.rs:196 [server] Updated problem instance.\n",
      "DEBUG soco.algorithms.online.uni_dimensional.probabilistic 2021-07-29 09:25:16,647 probabilistic.rs:109 0;2;600\n",
      "DEBUG soco.algorithms.online.uni_dimensional.probabilistic 2021-07-29 09:25:16,649 probabilistic.rs:110 1428.0;inf;inf\n",
      "DEBUG soco.numerics.finite_differences 2021-07-29 09:25:16,653 finite_differences.rs:17 x=2;f(x)=1428\n",
      "DEBUG soco.numerics.finite_differences 2021-07-29 09:25:16,664 finite_differences.rs:17 x=2;f(x)=1428\n",
      "DEBUG soco.algorithms.online.uni_dimensional.probabilistic 2021-07-29 09:25:16,666 probabilistic.rs:113 2;2;2\n",
      "DEBUG soco.algorithms.online.uni_dimensional.probabilistic 2021-07-29 09:25:16,667 probabilistic.rs:151 x=2\n",
      "INFO soco.streaming.online 2021-07-29 09:25:16,681 online.rs:218 [server] Sent: Ok(((Config([2]), Cost { cost: 9376.0, output: Success(DataCenterModelOutputSuccess { energy_cost: 7800.0, revenue_loss: 1534.0, assignments: [[[]], [[]], [[]], [[]]] }) }), (Config([2]), Cost { cost: 9376.0, output: Success(DataCenterModelOutputSuccess { energy_cost: 7800.0, revenue_loss: 1534.0, assignments: [[[]], [[]], [[]], [[]]] }) }), Some(Memory { y: Config([2.0]), relaxation_m: Some(Memory { breakpoints: [0.0, 0.00001, 1.0, 3.0, 7.0, 2.0] }) }), 119))\n",
      "INFO soco.streaming.online 2021-07-29 09:25:16,681 online.rs:270 [client] Received: Ok(((Config([2]), Cost { cost: 9376.0, output: Success(DataCenterModelOutputSuccess { energy_cost: 7800.0, revenue_loss: 1534.0, assignments: [[[]], [[]], [[]], [[]]] }) }), (Config([2]), Cost { cost: 9376.0, output: Success(DataCenterModelOutputSuccess { energy_cost: 7800.0, revenue_loss: 1534.0, assignments: [[[]], [[]], [[]], [[]]] }) }), Some(Memory { y: Config([2.0]), relaxation_m: Some(Memory { breakpoints: [0.0, 0.00001, 1.0, 3.0, 7.0, 2.0] }) }), 119))\n",
      " 50%|█████     | 4/8 [00:00<00:00,  6.38it/s]INFO soco.streaming.online 2021-07-29 09:25:16,686 online.rs:169 [server] Connection established!\n",
      "INFO soco.streaming.online 2021-07-29 09:25:16,687 online.rs:263 [client] Connected to 127.0.0.1:3449.\n",
      "INFO soco.streaming.online 2021-07-29 09:25:16,694 online.rs:194 [server] Received: DataCenterOnlineInput { loads: [PredictedLoadProfile([[1.0]])] }\n",
      "INFO soco.streaming.online 2021-07-29 09:25:16,694 online.rs:268 [client] Sent: DataCenterOnlineInput { loads: [PredictedLoadProfile([[1.0]])] }\n",
      "INFO soco.model.data_center.model 2021-07-29 09:25:16,696 model.rs:662 Updating online instance to time slot 5.\n",
      "INFO soco.streaming.online 2021-07-29 09:25:16,699 online.rs:196 [server] Updated problem instance.\n",
      "DEBUG soco.algorithms.online.uni_dimensional.probabilistic 2021-07-29 09:25:16,775 probabilistic.rs:109 0;1;600\n",
      "DEBUG soco.algorithms.online.uni_dimensional.probabilistic 2021-07-29 09:25:16,778 probabilistic.rs:110 616.0;inf;inf\n",
      "DEBUG soco.numerics.finite_differences 2021-07-29 09:25:16,783 finite_differences.rs:17 x=1;f(x)=616\n",
      "DEBUG soco.numerics.finite_differences 2021-07-29 09:25:16,789 finite_differences.rs:17 x=1;f(x)=616\n",
      "DEBUG soco.algorithms.online.uni_dimensional.probabilistic 2021-07-29 09:25:16,791 probabilistic.rs:113 1;1;1\n",
      "DEBUG soco.algorithms.online.uni_dimensional.probabilistic 2021-07-29 09:25:16,795 probabilistic.rs:151 x=1\n",
      "INFO soco.streaming.online 2021-07-29 09:25:16,811 online.rs:218 [server] Sent: Ok(((Config([1]), Cost { cost: 9992.0, output: Success(DataCenterModelOutputSuccess { energy_cost: 8400.0, revenue_loss: 1550.0, assignments: [[[]], [[]], [[]], [[]], [[]]] }) }), (Config([1]), Cost { cost: 9992.0, output: Success(DataCenterModelOutputSuccess { energy_cost: 8400.0, revenue_loss: 1550.0, assignments: [[[]], [[]], [[]], [[]], [[]]] }) }), Some(Memory { y: Config([1.0]), relaxation_m: Some(Memory { breakpoints: [0.0, 0.00001, 1.0, 3.0, 7.0, 2.0] }) }), 95))\n",
      "INFO soco.streaming.online 2021-07-29 09:25:16,812 online.rs:270 [client] Received: Ok(((Config([1]), Cost { cost: 9992.0, output: Success(DataCenterModelOutputSuccess { energy_cost: 8400.0, revenue_loss: 1550.0, assignments: [[[]], [[]], [[]], [[]], [[]]] }) }), (Config([1]), Cost { cost: 9992.0, output: Success(DataCenterModelOutputSuccess { energy_cost: 8400.0, revenue_loss: 1550.0, assignments: [[[]], [[]], [[]], [[]], [[]]] }) }), Some(Memory { y: Config([1.0]), relaxation_m: Some(Memory { breakpoints: [0.0, 0.00001, 1.0, 3.0, 7.0, 2.0] }) }), 95))\n",
      " 62%|██████▎   | 5/8 [00:00<00:00,  6.78it/s]INFO soco.streaming.online 2021-07-29 09:25:16,816 online.rs:169 [server] Connection established!\n",
      "INFO soco.streaming.online 2021-07-29 09:25:16,817 online.rs:263 [client] Connected to 127.0.0.1:3449.\n",
      "INFO soco.streaming.online 2021-07-29 09:25:16,819 online.rs:194 [server] Received: DataCenterOnlineInput { loads: [PredictedLoadProfile([[10.0]])] }\n",
      "INFO soco.streaming.online 2021-07-29 09:25:16,820 online.rs:268 [client] Sent: DataCenterOnlineInput { loads: [PredictedLoadProfile([[10.0]])] }\n",
      "INFO soco.model.data_center.model 2021-07-29 09:25:16,821 model.rs:662 Updating online instance to time slot 6.\n",
      "INFO soco.streaming.online 2021-07-29 09:25:16,828 online.rs:196 [server] Updated problem instance.\n",
      "DEBUG soco.algorithms.online.uni_dimensional.probabilistic 2021-07-29 09:25:16,908 probabilistic.rs:109 0;7;600\n",
      "DEBUG soco.algorithms.online.uni_dimensional.probabilistic 2021-07-29 09:25:16,911 probabilistic.rs:110 4810.0;4960.0;inf\n",
      "DEBUG soco.numerics.finite_differences 2021-07-29 09:25:16,926 finite_differences.rs:17 x=6;f(x)=4960\n",
      "DEBUG soco.numerics.roots 2021-07-29 09:25:16,928 roots.rs:26 a=7,b=600,fa=100.00000299999999,fb=599.999961, fc=0\n",
      "DEBUG soco.numerics.roots 2021-07-29 09:25:16,941 roots.rs:26 a=0,b=7,fa=-inf,fb=-100.00000299999999, fc=-inf\n",
      "DEBUG soco.algorithms.online.uni_dimensional.probabilistic 2021-07-29 09:25:16,943 probabilistic.rs:113 7;7;7\n",
      "DEBUG soco.algorithms.online.uni_dimensional.probabilistic 2021-07-29 09:25:16,946 probabilistic.rs:151 x=7\n",
      "INFO soco.streaming.online 2021-07-29 09:25:16,955 online.rs:218 [server] Sent: Ok(((Config([7]), Cost { cost: 14838.0, output: Success(DataCenterModelOutputSuccess { energy_cost: 12600.0, revenue_loss: 2160.0, assignments: [[[]], [[]], [[]], [[]], [[]], [[]]] }) }), (Config([7]), Cost { cost: 14838.0, output: Success(DataCenterModelOutputSuccess { energy_cost: 12600.0, revenue_loss: 2160.0, assignments: [[[]], [[]], [[]], [[]], [[]], [[]]] }) }), Some(Memory { y: Config([7.0]), relaxation_m: Some(Memory { breakpoints: [0.0, 0.00001, 1.0, 3.0, 7.0, 2.0] }) }), 116))\n",
      "INFO soco.streaming.online 2021-07-29 09:25:16,956 online.rs:270 [client] Received: Ok(((Config([7]), Cost { cost: 14838.0, output: Success(DataCenterModelOutputSuccess { energy_cost: 12600.0, revenue_loss: 2160.0, assignments: [[[]], [[]], [[]], [[]], [[]], [[]]] }) }), (Config([7]), Cost { cost: 14838.0, output: Success(DataCenterModelOutputSuccess { energy_cost: 12600.0, revenue_loss: 2160.0, assignments: [[[]], [[]], [[]], [[]], [[]], [[]]] }) }), Some(Memory { y: Config([7.0]), relaxation_m: Some(Memory { breakpoints: [0.0, 0.00001, 1.0, 3.0, 7.0, 2.0] }) }), 116))\n",
      " 75%|███████▌  | 6/8 [00:00<00:00,  6.79it/s]INFO soco.streaming.online 2021-07-29 09:25:16,963 online.rs:263 [client] Connected to 127.0.0.1:3449.\n",
      "INFO soco.streaming.online 2021-07-29 09:25:16,964 online.rs:169 [server] Connection established!\n",
      "INFO soco.streaming.online 2021-07-29 09:25:16,966 online.rs:268 [client] Sent: DataCenterOnlineInput { loads: [PredictedLoadProfile([[10.0]])] }\n",
      "INFO soco.streaming.online 2021-07-29 09:25:16,969 online.rs:194 [server] Received: DataCenterOnlineInput { loads: [PredictedLoadProfile([[10.0]])] }\n",
      "INFO soco.model.data_center.model 2021-07-29 09:25:16,980 model.rs:662 Updating online instance to time slot 7.\n",
      "INFO soco.streaming.online 2021-07-29 09:25:16,981 online.rs:196 [server] Updated problem instance.\n",
      "DEBUG soco.algorithms.online.uni_dimensional.probabilistic 2021-07-29 09:25:17,067 probabilistic.rs:109 0;7;600\n",
      "DEBUG soco.algorithms.online.uni_dimensional.probabilistic 2021-07-29 09:25:17,076 probabilistic.rs:110 4810.0;4960.0;inf\n",
      "DEBUG soco.numerics.finite_differences 2021-07-29 09:25:17,089 finite_differences.rs:17 x=6;f(x)=4960\n",
      "DEBUG soco.numerics.roots 2021-07-29 09:25:17,091 roots.rs:26 a=7,b=600,fa=100.00000299999999,fb=599.999961, fc=0\n",
      "DEBUG soco.numerics.roots 2021-07-29 09:25:17,109 roots.rs:26 a=0,b=7,fa=-inf,fb=-100.00000299999999, fc=-inf\n",
      "DEBUG soco.algorithms.online.uni_dimensional.probabilistic 2021-07-29 09:25:17,110 probabilistic.rs:113 7;7;7\n",
      "DEBUG soco.algorithms.online.uni_dimensional.probabilistic 2021-07-29 09:25:17,113 probabilistic.rs:151 x=7\n",
      "INFO soco.streaming.online 2021-07-29 09:25:17,124 online.rs:218 [server] Sent: Ok(((Config([7]), Cost { cost: 19648.0, output: Success(DataCenterModelOutputSuccess { energy_cost: 16800.0, revenue_loss: 2770.0, assignments: [[[]], [[]], [[]], [[]], [[]], [[]], [[]]] }) }), (Config([7]), Cost { cost: 19648.0, output: Success(DataCenterModelOutputSuccess { energy_cost: 16800.0, revenue_loss: 2770.0, assignments: [[[]], [[]], [[]], [[]], [[]], [[]], [[]]] }) }), Some(Memory { y: Config([7.0]), relaxation_m: Some(Memory { breakpoints: [0.0, 0.00001, 1.0, 3.0, 7.0, 2.0] }) }), 132))\n",
      "INFO soco.streaming.online 2021-07-29 09:25:17,125 online.rs:270 [client] Received: Ok(((Config([7]), Cost { cost: 19648.0, output: Success(DataCenterModelOutputSuccess { energy_cost: 16800.0, revenue_loss: 2770.0, assignments: [[[]], [[]], [[]], [[]], [[]], [[]], [[]]] }) }), (Config([7]), Cost { cost: 19648.0, output: Success(DataCenterModelOutputSuccess { energy_cost: 16800.0, revenue_loss: 2770.0, assignments: [[[]], [[]], [[]], [[]], [[]], [[]], [[]]] }) }), Some(Memory { y: Config([7.0]), relaxation_m: Some(Memory { breakpoints: [0.0, 0.00001, 1.0, 3.0, 7.0, 2.0] }) }), 132))\n",
      " 88%|████████▊ | 7/8 [00:01<00:00,  6.50it/s]INFO soco.streaming.online 2021-07-29 09:25:17,131 online.rs:263 [client] Connected to 127.0.0.1:3449.\n",
      "INFO soco.streaming.online 2021-07-29 09:25:17,131 online.rs:169 [server] Connection established!\n",
      "INFO soco.streaming.online 2021-07-29 09:25:17,133 online.rs:268 [client] Sent: DataCenterOnlineInput { loads: [PredictedLoadProfile([[3.0]])] }\n",
      "INFO soco.streaming.online 2021-07-29 09:25:17,138 online.rs:194 [server] Received: DataCenterOnlineInput { loads: [PredictedLoadProfile([[3.0]])] }\n",
      "INFO soco.model.data_center.model 2021-07-29 09:25:17,145 model.rs:662 Updating online instance to time slot 8.\n",
      "INFO soco.streaming.online 2021-07-29 09:25:17,149 online.rs:196 [server] Updated problem instance.\n",
      "DEBUG soco.algorithms.online.uni_dimensional.probabilistic 2021-07-29 09:25:17,271 probabilistic.rs:109 0;2;600\n",
      "DEBUG soco.algorithms.online.uni_dimensional.probabilistic 2021-07-29 09:25:17,275 probabilistic.rs:110 1428.0;inf;inf\n",
      "DEBUG soco.numerics.finite_differences 2021-07-29 09:25:17,289 finite_differences.rs:17 x=2;f(x)=1428\n",
      "DEBUG soco.numerics.finite_differences 2021-07-29 09:25:17,299 finite_differences.rs:17 x=2;f(x)=1428\n",
      "DEBUG soco.algorithms.online.uni_dimensional.probabilistic 2021-07-29 09:25:17,301 probabilistic.rs:113 2;2;2\n",
      "DEBUG soco.algorithms.online.uni_dimensional.probabilistic 2021-07-29 09:25:17,305 probabilistic.rs:151 x=2\n",
      "INFO soco.streaming.online 2021-07-29 09:25:17,327 online.rs:218 [server] Sent: Ok(((Config([2]), Cost { cost: 21076.0, output: Success(DataCenterModelOutputSuccess { energy_cost: 18000.0, revenue_loss: 2998.0, assignments: [[[]], [[]], [[]], [[]], [[]], [[]], [[]], [[]]] }) }), (Config([2]), Cost { cost: 21076.0, output: Success(DataCenterModelOutputSuccess { energy_cost: 18000.0, revenue_loss: 2998.0, assignments: [[[]], [[]], [[]], [[]], [[]], [[]], [[]], [[]]] }) }), Some(Memory { y: Config([2.0]), relaxation_m: Some(Memory { breakpoints: [0.0, 0.00001, 1.0, 3.0, 7.0, 2.0] }) }), 157))\n",
      "INFO soco.streaming.online 2021-07-29 09:25:17,327 online.rs:270 [client] Received: Ok(((Config([2]), Cost { cost: 21076.0, output: Success(DataCenterModelOutputSuccess { energy_cost: 18000.0, revenue_loss: 2998.0, assignments: [[[]], [[]], [[]], [[]], [[]], [[]], [[]], [[]]] }) }), (Config([2]), Cost { cost: 21076.0, output: Success(DataCenterModelOutputSuccess { energy_cost: 18000.0, revenue_loss: 2998.0, assignments: [[[]], [[]], [[]], [[]], [[]], [[]], [[]], [[]]] }) }), Some(Memory { y: Config([2.0]), relaxation_m: Some(Memory { breakpoints: [0.0, 0.00001, 1.0, 3.0, 7.0, 2.0] }) }), 157))\n",
      "100%|██████████| 8/8 [00:01<00:00,  6.19it/s]\n",
      "INFO soco.streaming.online 2021-07-29 09:25:17,332 online.rs:277 [client] Connected to 127.0.0.1:3449.\n",
      "INFO soco.streaming.online 2021-07-29 09:25:17,332 online.rs:169 [server] Connection established!\n",
      "INFO soco.streaming.online 2021-07-29 09:25:17,333 online.rs:280 [client] Stopping server.\n",
      "INFO soco.streaming.online 2021-07-29 09:25:17,338 online.rs:240 [server] Server stopped.\n"
     ]
    }
   ],
   "metadata": {}
  },
  {
   "cell_type": "code",
   "execution_count": 11,
   "source": [
    "alg"
   ],
   "outputs": [
    {
     "output_type": "execute_result",
     "data": {
      "text/plain": [
       "86614.0"
      ]
     },
     "metadata": {},
     "execution_count": 11
    }
   ],
   "metadata": {}
  },
  {
   "cell_type": "code",
   "execution_count": 12,
   "source": [
    "opt, iopt, opts, iopts, alg, ialg, energy_cost, revenue_loss, switching_cost"
   ],
   "outputs": [
    {
     "output_type": "execute_result",
     "data": {
      "text/plain": [
       "(20531.663534122985,\n",
       " 21076.0,\n",
       " 29552.038022393408,\n",
       " 32953.142857142855,\n",
       " 86614.0,\n",
       " 86614.0,\n",
       " 73200.0,\n",
       " 13030.0,\n",
       " 384.0)"
      ]
     },
     "metadata": {},
     "execution_count": 12
    }
   ],
   "metadata": {}
  },
  {
   "cell_type": "markdown",
   "source": [
    "## Evaluation"
   ],
   "metadata": {}
  },
  {
   "cell_type": "markdown",
   "source": [
    "### Competitive Ratio"
   ],
   "metadata": {}
  },
  {
   "cell_type": "code",
   "execution_count": 13,
   "source": [
    "cr = alg / opt\n",
    "icr = ialg / iopt\n",
    "cr, icr"
   ],
   "outputs": [
    {
     "output_type": "execute_result",
     "data": {
      "text/plain": [
       "(4.218557344661831, 4.109603340292275)"
      ]
     },
     "metadata": {},
     "execution_count": 13
    }
   ],
   "metadata": {}
  },
  {
   "cell_type": "markdown",
   "source": [
    "### Competitive Difference"
   ],
   "metadata": {}
  },
  {
   "cell_type": "code",
   "execution_count": 14,
   "source": [
    "cd = alg - opt\n",
    "icd = ialg - iopt\n",
    "cd, icd"
   ],
   "outputs": [
    {
     "output_type": "execute_result",
     "data": {
      "text/plain": [
       "(66082.33646587702, 65538.0)"
      ]
     },
     "metadata": {},
     "execution_count": 14
    }
   ],
   "metadata": {}
  },
  {
   "cell_type": "markdown",
   "source": [
    "### Regret"
   ],
   "metadata": {}
  },
  {
   "cell_type": "code",
   "execution_count": 15,
   "source": [
    "regret = alg - opts\n",
    "iregret = ialg - iopts\n",
    "regret, iregret"
   ],
   "outputs": [
    {
     "output_type": "execute_result",
     "data": {
      "text/plain": [
       "(57061.961977606596, 53660.857142857145)"
      ]
     },
     "metadata": {},
     "execution_count": 15
    }
   ],
   "metadata": {}
  },
  {
   "cell_type": "markdown",
   "source": [
    "### Cost Change"
   ],
   "metadata": {}
  },
  {
   "cell_type": "markdown",
   "source": [
    "Regret relative to overall cost."
   ],
   "metadata": {}
  },
  {
   "cell_type": "code",
   "execution_count": 16,
   "source": [
    "rel_regret = regret / opts\n",
    "rel_iregret = iregret / iopts\n",
    "rel_regret, rel_iregret"
   ],
   "outputs": [
    {
     "output_type": "execute_result",
     "data": {
      "text/plain": [
       "(1.9308976908586546, 1.6283987653464662)"
      ]
     },
     "metadata": {},
     "execution_count": 16
    }
   ],
   "metadata": {}
  },
  {
   "cell_type": "markdown",
   "source": [
    "Competitive difference relative to overall cost."
   ],
   "metadata": {}
  },
  {
   "cell_type": "code",
   "execution_count": 17,
   "source": [
    "rel_cd = cd / opt\n",
    "rel_icd = icd / iopt\n",
    "rel_cd, rel_icd"
   ],
   "outputs": [
    {
     "output_type": "execute_result",
     "data": {
      "text/plain": [
       "(3.2185573446618307, 3.1096033402922756)"
      ]
     },
     "metadata": {},
     "execution_count": 17
    }
   ],
   "metadata": {}
  },
  {
   "cell_type": "markdown",
   "source": [
    "### Fractional vs Integral"
   ],
   "metadata": {}
  },
  {
   "cell_type": "code",
   "execution_count": 18,
   "source": [
    "opt_vs_iopt = iopt / opt\n",
    "opts_vs_iopts = iopts / opts\n",
    "alg_vs_ialg = ialg / alg\n",
    "opt_vs_iopt, opts_vs_iopts, alg_vs_ialg"
   ],
   "outputs": [
    {
     "output_type": "execute_result",
     "data": {
      "text/plain": [
       "(1.0265120488153503, 1.1150886728073448, 1.0)"
      ]
     },
     "metadata": {},
     "execution_count": 18
    }
   ],
   "metadata": {}
  },
  {
   "cell_type": "markdown",
   "source": [
    "### Opt vs OptS"
   ],
   "metadata": {}
  },
  {
   "cell_type": "code",
   "execution_count": 21,
   "source": [
    "opt_vs_opts = opts / opt\n",
    "opt_vs_opts"
   ],
   "outputs": [
    {
     "output_type": "execute_result",
     "data": {
      "text/plain": [
       "1.4393396800643474"
      ]
     },
     "metadata": {},
     "execution_count": 21
    }
   ],
   "metadata": {}
  },
  {
   "cell_type": "markdown",
   "source": [
    "### Runtime"
   ],
   "metadata": {}
  },
  {
   "cell_type": "code",
   "execution_count": 19,
   "source": [
    "runtimes_np = np.array(runtimes)\n",
    "plot_cdf(runtimes_np, 'runtime (milliseconds)', 'online_runtime')\n",
    "plt.show()\n",
    "summary = summarize_distribution(runtimes_np)"
   ],
   "outputs": [
    {
     "output_type": "stream",
     "name": "stderr",
     "text": [
      "DEBUG matplotlib.font_manager 2021-07-29 09:25:27,443 font_manager.py:1329 findfont: Matching sans\\-serif:style=normal:variant=normal:weight=normal:stretch=normal:size=10.0.\n",
      "DEBUG matplotlib.font_manager 2021-07-29 09:25:27,444 font_manager.py:1341 findfont: score(<Font 'DejaVu Sans Display' (DejaVuSansDisplay.ttf) normal normal 400 normal>) = 10.05\n",
      "DEBUG matplotlib.font_manager 2021-07-29 09:25:27,445 font_manager.py:1341 findfont: score(<Font 'cmtt10' (cmtt10.ttf) normal normal 400 normal>) = 10.05\n",
      "DEBUG matplotlib.font_manager 2021-07-29 09:25:27,446 font_manager.py:1341 findfont: score(<Font 'DejaVu Serif' (DejaVuSerif-BoldItalic.ttf) italic normal 700 normal>) = 11.335\n",
      "DEBUG matplotlib.font_manager 2021-07-29 09:25:27,448 font_manager.py:1341 findfont: score(<Font 'STIXNonUnicode' (STIXNonUniIta.ttf) italic normal 400 normal>) = 11.05\n",
      "DEBUG matplotlib.font_manager 2021-07-29 09:25:27,451 font_manager.py:1341 findfont: score(<Font 'DejaVu Sans Mono' (DejaVuSansMono-Bold.ttf) normal normal 700 normal>) = 10.335\n",
      "DEBUG matplotlib.font_manager 2021-07-29 09:25:27,453 font_manager.py:1341 findfont: score(<Font 'STIXGeneral' (STIXGeneralItalic.ttf) italic normal 400 normal>) = 11.05\n",
      "DEBUG matplotlib.font_manager 2021-07-29 09:25:27,455 font_manager.py:1341 findfont: score(<Font 'STIXSizeThreeSym' (STIXSizThreeSymBol.ttf) normal normal 700 normal>) = 10.335\n",
      "DEBUG matplotlib.font_manager 2021-07-29 09:25:27,457 font_manager.py:1341 findfont: score(<Font 'DejaVu Sans Mono' (DejaVuSansMono.ttf) normal normal 400 normal>) = 10.05\n",
      "DEBUG matplotlib.font_manager 2021-07-29 09:25:27,458 font_manager.py:1341 findfont: score(<Font 'STIXGeneral' (STIXGeneralBol.ttf) normal normal 700 normal>) = 10.335\n",
      "DEBUG matplotlib.font_manager 2021-07-29 09:25:27,459 font_manager.py:1341 findfont: score(<Font 'DejaVu Sans' (DejaVuSans-Oblique.ttf) oblique normal 400 normal>) = 1.05\n",
      "DEBUG matplotlib.font_manager 2021-07-29 09:25:27,461 font_manager.py:1341 findfont: score(<Font 'DejaVu Sans Mono' (DejaVuSansMono-BoldOblique.ttf) oblique normal 700 normal>) = 11.335\n",
      "DEBUG matplotlib.font_manager 2021-07-29 09:25:27,462 font_manager.py:1341 findfont: score(<Font 'STIXSizeThreeSym' (STIXSizThreeSymReg.ttf) normal normal 400 normal>) = 10.05\n",
      "DEBUG matplotlib.font_manager 2021-07-29 09:25:27,467 font_manager.py:1341 findfont: score(<Font 'DejaVu Serif' (DejaVuSerif.ttf) normal normal 400 normal>) = 10.05\n",
      "DEBUG matplotlib.font_manager 2021-07-29 09:25:27,470 font_manager.py:1341 findfont: score(<Font 'cmmi10' (cmmi10.ttf) normal normal 400 normal>) = 10.05\n",
      "DEBUG matplotlib.font_manager 2021-07-29 09:25:27,471 font_manager.py:1341 findfont: score(<Font 'STIXSizeOneSym' (STIXSizOneSymReg.ttf) normal normal 400 normal>) = 10.05\n",
      "DEBUG matplotlib.font_manager 2021-07-29 09:25:27,473 font_manager.py:1341 findfont: score(<Font 'STIXSizeFourSym' (STIXSizFourSymBol.ttf) normal normal 700 normal>) = 10.335\n",
      "DEBUG matplotlib.font_manager 2021-07-29 09:25:27,475 font_manager.py:1341 findfont: score(<Font 'DejaVu Sans Mono' (DejaVuSansMono-Oblique.ttf) oblique normal 400 normal>) = 11.05\n",
      "DEBUG matplotlib.font_manager 2021-07-29 09:25:27,477 font_manager.py:1341 findfont: score(<Font 'cmr10' (cmr10.ttf) normal normal 400 normal>) = 10.05\n",
      "DEBUG matplotlib.font_manager 2021-07-29 09:25:27,479 font_manager.py:1341 findfont: score(<Font 'STIXSizeTwoSym' (STIXSizTwoSymBol.ttf) normal normal 700 normal>) = 10.335\n",
      "DEBUG matplotlib.font_manager 2021-07-29 09:25:27,480 font_manager.py:1341 findfont: score(<Font 'DejaVu Serif' (DejaVuSerif-Bold.ttf) normal normal 700 normal>) = 10.335\n",
      "DEBUG matplotlib.font_manager 2021-07-29 09:25:27,482 font_manager.py:1341 findfont: score(<Font 'STIXSizeFourSym' (STIXSizFourSymReg.ttf) normal normal 400 normal>) = 10.05\n",
      "DEBUG matplotlib.font_manager 2021-07-29 09:25:27,483 font_manager.py:1341 findfont: score(<Font 'STIXSizeTwoSym' (STIXSizTwoSymReg.ttf) normal normal 400 normal>) = 10.05\n",
      "DEBUG matplotlib.font_manager 2021-07-29 09:25:27,484 font_manager.py:1341 findfont: score(<Font 'DejaVu Serif' (DejaVuSerif-Italic.ttf) italic normal 400 normal>) = 11.05\n",
      "DEBUG matplotlib.font_manager 2021-07-29 09:25:27,486 font_manager.py:1341 findfont: score(<Font 'STIXGeneral' (STIXGeneralBolIta.ttf) italic normal 700 normal>) = 11.335\n",
      "DEBUG matplotlib.font_manager 2021-07-29 09:25:27,487 font_manager.py:1341 findfont: score(<Font 'STIXGeneral' (STIXGeneral.ttf) normal normal 400 normal>) = 10.05\n",
      "DEBUG matplotlib.font_manager 2021-07-29 09:25:27,489 font_manager.py:1341 findfont: score(<Font 'STIXNonUnicode' (STIXNonUni.ttf) normal normal 400 normal>) = 10.05\n",
      "DEBUG matplotlib.font_manager 2021-07-29 09:25:27,492 font_manager.py:1341 findfont: score(<Font 'DejaVu Sans' (DejaVuSans-BoldOblique.ttf) oblique normal 700 normal>) = 1.335\n",
      "DEBUG matplotlib.font_manager 2021-07-29 09:25:27,495 font_manager.py:1341 findfont: score(<Font 'cmss10' (cmss10.ttf) normal normal 400 normal>) = 10.05\n",
      "DEBUG matplotlib.font_manager 2021-07-29 09:25:27,497 font_manager.py:1341 findfont: score(<Font 'DejaVu Serif Display' (DejaVuSerifDisplay.ttf) normal normal 400 normal>) = 10.05\n",
      "DEBUG matplotlib.font_manager 2021-07-29 09:25:27,503 font_manager.py:1341 findfont: score(<Font 'DejaVu Sans' (DejaVuSans-Bold.ttf) normal normal 700 normal>) = 0.33499999999999996\n",
      "DEBUG matplotlib.font_manager 2021-07-29 09:25:27,504 font_manager.py:1341 findfont: score(<Font 'cmex10' (cmex10.ttf) normal normal 400 normal>) = 10.05\n",
      "DEBUG matplotlib.font_manager 2021-07-29 09:25:27,506 font_manager.py:1341 findfont: score(<Font 'cmsy10' (cmsy10.ttf) normal normal 400 normal>) = 10.05\n",
      "DEBUG matplotlib.font_manager 2021-07-29 09:25:27,507 font_manager.py:1341 findfont: score(<Font 'STIXSizeOneSym' (STIXSizOneSymBol.ttf) normal normal 700 normal>) = 10.335\n",
      "DEBUG matplotlib.font_manager 2021-07-29 09:25:27,508 font_manager.py:1341 findfont: score(<Font 'cmb10' (cmb10.ttf) normal normal 400 normal>) = 10.05\n",
      "DEBUG matplotlib.font_manager 2021-07-29 09:25:27,510 font_manager.py:1341 findfont: score(<Font 'STIXSizeFiveSym' (STIXSizFiveSymReg.ttf) normal normal 400 normal>) = 10.05\n",
      "DEBUG matplotlib.font_manager 2021-07-29 09:25:27,511 font_manager.py:1341 findfont: score(<Font 'STIXNonUnicode' (STIXNonUniBolIta.ttf) italic normal 700 normal>) = 11.335\n",
      "DEBUG matplotlib.font_manager 2021-07-29 09:25:27,512 font_manager.py:1341 findfont: score(<Font 'DejaVu Sans' (DejaVuSans.ttf) normal normal 400 normal>) = 0.05\n",
      "DEBUG matplotlib.font_manager 2021-07-29 09:25:27,513 font_manager.py:1341 findfont: score(<Font 'STIXNonUnicode' (STIXNonUniBol.ttf) normal normal 700 normal>) = 10.335\n",
      "DEBUG matplotlib.font_manager 2021-07-29 09:25:27,514 font_manager.py:1341 findfont: score(<Font 'DejaVu Sans' (DejaVuSans.ttf) normal normal 400 normal>) = 0.05\n",
      "DEBUG matplotlib.font_manager 2021-07-29 09:25:27,515 font_manager.py:1341 findfont: score(<Font 'DejaVu Serif' (DejaVuSerif.ttf) normal normal 400 normal>) = 10.05\n",
      "DEBUG matplotlib.font_manager 2021-07-29 09:25:27,518 font_manager.py:1341 findfont: score(<Font 'DejaVu Sans Mono' (DejaVuSansMono-Bold.ttf) normal normal 700 normal>) = 10.335\n",
      "DEBUG matplotlib.font_manager 2021-07-29 09:25:27,520 font_manager.py:1341 findfont: score(<Font 'DejaVu Sans' (DejaVuSans-Bold.ttf) normal normal 700 normal>) = 0.33499999999999996\n",
      "DEBUG matplotlib.font_manager 2021-07-29 09:25:27,521 font_manager.py:1341 findfont: score(<Font 'DejaVu Sans Mono' (DejaVuSansMono.ttf) normal normal 400 normal>) = 10.05\n",
      "DEBUG matplotlib.font_manager 2021-07-29 09:25:27,522 font_manager.py:1341 findfont: score(<Font 'DejaVu Serif' (DejaVuSerif-Bold.ttf) normal normal 700 normal>) = 10.335\n",
      "DEBUG matplotlib.font_manager 2021-07-29 09:25:27,524 font_manager.py:1367 findfont: Matching sans\\-serif:style=normal:variant=normal:weight=normal:stretch=normal:size=10.0 to DejaVu Sans ('/home/jonhue/projects/jonhue/bachelors-thesis/venv/lib/python3.8/site-packages/matplotlib/mpl-data/fonts/ttf/DejaVuSans.ttf') with score of 0.050000.\n"
     ]
    },
    {
     "output_type": "display_data",
     "data": {
      "text/plain": [
       "<Figure size 640x480 with 1 Axes>"
      ],
      "image/png": "[encoded data removed]"
     },
     "metadata": {}
    }
   ],
   "metadata": {}
  },
  {
   "cell_type": "markdown",
   "source": [
    "### Model"
   ],
   "metadata": {}
  },
  {
   "cell_type": "markdown",
   "source": [
    "Proportion of energy cost to delay cost"
   ],
   "metadata": {}
  },
  {
   "cell_type": "code",
   "execution_count": 20,
   "source": [
    "ec_vs_rl = energy_cost / revenue_loss if revenue_loss > 0 else np.Inf\n",
    "hc_vs_sc = (energy_cost + revenue_loss) / switching_cost\n",
    "ec_vs_rl, hc_vs_sc"
   ],
   "outputs": [
    {
     "output_type": "execute_result",
     "data": {
      "text/plain": [
       "(5.617805065234076, 224.55729166666666)"
      ]
     },
     "metadata": {},
     "execution_count": 20
    }
   ],
   "metadata": {}
  }
 ],
 "metadata": {
  "orig_nbformat": 4,
  "language_info": {
   "name": "python",
   "version": "3.8.10",
   "mimetype": "text/x-python",
   "codemirror_mode": {
    "name": "ipython",
    "version": 3
   },
   "pygments_lexer": "ipython3",
   "nbconvert_exporter": "python",
   "file_extension": ".py"
  },
  "kernelspec": {
   "name": "python3",
   "display_name": "Python 3.8.10 64-bit ('venv': venv)"
  },
  "interpreter": {
   "hash": "bfb6e60757c36aad7e076b66c35f1b7ceb420a8f6d971dc47958a23072a9b46f"
  }
 },
 "nbformat": 4,
 "nbformat_minor": 2
}