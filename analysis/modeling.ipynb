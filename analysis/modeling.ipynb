{
 "cells": [
  {
   "cell_type": "code",
   "execution_count": 1,
   "source": [
    "from lib.model import model1\n",
    "from soco.data_center.model import (\n",
    "  # LinearEnergyConsumptionModel,\n",
    "  # SimplifiedLinearEnergyConsumptionModel,\n",
    "  # NonLinearEnergyConsumptionModel,\n",
    "  # LinearEnergyCostModel,\n",
    "  # QuotasEnergyCostModel,\n",
    "  # MinimalDetectableDelayRevenueLossModel,\n",
    "  SwitchingCost,\n",
    "  # Location,\n",
    "  ServerType,\n",
    "  # Source,\n",
    "  JobType,\n",
    "  # DataCenterModel,\n",
    ")"
   ],
   "outputs": [],
   "metadata": {}
  },
  {
   "cell_type": "code",
   "execution_count": 2,
   "source": [
    "import logging\n",
    "\n",
    "FORMAT = '%(levelname)s %(name)s %(asctime)-15s %(filename)s:%(lineno)d %(message)s'\n",
    "logging.basicConfig(format=FORMAT)\n",
    "logging.getLogger().setLevel(logging.INFO)"
   ],
   "outputs": [],
   "metadata": {}
  },
  {
   "cell_type": "markdown",
   "source": [
    "# Modeling"
   ],
   "metadata": {}
  },
  {
   "cell_type": "markdown",
   "source": [
    "## Switching Cost"
   ],
   "metadata": {}
  },
  {
   "cell_type": "code",
   "execution_count": 3,
   "source": [
    "switching_cost = SwitchingCost(1, 0.5, 1, 1, 1, 2, 5)"
   ],
   "outputs": [],
   "metadata": {}
  },
  {
   "cell_type": "markdown",
   "source": [
    "### Normalized Switching Cost"
   ],
   "metadata": {}
  },
  {
   "cell_type": "code",
   "execution_count": 4,
   "source": [
    "switching_cost.normalized_switching_cost()"
   ],
   "outputs": [
    {
     "output_type": "execute_result",
     "data": {
      "text/plain": [
       "18.0"
      ]
     },
     "metadata": {},
     "execution_count": 4
    }
   ],
   "metadata": {}
  },
  {
   "cell_type": "markdown",
   "source": [
    "## Model"
   ],
   "metadata": {}
  },
  {
   "cell_type": "code",
   "execution_count": 5,
   "source": [
    "model = model1(\n",
    "  1,\n",
    "  [ServerType(\"\", 1)],\n",
    "  {\"\": 100},\n",
    "  [JobType(\"\", lambda server_type: 1)],\n",
    "  {\"\": 1},\n",
    "  {\"\": switching_cost},\n",
    ")"
   ],
   "outputs": [],
   "metadata": {}
  },
  {
   "cell_type": "markdown",
   "source": [
    "# Inputs"
   ],
   "metadata": {}
  },
  {
   "cell_type": "code",
   "execution_count": 6,
   "source": [
    "inp = [[1], [5], [10], [3], [1], [100], [10], [3]]\n",
    "online_inp = [[[[1]]], [[[5]]], [[[10]]], [[[3]]], [[[1]]], [[[100]]], [[[10]]], [[[3]]]]"
   ],
   "outputs": [],
   "metadata": {}
  },
  {
   "cell_type": "markdown",
   "source": [
    "# Execute"
   ],
   "metadata": {}
  },
  {
   "cell_type": "code",
   "execution_count": 8,
   "source": [
    "from lib.online import evaluate\n",
    "from soco.data_center.online import memoryless\n",
    "\n",
    "evaluate(memoryless, model, [], online_inp)"
   ],
   "outputs": [
    {
     "output_type": "stream",
     "name": "stderr",
     "text": [
      "INFO soco.streaming.online 2021-07-20 18:02:24,984 online.rs:76 Generated a problem instance: Online { p: SimplifiedSmoothedConvexOptimization { d: 1, t_end: 0, bounds: [100.0], switching_cost: [9.0] }, w: 0 }\n",
      "INFO soco.streaming.online 2021-07-20 18:02:24,986 online.rs:78 Simulating until time slot 0.\n",
      "INFO soco.streaming.online 2021-07-20 18:02:24,989 online.rs:108 [server] Running on 127.0.0.1:3449.\n",
      "  0%|          | 0/8 [00:00<?, ?it/s]INFO soco.streaming.online 2021-07-20 18:02:24,994 online.rs:172 [client] Stopping server.\n",
      "INFO soco.streaming.online 2021-07-20 18:02:24,994 online.rs:115 [server] Connection established!\n",
      "INFO soco.streaming.online 2021-07-20 18:02:24,996 online.rs:172 [client] Stopping server.\n",
      "INFO soco.streaming.online 2021-07-20 18:02:24,997 online.rs:136 [server] Server stopped.\n",
      "INFO soco.streaming.online 2021-07-20 18:02:25,000 online.rs:172 [client] Stopping server.\n",
      " 38%|███▊      | 3/8 [00:00<00:00, 258.08it/s]\n"
     ]
    },
    {
     "output_type": "error",
     "ename": "PanicException",
     "evalue": "called `Result::unwrap()` on an `Err` value: Os { code: 111, kind: ConnectionRefused, message: \"Connection refused\" }",
     "traceback": [
      "\u001b[0;31m---------------------------------------------------------------------------\u001b[0m",
      "\u001b[0;31mPanicException\u001b[0m                            Traceback (most recent call last)",
      "\u001b[0;32m<ipython-input-8-70264bfab82f>\u001b[0m in \u001b[0;36m<module>\u001b[0;34m\u001b[0m\n\u001b[1;32m      2\u001b[0m \u001b[0;32mfrom\u001b[0m \u001b[0msoco\u001b[0m\u001b[0;34m.\u001b[0m\u001b[0mdata_center\u001b[0m\u001b[0;34m.\u001b[0m\u001b[0monline\u001b[0m \u001b[0;32mimport\u001b[0m \u001b[0mmemoryless\u001b[0m\u001b[0;34m\u001b[0m\u001b[0;34m\u001b[0m\u001b[0m\n\u001b[1;32m      3\u001b[0m \u001b[0;34m\u001b[0m\u001b[0m\n\u001b[0;32m----> 4\u001b[0;31m \u001b[0mevaluate\u001b[0m\u001b[0;34m(\u001b[0m\u001b[0mmemoryless\u001b[0m\u001b[0;34m,\u001b[0m \u001b[0mmodel\u001b[0m\u001b[0;34m,\u001b[0m \u001b[0;34m[\u001b[0m\u001b[0;34m]\u001b[0m\u001b[0;34m,\u001b[0m \u001b[0monline_inp\u001b[0m\u001b[0;34m)\u001b[0m\u001b[0;34m\u001b[0m\u001b[0;34m\u001b[0m\u001b[0m\n\u001b[0m",
      "\u001b[0;32m~/projects/jonhue/bachelors-thesis/analysis/lib/online.py\u001b[0m in \u001b[0;36mevaluate\u001b[0;34m(alg, model, offline_inp, online_inp)\u001b[0m\n\u001b[1;32m     18\u001b[0m     \u001b[0mcost\u001b[0m \u001b[0;34m=\u001b[0m \u001b[0minitial_cost\u001b[0m\u001b[0;34m\u001b[0m\u001b[0;34m\u001b[0m\u001b[0m\n\u001b[1;32m     19\u001b[0m     \u001b[0;32mfor\u001b[0m \u001b[0mi\u001b[0m \u001b[0;32min\u001b[0m \u001b[0mtqdm\u001b[0m\u001b[0;34m(\u001b[0m\u001b[0mrange\u001b[0m\u001b[0;34m(\u001b[0m\u001b[0mlen\u001b[0m\u001b[0;34m(\u001b[0m\u001b[0monline_inp\u001b[0m\u001b[0;34m)\u001b[0m\u001b[0;34m)\u001b[0m\u001b[0;34m)\u001b[0m\u001b[0;34m:\u001b[0m\u001b[0;34m\u001b[0m\u001b[0;34m\u001b[0m\u001b[0m\n\u001b[0;32m---> 20\u001b[0;31m         \u001b[0mstop\u001b[0m\u001b[0;34m(\u001b[0m\u001b[0maddr\u001b[0m\u001b[0;34m)\u001b[0m\u001b[0;34m\u001b[0m\u001b[0;34m\u001b[0m\u001b[0m\n\u001b[0m\u001b[1;32m     21\u001b[0m     \u001b[0mstop\u001b[0m\u001b[0;34m(\u001b[0m\u001b[0maddr\u001b[0m\u001b[0;34m)\u001b[0m\u001b[0;34m\u001b[0m\u001b[0;34m\u001b[0m\u001b[0m\n\u001b[1;32m     22\u001b[0m \u001b[0;34m\u001b[0m\u001b[0m\n",
      "\u001b[0;31mPanicException\u001b[0m: called `Result::unwrap()` on an `Err` value: Os { code: 111, kind: ConnectionRefused, message: \"Connection refused\" }"
     ]
    }
   ],
   "metadata": {}
  },
  {
   "cell_type": "code",
   "execution_count": 7,
   "source": [
    "from lib.offline import evaluate_1d\n",
    "\n",
    "fractional_cost, integral_cost = evaluate_1d(model, inp)"
   ],
   "outputs": [],
   "metadata": {}
  },
  {
   "cell_type": "code",
   "execution_count": 8,
   "source": [
    "fractional_cost, integral_cost"
   ],
   "outputs": [
    {
     "output_type": "execute_result",
     "data": {
      "text/plain": [
       "(1341.4675195106784, inf)"
      ]
     },
     "metadata": {},
     "execution_count": 8
    }
   ],
   "metadata": {}
  },
  {
   "cell_type": "code",
   "execution_count": 7,
   "source": [
    "from lib.utils import plot\n",
    "import numpy as np\n",
    "import matplotlib.pyplot as plt\n",
    "from lib.offline import evaluate_approx_graph_search\n",
    "\n",
    "# plot(np.array([1,2,3,4,5]), np.array([1,2,3,4,5]), 'x axis', 'y axis', 'test')\n",
    "# plt.show()\n",
    "\n",
    "x, y, opt = evaluate_approx_graph_search(model, inp)\n",
    "plt.axhline(y=opt, color='r', linestyle='-')\n",
    "plot(x, y, 'gamma', 'cost', 'approx_graph_search')\n",
    "plt.show()"
   ],
   "outputs": [
    {
     "output_type": "display_data",
     "data": {
      "text/plain": [
       "<Figure size 640x480 with 1 Axes>"
      ],
      "image/png": "[encoded data removed]"
     },
     "metadata": {}
    }
   ],
   "metadata": {}
  }
 ],
 "metadata": {
  "orig_nbformat": 4,
  "language_info": {
   "name": "python",
   "version": "3.8.10",
   "mimetype": "text/x-python",
   "codemirror_mode": {
    "name": "ipython",
    "version": 3
   },
   "pygments_lexer": "ipython3",
   "nbconvert_exporter": "python",
   "file_extension": ".py"
  },
  "kernelspec": {
   "name": "python3",
   "display_name": "Python 3.8.10 64-bit ('venv': venv)"
  },
  "interpreter": {
   "hash": "bfb6e60757c36aad7e076b66c35f1b7ceb420a8f6d971dc47958a23072a9b46f"
  }
 },
 "nbformat": 4,
 "nbformat_minor": 2
}