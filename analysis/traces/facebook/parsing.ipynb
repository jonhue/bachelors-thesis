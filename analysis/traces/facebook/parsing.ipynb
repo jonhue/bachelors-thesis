{
    "cells": [
        {
            "cell_type": "code",
            "execution_count": 1,
            "source": [
                "import pandas as pd"
            ],
            "outputs": [],
            "metadata": {}
        },
        {
            "cell_type": "code",
            "execution_count": 2,
            "source": [
                "import os\n",
                "import sys\n",
                "module_path = os.path.abspath(os.path.join('..'))\n",
                "if module_path not in sys.path:\n",
                "  sys.path.append(module_path)"
            ],
            "outputs": [],
            "metadata": {}
        },
        {
            "cell_type": "code",
            "execution_count": 3,
            "source": [
                "from constants import SUBMISSION_TIME, START_TIME, END_TIME, JOB_TYPE, SOURCE, SERVER_TYPE, LOCATION, NAMES"
            ],
            "outputs": [],
            "metadata": {}
        },
        {
            "cell_type": "code",
            "execution_count": 4,
            "source": [
                "RUNTIME = 1\n",
                "INPUT_NAMES = ['new_unique_job_id', 'submit_time_seconds', 'inter_job_submit_gap_seconds', 'map_input_bytes', 'shuffle_bytes', 'reduce_output_bytes']"
            ],
            "outputs": [],
            "metadata": {}
        },
        {
            "cell_type": "code",
            "execution_count": 5,
            "source": [
                "t1 = pd.read_csv('in/2009_0.tsv', delimiter='\\t', header=None, names=INPUT_NAMES)\n",
                "t2 = pd.read_csv('in/2009_1.tsv', delimiter='\\t', header=None, names=INPUT_NAMES)\n",
                "t3 = pd.read_csv('in/2010.tsv', delimiter='\\t', header=None, names=INPUT_NAMES)\n",
                "TRACES = [t1, t2, t3]"
            ],
            "outputs": [],
            "metadata": {}
        },
        {
            "cell_type": "code",
            "execution_count": 6,
            "source": [
                "for t in TRACES:\n",
                "  t[SUBMISSION_TIME] = t['submit_time_seconds']\n",
                "  t[START_TIME] = t['submit_time_seconds']\n",
                "  t[END_TIME] = t['submit_time_seconds'] + RUNTIME\n",
                "  t[JOB_TYPE] = 0\n",
                "  t[SOURCE] = 0\n",
                "  t[SERVER_TYPE] = 0\n",
                "  t[LOCATION] = 0"
            ],
            "outputs": [],
            "metadata": {}
        },
        {
            "cell_type": "code",
            "execution_count": 7,
            "source": [
                "t1[NAMES].to_csv('out/2009_0.csv', index=False)\n",
                "t2[NAMES].to_csv('out/2009_1.csv', index=False)\n",
                "t3[NAMES].to_csv('out/2010.csv', index=False)"
            ],
            "outputs": [],
            "metadata": {}
        }
    ],
    "metadata": {
        "orig_nbformat": 4,
        "language_info": {
            "name": "python"
        }
    },
    "nbformat": 4,
    "nbformat_minor": 2
}