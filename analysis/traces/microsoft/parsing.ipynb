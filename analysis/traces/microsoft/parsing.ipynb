{
    "cells": [
        {
            "cell_type": "code",
            "execution_count": 55,
            "source": [
                "import pandas as pd\n",
                "import numpy as np\n",
                "import time\n",
                "import ciso8601\n",
                "import json"
            ],
            "outputs": [],
            "metadata": {}
        },
        {
            "cell_type": "code",
            "execution_count": 56,
            "source": [
                "import os\n",
                "import sys\n",
                "module_path = os.path.abspath(os.path.join('..'))\n",
                "if module_path not in sys.path:\n",
                "  sys.path.append(module_path)"
            ],
            "outputs": [],
            "metadata": {}
        },
        {
            "cell_type": "code",
            "execution_count": 57,
            "source": [
                "from constants import SUBMISSION_TIME, START_TIME, END_TIME, JOB_TYPE, SOURCE, SERVER_TYPE, LOCATION, NAMES"
            ],
            "outputs": [],
            "metadata": {}
        },
        {
            "cell_type": "code",
            "execution_count": 58,
            "source": [
                "TIME_SLOT_LENGTH = 10 * 60"
            ],
            "outputs": [],
            "metadata": {}
        },
        {
            "cell_type": "code",
            "execution_count": 59,
            "source": [
                "def safe_parse_date(x: any) -> float:\n",
                "  try:\n",
                "    return time.mktime(ciso8601.parse_datetime(str(x)).timetuple())\n",
                "  except:\n",
                "    return np.NaN"
            ],
            "outputs": [],
            "metadata": {}
        },
        {
            "cell_type": "markdown",
            "source": [
                "# Jobs"
            ],
            "metadata": {}
        },
        {
            "cell_type": "code",
            "execution_count": 60,
            "source": [
                "with open('in/trace-data/cluster_job_log', 'r') as f:\n",
                "  jobs = json.load(f)"
            ],
            "outputs": [],
            "metadata": {}
        },
        {
            "cell_type": "code",
            "execution_count": 61,
            "source": [
                "def parse_job(job) -> dict:\n",
                "  attempts = job['attempts']\n",
                "  if len(attempts) > 0:\n",
                "    attempt = attempts[0]\n",
                "    attempt_info = { START_TIME: safe_parse_date(attempt['start_time']), END_TIME: safe_parse_date(attempt['end_time']) }\n",
                "  else:\n",
                "    attempt_info = {}\n",
                "  return { SUBMISSION_TIME: safe_parse_date(job['submitted_time']), **attempt_info, JOB_TYPE: 0, SOURCE: 0, SERVER_TYPE: 0, LOCATION: 0 }"
            ],
            "outputs": [],
            "metadata": {}
        },
        {
            "cell_type": "code",
            "execution_count": 62,
            "source": [
                "t = pd.DataFrame([parse_job(job) for job in jobs])\n",
                "t = t.dropna(axis='rows', subset=[SUBMISSION_TIME])\n",
                "t = t.sort_values(by=SUBMISSION_TIME)"
            ],
            "outputs": [],
            "metadata": {}
        },
        {
            "cell_type": "code",
            "execution_count": 63,
            "source": [
                "t.to_csv('out/trace.csv', index=False)"
            ],
            "outputs": [],
            "metadata": {}
        },
        {
            "cell_type": "markdown",
            "source": [
                "# Servers"
            ],
            "metadata": {}
        },
        {
            "cell_type": "code",
            "execution_count": 64,
            "source": [
                "servers = pd.read_csv('./in/trace-data/cluster_machine_list', delimiter=',')"
            ],
            "outputs": [],
            "metadata": {}
        },
        {
            "cell_type": "code",
            "execution_count": 65,
            "source": [
                "servers.groupby([' number of GPUs']).count()"
            ],
            "outputs": [
                {
                    "output_type": "execute_result",
                    "data": {
                        "text/plain": [
                            "                 machineId   single GPU mem\n",
                            " number of GPUs                            \n",
                            "2                      321              321\n",
                            "8                      231              231"
                        ],
                        "text/html": [
                            "<div>\n",
                            "<style scoped>\n",
                            "    .dataframe tbody tr th:only-of-type {\n",
                            "        vertical-align: middle;\n",
                            "    }\n",
                            "\n",
                            "    .dataframe tbody tr th {\n",
                            "        vertical-align: top;\n",
                            "    }\n",
                            "\n",
                            "    .dataframe thead th {\n",
                            "        text-align: right;\n",
                            "    }\n",
                            "</style>\n",
                            "<table border=\"1\" class=\"dataframe\">\n",
                            "  <thead>\n",
                            "    <tr style=\"text-align: right;\">\n",
                            "      <th></th>\n",
                            "      <th>machineId</th>\n",
                            "      <th>single GPU mem</th>\n",
                            "    </tr>\n",
                            "    <tr>\n",
                            "      <th>number of GPUs</th>\n",
                            "      <th></th>\n",
                            "      <th></th>\n",
                            "    </tr>\n",
                            "  </thead>\n",
                            "  <tbody>\n",
                            "    <tr>\n",
                            "      <th>2</th>\n",
                            "      <td>321</td>\n",
                            "      <td>321</td>\n",
                            "    </tr>\n",
                            "    <tr>\n",
                            "      <th>8</th>\n",
                            "      <td>231</td>\n",
                            "      <td>231</td>\n",
                            "    </tr>\n",
                            "  </tbody>\n",
                            "</table>\n",
                            "</div>"
                        ]
                    },
                    "metadata": {},
                    "execution_count": 65
                }
            ],
            "metadata": {}
        }
    ],
    "metadata": {
        "orig_nbformat": 4,
        "language_info": {
            "name": "python",
            "version": "3.8.10",
            "mimetype": "text/x-python",
            "codemirror_mode": {
                "name": "ipython",
                "version": 3
            },
            "pygments_lexer": "ipython3",
            "nbconvert_exporter": "python",
            "file_extension": ".py"
        },
        "kernelspec": {
            "name": "python3",
            "display_name": "Python 3.8.10 64-bit ('venv': venv)"
        },
        "interpreter": {
            "hash": "bfb6e60757c36aad7e076b66c35f1b7ceb420a8f6d971dc47958a23072a9b46f"
        }
    },
    "nbformat": 4,
    "nbformat_minor": 2
}