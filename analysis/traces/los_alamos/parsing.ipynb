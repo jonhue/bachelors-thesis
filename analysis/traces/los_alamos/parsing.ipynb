{
    "cells": [
        {
            "cell_type": "code",
            "execution_count": 1,
            "source": [
                "import pandas as pd\n",
                "import numpy as np\n",
                "import time\n",
                "import ciso8601"
            ],
            "outputs": [],
            "metadata": {}
        },
        {
            "cell_type": "code",
            "execution_count": 2,
            "source": [
                "import os\n",
                "import sys\n",
                "module_path = os.path.abspath(os.path.join('..'))\n",
                "if module_path not in sys.path:\n",
                "  sys.path.append(module_path)"
            ],
            "outputs": [],
            "metadata": {}
        },
        {
            "cell_type": "code",
            "execution_count": 3,
            "source": [
                "from constants import SUBMISSION_TIME, START_TIME, END_TIME, JOB_TYPE, SOURCE, SERVER_TYPE, LOCATION, NAMES"
            ],
            "outputs": [],
            "metadata": {}
        },
        {
            "cell_type": "code",
            "execution_count": 4,
            "source": [
                "TIME_SLOT_LENGTH = 10 * 60"
            ],
            "outputs": [],
            "metadata": {}
        },
        {
            "cell_type": "code",
            "execution_count": 5,
            "source": [
                "def safe_parse_date(x: any) -> float:\n",
                "  try:\n",
                "    return time.mktime(ciso8601.parse_datetime(str(x)).timetuple())\n",
                "  except:\n",
                "    return np.NaN"
            ],
            "outputs": [],
            "metadata": {}
        },
        {
            "cell_type": "markdown",
            "source": [
                "# Mustang"
            ],
            "metadata": {}
        },
        {
            "cell_type": "code",
            "execution_count": 6,
            "source": [
                "mustang = pd.read_csv('in/mustang_release_v1.0beta.csv', delimiter=',')"
            ],
            "outputs": [],
            "metadata": {}
        },
        {
            "cell_type": "code",
            "execution_count": 7,
            "source": [
                "mustang[SUBMISSION_TIME] = mustang['submit_time'].apply(lambda x: safe_parse_date(x))\n",
                "mustang[START_TIME] = mustang['start_time'].apply(lambda x: safe_parse_date(x))\n",
                "mustang[END_TIME] = mustang['end_time'].apply(lambda x: safe_parse_date(x))\n",
                "mustang[JOB_TYPE] = 0\n",
                "mustang[SOURCE] = 0\n",
                "mustang[SERVER_TYPE] = 0\n",
                "mustang[LOCATION] = 0"
            ],
            "outputs": [],
            "metadata": {}
        },
        {
            "cell_type": "code",
            "execution_count": 8,
            "source": [
                "mustang = mustang[NAMES + ['node_count']].dropna(axis='rows')"
            ],
            "outputs": [],
            "metadata": {}
        },
        {
            "cell_type": "code",
            "execution_count": 9,
            "source": [
                "mustang = mustang.sort_values(by=SUBMISSION_TIME)"
            ],
            "outputs": [],
            "metadata": {}
        },
        {
            "cell_type": "markdown",
            "source": [
                "Select jobs that are processed within one time slot."
            ],
            "metadata": {}
        },
        {
            "cell_type": "code",
            "execution_count": 69,
            "source": [
                "# mustang = mustang[mustang[END_TIME] - mustang[START_TIME] <= TIME_SLOT_LENGTH]"
            ],
            "outputs": [
                {
                    "output_type": "execute_result",
                    "data": {
                        "text/plain": [
                            "         submission_time    start_time      end_time  job_type  source  \\\n",
                            "0           1.319705e+09  1.319709e+09  1.319709e+09         0       0   \n",
                            "1           1.319709e+09  1.319709e+09  1.319709e+09         0       0   \n",
                            "2           1.319710e+09  1.319710e+09  1.319710e+09         0       0   \n",
                            "3           1.319710e+09  1.319710e+09  1.319710e+09         0       0   \n",
                            "4           1.319710e+09  1.319710e+09  1.319710e+09         0       0   \n",
                            "...                  ...           ...           ...       ...     ...   \n",
                            "2113168     1.478576e+09  1.478576e+09  1.478576e+09         0       0   \n",
                            "2113171     1.478564e+09  1.478564e+09  1.478583e+09         0       0   \n",
                            "2113172     1.478447e+09  1.478544e+09  1.478585e+09         0       0   \n",
                            "2113173     1.478394e+09  1.478544e+09  1.478585e+09         0       0   \n",
                            "2113174     1.478536e+09  1.478546e+09  1.478585e+09         0       0   \n",
                            "\n",
                            "         server_type  location  \n",
                            "0                  0         0  \n",
                            "1                  0         0  \n",
                            "2                  0         0  \n",
                            "3                  0         0  \n",
                            "4                  0         0  \n",
                            "...              ...       ...  \n",
                            "2113168            0         0  \n",
                            "2113171            0         0  \n",
                            "2113172            0         0  \n",
                            "2113173            0         0  \n",
                            "2113174            0         0  \n",
                            "\n",
                            "[2019005 rows x 7 columns]"
                        ],
                        "text/html": [
                            "<div>\n",
                            "<style scoped>\n",
                            "    .dataframe tbody tr th:only-of-type {\n",
                            "        vertical-align: middle;\n",
                            "    }\n",
                            "\n",
                            "    .dataframe tbody tr th {\n",
                            "        vertical-align: top;\n",
                            "    }\n",
                            "\n",
                            "    .dataframe thead th {\n",
                            "        text-align: right;\n",
                            "    }\n",
                            "</style>\n",
                            "<table border=\"1\" class=\"dataframe\">\n",
                            "  <thead>\n",
                            "    <tr style=\"text-align: right;\">\n",
                            "      <th></th>\n",
                            "      <th>submission_time</th>\n",
                            "      <th>start_time</th>\n",
                            "      <th>end_time</th>\n",
                            "      <th>job_type</th>\n",
                            "      <th>source</th>\n",
                            "      <th>server_type</th>\n",
                            "      <th>location</th>\n",
                            "    </tr>\n",
                            "  </thead>\n",
                            "  <tbody>\n",
                            "    <tr>\n",
                            "      <th>0</th>\n",
                            "      <td>1.319705e+09</td>\n",
                            "      <td>1.319709e+09</td>\n",
                            "      <td>1.319709e+09</td>\n",
                            "      <td>0</td>\n",
                            "      <td>0</td>\n",
                            "      <td>0</td>\n",
                            "      <td>0</td>\n",
                            "    </tr>\n",
                            "    <tr>\n",
                            "      <th>1</th>\n",
                            "      <td>1.319709e+09</td>\n",
                            "      <td>1.319709e+09</td>\n",
                            "      <td>1.319709e+09</td>\n",
                            "      <td>0</td>\n",
                            "      <td>0</td>\n",
                            "      <td>0</td>\n",
                            "      <td>0</td>\n",
                            "    </tr>\n",
                            "    <tr>\n",
                            "      <th>2</th>\n",
                            "      <td>1.319710e+09</td>\n",
                            "      <td>1.319710e+09</td>\n",
                            "      <td>1.319710e+09</td>\n",
                            "      <td>0</td>\n",
                            "      <td>0</td>\n",
                            "      <td>0</td>\n",
                            "      <td>0</td>\n",
                            "    </tr>\n",
                            "    <tr>\n",
                            "      <th>3</th>\n",
                            "      <td>1.319710e+09</td>\n",
                            "      <td>1.319710e+09</td>\n",
                            "      <td>1.319710e+09</td>\n",
                            "      <td>0</td>\n",
                            "      <td>0</td>\n",
                            "      <td>0</td>\n",
                            "      <td>0</td>\n",
                            "    </tr>\n",
                            "    <tr>\n",
                            "      <th>4</th>\n",
                            "      <td>1.319710e+09</td>\n",
                            "      <td>1.319710e+09</td>\n",
                            "      <td>1.319710e+09</td>\n",
                            "      <td>0</td>\n",
                            "      <td>0</td>\n",
                            "      <td>0</td>\n",
                            "      <td>0</td>\n",
                            "    </tr>\n",
                            "    <tr>\n",
                            "      <th>...</th>\n",
                            "      <td>...</td>\n",
                            "      <td>...</td>\n",
                            "      <td>...</td>\n",
                            "      <td>...</td>\n",
                            "      <td>...</td>\n",
                            "      <td>...</td>\n",
                            "      <td>...</td>\n",
                            "    </tr>\n",
                            "    <tr>\n",
                            "      <th>2113168</th>\n",
                            "      <td>1.478576e+09</td>\n",
                            "      <td>1.478576e+09</td>\n",
                            "      <td>1.478576e+09</td>\n",
                            "      <td>0</td>\n",
                            "      <td>0</td>\n",
                            "      <td>0</td>\n",
                            "      <td>0</td>\n",
                            "    </tr>\n",
                            "    <tr>\n",
                            "      <th>2113171</th>\n",
                            "      <td>1.478564e+09</td>\n",
                            "      <td>1.478564e+09</td>\n",
                            "      <td>1.478583e+09</td>\n",
                            "      <td>0</td>\n",
                            "      <td>0</td>\n",
                            "      <td>0</td>\n",
                            "      <td>0</td>\n",
                            "    </tr>\n",
                            "    <tr>\n",
                            "      <th>2113172</th>\n",
                            "      <td>1.478447e+09</td>\n",
                            "      <td>1.478544e+09</td>\n",
                            "      <td>1.478585e+09</td>\n",
                            "      <td>0</td>\n",
                            "      <td>0</td>\n",
                            "      <td>0</td>\n",
                            "      <td>0</td>\n",
                            "    </tr>\n",
                            "    <tr>\n",
                            "      <th>2113173</th>\n",
                            "      <td>1.478394e+09</td>\n",
                            "      <td>1.478544e+09</td>\n",
                            "      <td>1.478585e+09</td>\n",
                            "      <td>0</td>\n",
                            "      <td>0</td>\n",
                            "      <td>0</td>\n",
                            "      <td>0</td>\n",
                            "    </tr>\n",
                            "    <tr>\n",
                            "      <th>2113174</th>\n",
                            "      <td>1.478536e+09</td>\n",
                            "      <td>1.478546e+09</td>\n",
                            "      <td>1.478585e+09</td>\n",
                            "      <td>0</td>\n",
                            "      <td>0</td>\n",
                            "      <td>0</td>\n",
                            "      <td>0</td>\n",
                            "    </tr>\n",
                            "  </tbody>\n",
                            "</table>\n",
                            "<p>2019005 rows × 7 columns</p>\n",
                            "</div>"
                        ]
                    },
                    "metadata": {},
                    "execution_count": 69
                }
            ],
            "metadata": {}
        },
        {
            "cell_type": "markdown",
            "source": [
                "Repeat jobs once for each node they were assigned to."
            ],
            "metadata": {}
        },
        {
            "cell_type": "code",
            "execution_count": 10,
            "source": [
                "raw_mustang = mustang.loc[mustang.index.repeat(mustang['node_count'])]"
            ],
            "outputs": [],
            "metadata": {}
        },
        {
            "cell_type": "code",
            "execution_count": 11,
            "source": [
                "raw_mustang[NAMES].to_csv('out/mustang.csv', index=False)"
            ],
            "outputs": [],
            "metadata": {}
        },
        {
            "cell_type": "markdown",
            "source": [
                "# Trinity"
            ],
            "metadata": {}
        },
        {
            "cell_type": "code",
            "execution_count": 88,
            "source": [
                "trinity = pd.read_csv('in/trinity_formatted_release_v1.0beta.csv', delimiter=',')"
            ],
            "outputs": [],
            "metadata": {}
        },
        {
            "cell_type": "code",
            "execution_count": 89,
            "source": [
                "trinity[SUBMISSION_TIME] = trinity['submit_time'].apply(lambda x: safe_parse_date(x))\n",
                "trinity[START_TIME] = trinity['start_time'].apply(lambda x: safe_parse_date(x))\n",
                "trinity[END_TIME] = trinity['end_time'].apply(lambda x: safe_parse_date(x))\n",
                "trinity[JOB_TYPE] = 0\n",
                "trinity[SOURCE] = 0\n",
                "trinity[SERVER_TYPE] = 0\n",
                "trinity[LOCATION] = 0"
            ],
            "outputs": [],
            "metadata": {}
        },
        {
            "cell_type": "code",
            "execution_count": 90,
            "source": [
                "trinity = trinity[NAMES + ['node_count']].dropna(axis='rows')"
            ],
            "outputs": [],
            "metadata": {}
        },
        {
            "cell_type": "code",
            "execution_count": null,
            "source": [
                "trinity = trinity.sort_values(by=SUBMISSION_TIME)"
            ],
            "outputs": [],
            "metadata": {}
        },
        {
            "cell_type": "markdown",
            "source": [
                "Repeat jobs once for each node they were assigned to."
            ],
            "metadata": {}
        },
        {
            "cell_type": "code",
            "execution_count": 91,
            "source": [
                "raw_trinity = trinity.loc[trinity.index.repeat(trinity['node_count'])]"
            ],
            "outputs": [],
            "metadata": {}
        },
        {
            "cell_type": "code",
            "execution_count": 92,
            "source": [
                "raw_trinity[NAMES].to_csv('out/trinity.csv', index=False)"
            ],
            "outputs": [],
            "metadata": {}
        }
    ],
    "metadata": {
        "orig_nbformat": 4,
        "language_info": {
            "name": "python",
            "version": "3.8.10",
            "mimetype": "text/x-python",
            "codemirror_mode": {
                "name": "ipython",
                "version": 3
            },
            "pygments_lexer": "ipython3",
            "nbconvert_exporter": "python",
            "file_extension": ".py"
        },
        "kernelspec": {
            "name": "python3",
            "display_name": "Python 3.8.10 64-bit ('venv': venv)"
        },
        "interpreter": {
            "hash": "bfb6e60757c36aad7e076b66c35f1b7ceb420a8f6d971dc47958a23072a9b46f"
        }
    },
    "nbformat": 4,
    "nbformat_minor": 2
}