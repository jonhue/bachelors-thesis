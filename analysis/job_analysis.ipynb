{
 "cells": [
  {
   "cell_type": "code",
   "execution_count": 181,
   "source": [
    "import pandas as pd\n",
    "import numpy as np\n",
    "import seaborn as sb\n",
    "import matplotlib.pyplot as plt\n",
    "from math import floor"
   ],
   "outputs": [],
   "metadata": {}
  },
  {
   "cell_type": "code",
   "execution_count": 182,
   "source": [
    "from traces.constants import SUBMISSION_TIME, START_TIME, END_TIME, JOB_TYPE, SOURCE\n",
    "from utils import timedelta, summarize_distribution, distance_distribution"
   ],
   "outputs": [],
   "metadata": {}
  },
  {
   "cell_type": "markdown",
   "source": [
    "# Inputs"
   ],
   "metadata": {}
  },
  {
   "cell_type": "code",
   "execution_count": 183,
   "source": [
    "TRACE = 'traces/facebook/out/2009_1.csv'\n",
    "\n",
    "# # (unix) timestamp of time offset\n",
    "# INITIAL_TIME = 1247270400\n",
    "\n",
    "# time slot length, used for plotting and estimation of some statistics (e.g. PMR)\n",
    "DELTA = 60 * 60"
   ],
   "outputs": [],
   "metadata": {}
  },
  {
   "cell_type": "markdown",
   "source": [
    "# Analysis"
   ],
   "metadata": {}
  },
  {
   "cell_type": "code",
   "execution_count": 184,
   "source": [
    "t = pd.read_csv(TRACE)"
   ],
   "outputs": [],
   "metadata": {}
  },
  {
   "cell_type": "markdown",
   "source": [
    "## Number of jobs"
   ],
   "metadata": {}
  },
  {
   "cell_type": "code",
   "execution_count": 185,
   "source": [
    "number_of_jobs = t.shape[0]\n",
    "number_of_jobs"
   ],
   "outputs": [
    {
     "output_type": "execute_result",
     "data": {
      "text/plain": [
       "6638"
      ]
     },
     "metadata": {},
     "execution_count": 185
    }
   ],
   "metadata": {}
  },
  {
   "cell_type": "markdown",
   "source": [
    "## Number of job types"
   ],
   "metadata": {}
  },
  {
   "cell_type": "code",
   "execution_count": 186,
   "source": [
    "number_of_job_types = t[[JOB_TYPE, SOURCE]].nunique()\n",
    "number_of_job_types"
   ],
   "outputs": [
    {
     "output_type": "execute_result",
     "data": {
      "text/plain": [
       "job_type    1\n",
       "source      1\n",
       "dtype: int64"
      ]
     },
     "metadata": {},
     "execution_count": 186
    }
   ],
   "metadata": {}
  },
  {
   "cell_type": "markdown",
   "source": [
    "## Duration"
   ],
   "metadata": {}
  },
  {
   "cell_type": "code",
   "execution_count": 187,
   "source": [
    "final_submission_time = t.iloc[-1][SUBMISSION_TIME]\n",
    "duration = timedelta(final_submission_time)\n",
    "duration"
   ],
   "outputs": [
    {
     "output_type": "execute_result",
     "data": {
      "text/plain": [
       "TimeDelta(d=1, h=0, m=0, s=2)"
      ]
     },
     "metadata": {},
     "execution_count": 187
    }
   ],
   "metadata": {}
  },
  {
   "cell_type": "markdown",
   "source": [
    "## Interarrival rate / submission rate"
   ],
   "metadata": {}
  },
  {
   "cell_type": "code",
   "execution_count": 188,
   "source": [
    "interarrival_times = distance_distribution(t[SUBMISSION_TIME])\n",
    "sb.ecdfplot(interarrival_times)\n",
    "plt.xlabel('interarrival time (seconds)')\n",
    "plt.ylabel('proportion')\n",
    "summary = summarize_distribution(interarrival_times)\n",
    "\n",
    "# sanity check\n",
    "assert np.absolute(summary.mean - final_submission_time / number_of_jobs) < 1\n",
    "\n",
    "summary"
   ],
   "outputs": [
    {
     "output_type": "execute_result",
     "data": {
      "text/plain": [
       "DistributionSummary(mean=13.016269960831576, median=7.0, modes=array([1]), std=22.286200641097448, mad=5.0, min_=0, p25=3.0, p75=15.0, max_=761)"
      ]
     },
     "metadata": {},
     "execution_count": 188
    },
    {
     "output_type": "display_data",
     "data": {
      "text/plain": [
       "<Figure size 432x288 with 1 Axes>"
      ],
      "image/png": "[encoded data removed]"
     },
     "metadata": {
      "needs_background": "light"
     }
    }
   ],
   "metadata": {}
  },
  {
   "cell_type": "markdown",
   "source": [
    "## Load profiles"
   ],
   "metadata": {}
  },
  {
   "cell_type": "code",
   "execution_count": 189,
   "source": [
    "fig = sb.histplot(t[SUBMISSION_TIME], binwidth=DELTA)\n",
    "xticks = np.round(np.linspace(0, np.round(final_submission_time / DELTA), num=4, endpoint=False))\n",
    "plt.xticks(xticks * DELTA, xticks)\n",
    "plt.xlabel('time (time slots)')\n",
    "plt.ylabel('load')\n",
    "\n",
    "loads = np.array([h.get_height() for h in fig.patches])\n",
    "summarize_distribution(loads)"
   ],
   "outputs": [
    {
     "output_type": "execute_result",
     "data": {
      "text/plain": [
       "DistributionSummary(mean=276.5833333333333, median=232.5, modes=array([78]), std=121.05505519757897, mad=52.5, min_=78, p25=207.75, p75=308.5, max_=575)"
      ]
     },
     "metadata": {},
     "execution_count": 189
    },
    {
     "output_type": "display_data",
     "data": {
      "text/plain": [
       "<Figure size 432x288 with 1 Axes>"
      ],
      "image/png": "[encoded data removed]"
     },
     "metadata": {
      "needs_background": "light"
     }
    }
   ],
   "metadata": {}
  },
  {
   "cell_type": "markdown",
   "source": [
    "## Peak to mean ratio"
   ],
   "metadata": {}
  },
  {
   "cell_type": "code",
   "execution_count": 190,
   "source": [
    "loads.max() / loads.mean()"
   ],
   "outputs": [
    {
     "output_type": "execute_result",
     "data": {
      "text/plain": [
       "2.078939439590238"
      ]
     },
     "metadata": {},
     "execution_count": 190
    }
   ],
   "metadata": {}
  },
  {
   "cell_type": "markdown",
   "source": [
    "### Peak distance\n",
    "\n",
    "Distance between peaks. A peak is a time slot with load greater than the 0.75-quantile."
   ],
   "metadata": {}
  },
  {
   "cell_type": "code",
   "execution_count": 191,
   "source": [
    "peaks = np.argwhere(loads > np.quantile(loads, 0.75))\n",
    "peak_distances = distance_distribution(peaks)\n",
    "sb.ecdfplot(peak_distances)\n",
    "plt.xlabel('peak distance (time slots)')\n",
    "plt.ylabel('proportion')\n",
    "summarize_distribution(peak_distances)"
   ],
   "outputs": [
    {
     "output_type": "execute_result",
     "data": {
      "text/plain": [
       "DistributionSummary(mean=3.8333333333333335, median=3.5, modes=array([[1]]), std=2.852873794770615, mad=array([2.]), min_=1, p25=1.25, p75=5.0, max_=9)"
      ]
     },
     "metadata": {},
     "execution_count": 191
    },
    {
     "output_type": "display_data",
     "data": {
      "text/plain": [
       "<Figure size 432x288 with 1 Axes>"
      ],
      "image/png": "[encoded data removed]"
     },
     "metadata": {
      "needs_background": "light"
     }
    }
   ],
   "metadata": {}
  },
  {
   "cell_type": "markdown",
   "source": [
    "### Valley length\n",
    "\n",
    "Number of time slots up to each time slot with a smaller load."
   ],
   "metadata": {}
  },
  {
   "cell_type": "code",
   "execution_count": 192,
   "source": [
    "valley_lengths = np.array([i - (np.argwhere(loads[:i] >= loads[i]).max(initial=-1)) - 1 for i in range(loads.shape[0])])\n",
    "sb.ecdfplot(valley_lengths)\n",
    "plt.xlabel('valley length (time slots)')\n",
    "plt.ylabel('proportion')\n",
    "summarize_distribution(valley_lengths)"
   ],
   "outputs": [
    {
     "output_type": "execute_result",
     "data": {
      "text/plain": [
       "DistributionSummary(mean=1.5, median=0.0, modes=array([0]), std=2.4324199198877374, mad=0.0, min_=0, p25=0.0, p75=2.0, max_=9)"
      ]
     },
     "metadata": {},
     "execution_count": 192
    },
    {
     "output_type": "display_data",
     "data": {
      "text/plain": [
       "<Figure size 432x288 with 1 Axes>"
      ],
      "image/png": "[encoded data removed]"
     },
     "metadata": {
      "needs_background": "light"
     }
    }
   ],
   "metadata": {}
  },
  {
   "cell_type": "markdown",
   "source": [
    "### Diurnal pattern\n",
    "\n",
    "Loads follow a diurnal pattern if during every 24 hour period (excluding the first day) there is at least one time slot with a valley length greater or equals to 12 hours."
   ],
   "metadata": {}
  },
  {
   "cell_type": "code",
   "execution_count": 193,
   "source": [
    "TIME_SLOTS_PER_DAY = floor(DELTA / (24 * 60 * 60))\n",
    "if duration.d > 1:\n",
    "  print(np.array([np.array([valley_lengths[i * TIME_SLOTS_PER_DAY + j] >= 12 for j in range(24)]).any() for i in range(1, floor(valley_lengths.shape[0] / TIME_SLOTS_PER_DAY))]).all())\n",
    "else:\n",
    "  print('trace is too short')"
   ],
   "outputs": [
    {
     "output_type": "stream",
     "name": "stdout",
     "text": [
      "trace is too short\n"
     ]
    }
   ],
   "metadata": {}
  },
  {
   "cell_type": "markdown",
   "source": [
    "## Job duration"
   ],
   "metadata": {}
  },
  {
   "cell_type": "code",
   "execution_count": 194,
   "source": [
    "runtime = t[END_TIME] - t[START_TIME]\n",
    "sb.ecdfplot(runtime)\n",
    "plt.xlabel('runtime (seconds)')\n",
    "plt.ylabel('proportion')\n",
    "summarize_distribution(runtime.to_numpy())"
   ],
   "outputs": [
    {
     "output_type": "execute_result",
     "data": {
      "text/plain": [
       "DistributionSummary(mean=1.0, median=1.0, modes=array([1]), std=0.0, mad=0.0, min_=1, p25=1.0, p75=1.0, max_=1)"
      ]
     },
     "metadata": {},
     "execution_count": 194
    },
    {
     "output_type": "display_data",
     "data": {
      "text/plain": [
       "<Figure size 432x288 with 1 Axes>"
      ],
      "image/png": "[encoded data removed]"
     },
     "metadata": {
      "needs_background": "light"
     }
    }
   ],
   "metadata": {}
  },
  {
   "cell_type": "markdown",
   "source": [
    "## Scheduling rate / queueing delay"
   ],
   "metadata": {}
  },
  {
   "cell_type": "code",
   "execution_count": 195,
   "source": [
    "queueing_delay = t[START_TIME] - t[SUBMISSION_TIME]\n",
    "sb.ecdfplot(queueing_delay)\n",
    "plt.xlabel('delay (seconds)')\n",
    "plt.ylabel('proportion')\n",
    "summarize_distribution(queueing_delay.to_numpy())"
   ],
   "outputs": [
    {
     "output_type": "execute_result",
     "data": {
      "text/plain": [
       "DistributionSummary(mean=0.0, median=0.0, modes=array([0]), std=0.0, mad=0.0, min_=0, p25=0.0, p75=0.0, max_=0)"
      ]
     },
     "metadata": {},
     "execution_count": 195
    },
    {
     "output_type": "display_data",
     "data": {
      "text/plain": [
       "<Figure size 432x288 with 1 Axes>"
      ],
      "image/png": "[encoded data removed]"
     },
     "metadata": {
      "needs_background": "light"
     }
    }
   ],
   "metadata": {}
  }
 ],
 "metadata": {
  "orig_nbformat": 4,
  "language_info": {
   "name": "python"
  }
 },
 "nbformat": 4,
 "nbformat_minor": 2
}